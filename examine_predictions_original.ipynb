{
 "cells": [
  {
   "cell_type": "markdown",
   "id": "smart-vintage",
   "metadata": {},
   "source": [
    "# Examen des prédictions du modèle original sur les séquences de test"
   ]
  },
  {
   "cell_type": "code",
   "execution_count": 1,
   "id": "relevant-header",
   "metadata": {},
   "outputs": [],
   "source": [
    "import json\n",
    "import numpy as np\n",
    "import pandas as pd\n",
    "import sklearn"
   ]
  },
  {
   "cell_type": "code",
   "execution_count": 2,
   "id": "mature-syndication",
   "metadata": {},
   "outputs": [],
   "source": [
    "import h5py\n",
    "import cooler"
   ]
  },
  {
   "cell_type": "code",
   "execution_count": 10,
   "id": "loving-painting",
   "metadata": {},
   "outputs": [],
   "source": [
    "from basenji import dataset"
   ]
  },
  {
   "cell_type": "code",
   "execution_count": 3,
   "id": "appreciated-hanging",
   "metadata": {},
   "outputs": [],
   "source": [
    "import matplotlib.pyplot as plt"
   ]
  },
  {
   "cell_type": "code",
   "execution_count": 4,
   "id": "described-driving",
   "metadata": {},
   "outputs": [],
   "source": [
    "predpath = \"/home/bureau/projects/def-bureau/bureau/ran-donnees/PredictNeuronHi-C/akita_pred_test/\"\n",
    "predfile = predpath + \"preds.h5\""
   ]
  },
  {
   "cell_type": "code",
   "execution_count": 5,
   "id": "standing-water",
   "metadata": {},
   "outputs": [
    {
     "data": {
      "text/plain": [
       "<HDF5 file \"preds.h5\" (mode r)>"
      ]
     },
     "execution_count": 5,
     "metadata": {},
     "output_type": "execute_result"
    }
   ],
   "source": [
    "pred = h5py.File(predfile, 'r')\n",
    "pred"
   ]
  },
  {
   "cell_type": "code",
   "execution_count": 6,
   "id": "fundamental-police",
   "metadata": {},
   "outputs": [
    {
     "data": {
      "text/plain": [
       "<KeysViewHDF5 ['preds']>"
      ]
     },
     "execution_count": 6,
     "metadata": {},
     "output_type": "execute_result"
    }
   ],
   "source": [
    "pred.keys()"
   ]
  },
  {
   "cell_type": "code",
   "execution_count": 8,
   "id": "false-caribbean",
   "metadata": {},
   "outputs": [
    {
     "data": {
      "text/plain": [
       "(6668, 99681, 5)"
      ]
     },
     "execution_count": 8,
     "metadata": {},
     "output_type": "execute_result"
    }
   ],
   "source": [
    "pred['preds'].shape"
   ]
  },
  {
   "cell_type": "code",
   "execution_count": 11,
   "id": "earned-rainbow",
   "metadata": {},
   "outputs": [],
   "source": [
    "#targetfile = \"/home/bureau/projects/def-bureau/bureau/distiller/iPSC/data/1s/seqs_cov/0.h5\"\n",
    "data_dir = \"/home/bureau/projects/def-bureau/bureau/distiller/iPSC/data/1s/\"\n",
    "test_data = dataset.SeqDataset(data_dir, 'test', batch_size=8)"
   ]
  },
  {
   "cell_type": "code",
   "execution_count": 12,
   "id": "ultimate-pasta",
   "metadata": {},
   "outputs": [],
   "source": [
    "# Les données de tests sont les 6668 (pred['preds'].shape[0]) dernières\n",
    "#test_targets = targets['targets'][targets['targets'].shape[0]-pred['preds'].shape[0]:,]\n",
    "test_targets = test_data.numpy(return_inputs=False, return_outputs=True)"
   ]
  },
  {
   "cell_type": "code",
   "execution_count": 13,
   "id": "saving-control",
   "metadata": {},
   "outputs": [
    {
     "data": {
      "text/plain": [
       "(6668, 99681, 1)"
      ]
     },
     "execution_count": 13,
     "metadata": {},
     "output_type": "execute_result"
    }
   ],
   "source": [
    "test_targets.shape"
   ]
  },
  {
   "cell_type": "code",
   "execution_count": 16,
   "id": "reverse-exhibit",
   "metadata": {},
   "outputs": [
    {
     "data": {
      "image/png": "[encoded data removed]",
      "text/plain": [
       "<Figure size 432x288 with 1 Axes>"
      ]
     },
     "metadata": {
      "needs_background": "light"
     },
     "output_type": "display_data"
    }
   ],
   "source": [
    "for i in range(5):\n",
    "    plt.scatter(pred['preds'][0,:,i], test_targets[0,:,0])\n",
    "plt.show()"
   ]
  },
  {
   "cell_type": "markdown",
   "id": "talented-pantyhose",
   "metadata": {},
   "source": [
    "## Calcul de l'erreur quadratique moyenne par lignée cellulaire utilisée pour la prédiction"
   ]
  },
  {
   "cell_type": "code",
   "execution_count": 14,
   "id": "inappropriate-footwear",
   "metadata": {},
   "outputs": [],
   "source": [
    "from sklearn.metrics import mean_squared_error\n",
    "mse_orig = []\n",
    "for i in range(pred['preds'].shape[2]):\n",
    "    mse_orig.append(mean_squared_error(test_targets[:,:,0],pred['preds'][:,:,i]))"
   ]
  },
  {
   "cell_type": "code",
   "execution_count": 15,
   "id": "nonprofit-edition",
   "metadata": {},
   "outputs": [
    {
     "data": {
      "text/plain": [
       "[0.264, 0.2491, 0.2441, 0.2554, 0.254]"
      ]
     },
     "metadata": {},
     "output_type": "display_data"
    }
   ],
   "source": [
    "display(mse_orig)"
   ]
  },
  {
   "cell_type": "markdown",
   "id": "polar-completion",
   "metadata": {},
   "source": [
    "## Calcul de l'erreur quadratique moyenne par lignée cellulaire pour chaque séquence de 1Mb"
   ]
  },
  {
   "cell_type": "code",
   "execution_count": 19,
   "id": "muslim-resident",
   "metadata": {},
   "outputs": [
    {
     "name": "stdout",
     "output_type": "stream",
     "text": [
      "The history saving thread hit an unexpected error (OperationalError('database is locked')).History will not be written to the database.\n"
     ]
    }
   ],
   "source": [
    "mse_orig_seq = np.zeros((pred['preds'].shape[0],pred['preds'].shape[2]))\n",
    "for i in range(pred['preds'].shape[2]):\n",
    "    for j in range(pred['preds'].shape[0]):\n",
    "        mse_orig_seq[j,i] = mean_squared_error(test_targets[j,:,0],pred['preds'][j,:,i])"
   ]
  },
  {
   "cell_type": "code",
   "execution_count": 20,
   "id": "stupid-indication",
   "metadata": {},
   "outputs": [
    {
     "data": {
      "text/html": [
       "<div>\n",
       "<style scoped>\n",
       "    .dataframe tbody tr th:only-of-type {\n",
       "        vertical-align: middle;\n",
       "    }\n",
       "\n",
       "    .dataframe tbody tr th {\n",
       "        vertical-align: top;\n",
       "    }\n",
       "\n",
       "    .dataframe thead th {\n",
       "        text-align: right;\n",
       "    }\n",
       "</style>\n",
       "<table border=\"1\" class=\"dataframe\">\n",
       "  <thead>\n",
       "    <tr style=\"text-align: right;\">\n",
       "      <th></th>\n",
       "      <th>index</th>\n",
       "      <th>identifier</th>\n",
       "      <th>file</th>\n",
       "      <th>clip</th>\n",
       "      <th>description</th>\n",
       "    </tr>\n",
       "  </thead>\n",
       "  <tbody>\n",
       "    <tr>\n",
       "      <th>0</th>\n",
       "      <td>0</td>\n",
       "      <td>HFF</td>\n",
       "      <td>../../data/coolers/Krietenstein2019/HFF_hg38_4...</td>\n",
       "      <td>2</td>\n",
       "      <td>HFF</td>\n",
       "    </tr>\n",
       "    <tr>\n",
       "      <th>1</th>\n",
       "      <td>1</td>\n",
       "      <td>H1hESC</td>\n",
       "      <td>../../data/coolers/Krietenstein2019/H1hESC_hg3...</td>\n",
       "      <td>2</td>\n",
       "      <td>H1hESC</td>\n",
       "    </tr>\n",
       "    <tr>\n",
       "      <th>2</th>\n",
       "      <td>2</td>\n",
       "      <td>GM12878</td>\n",
       "      <td>../../data/coolers/Rao2014/GM12878_inSitu_MboI...</td>\n",
       "      <td>2</td>\n",
       "      <td>GM12878</td>\n",
       "    </tr>\n",
       "    <tr>\n",
       "      <th>3</th>\n",
       "      <td>3</td>\n",
       "      <td>IMR90</td>\n",
       "      <td>../../data/coolers/Rao2014/IMR90_inSitu_MboI_a...</td>\n",
       "      <td>2</td>\n",
       "      <td>IMR90</td>\n",
       "    </tr>\n",
       "    <tr>\n",
       "      <th>4</th>\n",
       "      <td>4</td>\n",
       "      <td>HCT116</td>\n",
       "      <td>../../data/coolers/Rao2017/Unsynchronized_all....</td>\n",
       "      <td>2</td>\n",
       "      <td>HCT116</td>\n",
       "    </tr>\n",
       "  </tbody>\n",
       "</table>\n",
       "</div>"
      ],
      "text/plain": [
       "   index identifier                                               file  clip  \\\n",
       "0      0        HFF  ../../data/coolers/Krietenstein2019/HFF_hg38_4...     2   \n",
       "1      1     H1hESC  ../../data/coolers/Krietenstein2019/H1hESC_hg3...     2   \n",
       "2      2    GM12878  ../../data/coolers/Rao2014/GM12878_inSitu_MboI...     2   \n",
       "3      3      IMR90  ../../data/coolers/Rao2014/IMR90_inSitu_MboI_a...     2   \n",
       "4      4     HCT116  ../../data/coolers/Rao2017/Unsynchronized_all....     2   \n",
       "\n",
       "  description  \n",
       "0         HFF  \n",
       "1      H1hESC  \n",
       "2     GM12878  \n",
       "3       IMR90  \n",
       "4      HCT116  "
      ]
     },
     "execution_count": 20,
     "metadata": {},
     "output_type": "execute_result"
    }
   ],
   "source": [
    "hic_targets = pd.read_csv('/home/bureau/projects/def-bureau/basenji/manuscripts/akita/data/targets.txt',sep='\\t')\n",
    "hic_targets"
   ]
  },
  {
   "cell_type": "code",
   "execution_count": 21,
   "id": "timely-hearts",
   "metadata": {},
   "outputs": [
    {
     "data": {
      "text/html": [
       "<div>\n",
       "<style scoped>\n",
       "    .dataframe tbody tr th:only-of-type {\n",
       "        vertical-align: middle;\n",
       "    }\n",
       "\n",
       "    .dataframe tbody tr th {\n",
       "        vertical-align: top;\n",
       "    }\n",
       "\n",
       "    .dataframe thead th {\n",
       "        text-align: right;\n",
       "    }\n",
       "</style>\n",
       "<table border=\"1\" class=\"dataframe\">\n",
       "  <thead>\n",
       "    <tr style=\"text-align: right;\">\n",
       "      <th>identifier</th>\n",
       "      <th>HFF</th>\n",
       "      <th>H1hESC</th>\n",
       "      <th>GM12878</th>\n",
       "      <th>IMR90</th>\n",
       "      <th>HCT116</th>\n",
       "    </tr>\n",
       "  </thead>\n",
       "  <tbody>\n",
       "    <tr>\n",
       "      <th>0</th>\n",
       "      <td>0.160034</td>\n",
       "      <td>0.152710</td>\n",
       "      <td>0.182983</td>\n",
       "      <td>0.167480</td>\n",
       "      <td>0.192261</td>\n",
       "    </tr>\n",
       "    <tr>\n",
       "      <th>1</th>\n",
       "      <td>0.127441</td>\n",
       "      <td>0.130371</td>\n",
       "      <td>0.127075</td>\n",
       "      <td>0.126343</td>\n",
       "      <td>0.127319</td>\n",
       "    </tr>\n",
       "    <tr>\n",
       "      <th>2</th>\n",
       "      <td>0.530762</td>\n",
       "      <td>0.413330</td>\n",
       "      <td>0.311768</td>\n",
       "      <td>0.530762</td>\n",
       "      <td>0.309326</td>\n",
       "    </tr>\n",
       "    <tr>\n",
       "      <th>3</th>\n",
       "      <td>0.270264</td>\n",
       "      <td>0.201782</td>\n",
       "      <td>0.179688</td>\n",
       "      <td>0.261963</td>\n",
       "      <td>0.168701</td>\n",
       "    </tr>\n",
       "    <tr>\n",
       "      <th>4</th>\n",
       "      <td>0.213379</td>\n",
       "      <td>0.182251</td>\n",
       "      <td>0.169922</td>\n",
       "      <td>0.194824</td>\n",
       "      <td>0.169067</td>\n",
       "    </tr>\n",
       "    <tr>\n",
       "      <th>...</th>\n",
       "      <td>...</td>\n",
       "      <td>...</td>\n",
       "      <td>...</td>\n",
       "      <td>...</td>\n",
       "      <td>...</td>\n",
       "    </tr>\n",
       "    <tr>\n",
       "      <th>6663</th>\n",
       "      <td>0.241333</td>\n",
       "      <td>0.199463</td>\n",
       "      <td>0.167358</td>\n",
       "      <td>0.232666</td>\n",
       "      <td>0.163940</td>\n",
       "    </tr>\n",
       "    <tr>\n",
       "      <th>6664</th>\n",
       "      <td>0.244995</td>\n",
       "      <td>0.234375</td>\n",
       "      <td>0.201904</td>\n",
       "      <td>0.227661</td>\n",
       "      <td>0.192871</td>\n",
       "    </tr>\n",
       "    <tr>\n",
       "      <th>6665</th>\n",
       "      <td>0.229980</td>\n",
       "      <td>0.171997</td>\n",
       "      <td>0.155640</td>\n",
       "      <td>0.213745</td>\n",
       "      <td>0.146851</td>\n",
       "    </tr>\n",
       "    <tr>\n",
       "      <th>6666</th>\n",
       "      <td>0.203003</td>\n",
       "      <td>0.191040</td>\n",
       "      <td>0.209229</td>\n",
       "      <td>0.195557</td>\n",
       "      <td>0.226562</td>\n",
       "    </tr>\n",
       "    <tr>\n",
       "      <th>6667</th>\n",
       "      <td>0.203125</td>\n",
       "      <td>0.197876</td>\n",
       "      <td>0.203369</td>\n",
       "      <td>0.203979</td>\n",
       "      <td>0.211426</td>\n",
       "    </tr>\n",
       "  </tbody>\n",
       "</table>\n",
       "<p>6668 rows × 5 columns</p>\n",
       "</div>"
      ],
      "text/plain": [
       "identifier       HFF    H1hESC   GM12878     IMR90    HCT116\n",
       "0           0.160034  0.152710  0.182983  0.167480  0.192261\n",
       "1           0.127441  0.130371  0.127075  0.126343  0.127319\n",
       "2           0.530762  0.413330  0.311768  0.530762  0.309326\n",
       "3           0.270264  0.201782  0.179688  0.261963  0.168701\n",
       "4           0.213379  0.182251  0.169922  0.194824  0.169067\n",
       "...              ...       ...       ...       ...       ...\n",
       "6663        0.241333  0.199463  0.167358  0.232666  0.163940\n",
       "6664        0.244995  0.234375  0.201904  0.227661  0.192871\n",
       "6665        0.229980  0.171997  0.155640  0.213745  0.146851\n",
       "6666        0.203003  0.191040  0.209229  0.195557  0.226562\n",
       "6667        0.203125  0.197876  0.203369  0.203979  0.211426\n",
       "\n",
       "[6668 rows x 5 columns]"
      ]
     },
     "execution_count": 21,
     "metadata": {},
     "output_type": "execute_result"
    }
   ],
   "source": [
    "mse_orig_dat = pd.DataFrame(mse_orig_seq,columns=hic_targets['identifier'])\n",
    "mse_orig_dat"
   ]
  },
  {
   "cell_type": "code",
   "execution_count": 22,
   "id": "entire-finish",
   "metadata": {},
   "outputs": [
    {
     "data": {
      "text/plain": [
       "identifier\n",
       "HFF        0.263857\n",
       "H1hESC     0.249176\n",
       "GM12878    0.244110\n",
       "IMR90      0.255425\n",
       "HCT116     0.253856\n",
       "dtype: float64"
      ]
     },
     "execution_count": 22,
     "metadata": {},
     "output_type": "execute_result"
    }
   ],
   "source": [
    "#mse_var = map(lambda x : x.var(), list(mse_orig_dat.columns))\n",
    "mse_orig_dat.mean()"
   ]
  },
  {
   "cell_type": "code",
   "execution_count": 23,
   "id": "virtual-fighter",
   "metadata": {},
   "outputs": [],
   "source": [
    "mse_orig_dat.to_csv(\"mse_orig_dat.csv\")"
   ]
  },
  {
   "cell_type": "code",
   "execution_count": 24,
   "id": "quick-intranet",
   "metadata": {},
   "outputs": [
    {
     "data": {
      "image/png": "[encoded data removed]",
      "text/plain": [
       "<Figure size 432x288 with 1 Axes>"
      ]
     },
     "metadata": {
      "needs_background": "light"
     },
     "output_type": "display_data"
    }
   ],
   "source": [
    "mse_orig_tr = mse_orig_seq.transpose()\n",
    "for i in range(len(mse_orig_tr)) :\n",
    "    plt.hist(np.log10(mse_orig_tr[i]),alpha=0.7)\n",
    "plt.show()"
   ]
  },
  {
   "cell_type": "code",
   "execution_count": 17,
   "id": "industrial-briefs",
   "metadata": {},
   "outputs": [],
   "source": [
    "from sklearn.metrics import explained_variance_score\n",
    "r2_orig = []\n",
    "for i in range(pred['preds'].shape[2]):\n",
    "    r2_orig.append(explained_variance_score(test_targets[:,:,0],pred['preds'][:,:,i]))"
   ]
  },
  {
   "cell_type": "code",
   "execution_count": 18,
   "id": "union-secondary",
   "metadata": {},
   "outputs": [
    {
     "data": {
      "text/plain": [
       "[0.15974368391418625,\n",
       " 0.20205152189390405,\n",
       " 0.2205316404643312,\n",
       " 0.1867933561577056,\n",
       " 0.1983225120948325]"
      ]
     },
     "metadata": {},
     "output_type": "display_data"
    }
   ],
   "source": [
    "display(r2_orig)"
   ]
  },
  {
   "cell_type": "code",
   "execution_count": 25,
   "id": "dietary-italian",
   "metadata": {},
   "outputs": [],
   "source": [
    "r2_orig_seq = np.zeros((pred['preds'].shape[0],pred['preds'].shape[2]))\n",
    "for i in range(pred['preds'].shape[2]):\n",
    "    for j in range(pred['preds'].shape[0]):\n",
    "        r2_orig_seq[j,i] = explained_variance_score(test_targets[j,],pred['preds'][j,:,i])"
   ]
  },
  {
   "cell_type": "code",
   "execution_count": 26,
   "id": "extraordinary-journalist",
   "metadata": {},
   "outputs": [
    {
     "data": {
      "text/html": [
       "<div>\n",
       "<style scoped>\n",
       "    .dataframe tbody tr th:only-of-type {\n",
       "        vertical-align: middle;\n",
       "    }\n",
       "\n",
       "    .dataframe tbody tr th {\n",
       "        vertical-align: top;\n",
       "    }\n",
       "\n",
       "    .dataframe thead th {\n",
       "        text-align: right;\n",
       "    }\n",
       "</style>\n",
       "<table border=\"1\" class=\"dataframe\">\n",
       "  <thead>\n",
       "    <tr style=\"text-align: right;\">\n",
       "      <th>identifier</th>\n",
       "      <th>HFF</th>\n",
       "      <th>H1hESC</th>\n",
       "      <th>GM12878</th>\n",
       "      <th>IMR90</th>\n",
       "      <th>HCT116</th>\n",
       "    </tr>\n",
       "  </thead>\n",
       "  <tbody>\n",
       "    <tr>\n",
       "      <th>0</th>\n",
       "      <td>0.308105</td>\n",
       "      <td>0.335449</td>\n",
       "      <td>0.202637</td>\n",
       "      <td>0.273438</td>\n",
       "      <td>0.182129</td>\n",
       "    </tr>\n",
       "    <tr>\n",
       "      <th>1</th>\n",
       "      <td>0.090332</td>\n",
       "      <td>0.069336</td>\n",
       "      <td>0.095215</td>\n",
       "      <td>0.098145</td>\n",
       "      <td>0.088379</td>\n",
       "    </tr>\n",
       "    <tr>\n",
       "      <th>2</th>\n",
       "      <td>-0.036133</td>\n",
       "      <td>0.060547</td>\n",
       "      <td>0.101074</td>\n",
       "      <td>-0.042969</td>\n",
       "      <td>0.125977</td>\n",
       "    </tr>\n",
       "    <tr>\n",
       "      <th>3</th>\n",
       "      <td>-0.214844</td>\n",
       "      <td>0.074707</td>\n",
       "      <td>0.128906</td>\n",
       "      <td>-0.160156</td>\n",
       "      <td>0.175781</td>\n",
       "    </tr>\n",
       "    <tr>\n",
       "      <th>4</th>\n",
       "      <td>0.063965</td>\n",
       "      <td>0.194336</td>\n",
       "      <td>0.225098</td>\n",
       "      <td>0.134277</td>\n",
       "      <td>0.229004</td>\n",
       "    </tr>\n",
       "    <tr>\n",
       "      <th>...</th>\n",
       "      <td>...</td>\n",
       "      <td>...</td>\n",
       "      <td>...</td>\n",
       "      <td>...</td>\n",
       "      <td>...</td>\n",
       "    </tr>\n",
       "    <tr>\n",
       "      <th>6663</th>\n",
       "      <td>0.065918</td>\n",
       "      <td>0.179199</td>\n",
       "      <td>0.295898</td>\n",
       "      <td>0.087891</td>\n",
       "      <td>0.305176</td>\n",
       "    </tr>\n",
       "    <tr>\n",
       "      <th>6664</th>\n",
       "      <td>-0.317383</td>\n",
       "      <td>-0.270508</td>\n",
       "      <td>-0.093750</td>\n",
       "      <td>-0.230469</td>\n",
       "      <td>-0.045898</td>\n",
       "    </tr>\n",
       "    <tr>\n",
       "      <th>6665</th>\n",
       "      <td>-0.197266</td>\n",
       "      <td>0.031250</td>\n",
       "      <td>0.114258</td>\n",
       "      <td>-0.113281</td>\n",
       "      <td>0.147461</td>\n",
       "    </tr>\n",
       "    <tr>\n",
       "      <th>6666</th>\n",
       "      <td>0.518066</td>\n",
       "      <td>0.529297</td>\n",
       "      <td>0.481445</td>\n",
       "      <td>0.535156</td>\n",
       "      <td>0.437988</td>\n",
       "    </tr>\n",
       "    <tr>\n",
       "      <th>6667</th>\n",
       "      <td>0.043945</td>\n",
       "      <td>0.065918</td>\n",
       "      <td>0.029297</td>\n",
       "      <td>0.034668</td>\n",
       "      <td>0.017578</td>\n",
       "    </tr>\n",
       "  </tbody>\n",
       "</table>\n",
       "<p>6668 rows × 5 columns</p>\n",
       "</div>"
      ],
      "text/plain": [
       "identifier       HFF    H1hESC   GM12878     IMR90    HCT116\n",
       "0           0.308105  0.335449  0.202637  0.273438  0.182129\n",
       "1           0.090332  0.069336  0.095215  0.098145  0.088379\n",
       "2          -0.036133  0.060547  0.101074 -0.042969  0.125977\n",
       "3          -0.214844  0.074707  0.128906 -0.160156  0.175781\n",
       "4           0.063965  0.194336  0.225098  0.134277  0.229004\n",
       "...              ...       ...       ...       ...       ...\n",
       "6663        0.065918  0.179199  0.295898  0.087891  0.305176\n",
       "6664       -0.317383 -0.270508 -0.093750 -0.230469 -0.045898\n",
       "6665       -0.197266  0.031250  0.114258 -0.113281  0.147461\n",
       "6666        0.518066  0.529297  0.481445  0.535156  0.437988\n",
       "6667        0.043945  0.065918  0.029297  0.034668  0.017578\n",
       "\n",
       "[6668 rows x 5 columns]"
      ]
     },
     "execution_count": 26,
     "metadata": {},
     "output_type": "execute_result"
    }
   ],
   "source": [
    "r2_orig_dat = pd.DataFrame(r2_orig_seq,columns=hic_targets['identifier'])\n",
    "r2_orig_dat"
   ]
  },
  {
   "cell_type": "code",
   "execution_count": 27,
   "id": "every-youth",
   "metadata": {},
   "outputs": [
    {
     "data": {
      "text/html": [
       "<div>\n",
       "<style scoped>\n",
       "    .dataframe tbody tr th:only-of-type {\n",
       "        vertical-align: middle;\n",
       "    }\n",
       "\n",
       "    .dataframe tbody tr th {\n",
       "        vertical-align: top;\n",
       "    }\n",
       "\n",
       "    .dataframe thead th {\n",
       "        text-align: right;\n",
       "    }\n",
       "</style>\n",
       "<table border=\"1\" class=\"dataframe\">\n",
       "  <thead>\n",
       "    <tr style=\"text-align: right;\">\n",
       "      <th>identifier</th>\n",
       "      <th>HFF</th>\n",
       "      <th>H1hESC</th>\n",
       "      <th>GM12878</th>\n",
       "      <th>IMR90</th>\n",
       "      <th>HCT116</th>\n",
       "    </tr>\n",
       "  </thead>\n",
       "  <tbody>\n",
       "    <tr>\n",
       "      <th>count</th>\n",
       "      <td>6668.000000</td>\n",
       "      <td>6668.000000</td>\n",
       "      <td>6668.000000</td>\n",
       "      <td>6668.000000</td>\n",
       "      <td>6668.000000</td>\n",
       "    </tr>\n",
       "    <tr>\n",
       "      <th>mean</th>\n",
       "      <td>-0.346915</td>\n",
       "      <td>-0.314895</td>\n",
       "      <td>0.058247</td>\n",
       "      <td>-0.192311</td>\n",
       "      <td>0.092346</td>\n",
       "    </tr>\n",
       "    <tr>\n",
       "      <th>std</th>\n",
       "      <td>4.741419</td>\n",
       "      <td>4.590352</td>\n",
       "      <td>1.716318</td>\n",
       "      <td>3.711570</td>\n",
       "      <td>1.292772</td>\n",
       "    </tr>\n",
       "    <tr>\n",
       "      <th>min</th>\n",
       "      <td>-79.187500</td>\n",
       "      <td>-64.187500</td>\n",
       "      <td>-32.406250</td>\n",
       "      <td>-72.500000</td>\n",
       "      <td>-24.687500</td>\n",
       "    </tr>\n",
       "    <tr>\n",
       "      <th>25%</th>\n",
       "      <td>-0.027344</td>\n",
       "      <td>0.006836</td>\n",
       "      <td>0.062988</td>\n",
       "      <td>0.004395</td>\n",
       "      <td>0.065918</td>\n",
       "    </tr>\n",
       "    <tr>\n",
       "      <th>50%</th>\n",
       "      <td>0.181885</td>\n",
       "      <td>0.249023</td>\n",
       "      <td>0.261475</td>\n",
       "      <td>0.217773</td>\n",
       "      <td>0.245605</td>\n",
       "    </tr>\n",
       "    <tr>\n",
       "      <th>75%</th>\n",
       "      <td>0.384888</td>\n",
       "      <td>0.417969</td>\n",
       "      <td>0.407227</td>\n",
       "      <td>0.411133</td>\n",
       "      <td>0.378418</td>\n",
       "    </tr>\n",
       "    <tr>\n",
       "      <th>max</th>\n",
       "      <td>0.753906</td>\n",
       "      <td>0.732910</td>\n",
       "      <td>0.693848</td>\n",
       "      <td>0.765137</td>\n",
       "      <td>0.633789</td>\n",
       "    </tr>\n",
       "  </tbody>\n",
       "</table>\n",
       "</div>"
      ],
      "text/plain": [
       "identifier          HFF       H1hESC      GM12878        IMR90       HCT116\n",
       "count       6668.000000  6668.000000  6668.000000  6668.000000  6668.000000\n",
       "mean          -0.346915    -0.314895     0.058247    -0.192311     0.092346\n",
       "std            4.741419     4.590352     1.716318     3.711570     1.292772\n",
       "min          -79.187500   -64.187500   -32.406250   -72.500000   -24.687500\n",
       "25%           -0.027344     0.006836     0.062988     0.004395     0.065918\n",
       "50%            0.181885     0.249023     0.261475     0.217773     0.245605\n",
       "75%            0.384888     0.417969     0.407227     0.411133     0.378418\n",
       "max            0.753906     0.732910     0.693848     0.765137     0.633789"
      ]
     },
     "execution_count": 27,
     "metadata": {},
     "output_type": "execute_result"
    }
   ],
   "source": [
    "r2_orig_dat.describe()"
   ]
  },
  {
   "cell_type": "code",
   "execution_count": 28,
   "id": "sublime-construction",
   "metadata": {},
   "outputs": [
    {
     "data": {
      "image/png": "[encoded data removed]",
      "text/plain": [
       "<Figure size 432x288 with 1 Axes>"
      ]
     },
     "metadata": {
      "needs_background": "light"
     },
     "output_type": "display_data"
    }
   ],
   "source": [
    "r2_orig_tr = r2_orig_seq.transpose()\n",
    "for i in range(len(r2_orig_tr)) :\n",
    "    plt.hist(r2_orig_tr[i],alpha=0.7)\n",
    "plt.show()"
   ]
  },
  {
   "cell_type": "code",
   "execution_count": null,
   "id": "white-insider",
   "metadata": {},
   "outputs": [],
   "source": []
  }
 ],
 "metadata": {
  "kernelspec": {
   "display_name": "Python 3",
   "language": "python",
   "name": "python3"
  },
  "language_info": {
   "codemirror_mode": {
    "name": "ipython",
    "version": 3
   },
   "file_extension": ".py",
   "mimetype": "text/x-python",
   "name": "python",
   "nbconvert_exporter": "python",
   "pygments_lexer": "ipython3",
   "version": "3.8.2"
  }
 },
 "nbformat": 4,
 "nbformat_minor": 5
}
