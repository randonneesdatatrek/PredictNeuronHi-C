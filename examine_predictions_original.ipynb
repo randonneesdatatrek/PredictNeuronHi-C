{
 "cells": [
  {
   "cell_type": "markdown",
   "id": "smart-vintage",
   "metadata": {},
   "source": [
    "# Examen des prédictions du modèle original sur les séquences de test"
   ]
  },
  {
   "cell_type": "code",
   "execution_count": 1,
   "id": "relevant-header",
   "metadata": {},
   "outputs": [],
   "source": [
    "import json\n",
    "import numpy as np\n",
    "import pandas as pd\n",
    "import sklearn"
   ]
  },
  {
   "cell_type": "code",
   "execution_count": 2,
   "id": "mature-syndication",
   "metadata": {},
   "outputs": [],
   "source": [
    "import h5py\n",
    "import cooler"
   ]
  },
  {
   "cell_type": "code",
   "execution_count": 3,
   "id": "appreciated-hanging",
   "metadata": {},
   "outputs": [],
   "source": [
    "import matplotlib.pyplot as plt"
   ]
  },
  {
   "cell_type": "code",
   "execution_count": 4,
   "id": "described-driving",
   "metadata": {},
   "outputs": [],
   "source": [
    "predpath = \"/home/bureau/projects/def-bureau/bureau/ran-donnees/PredictNeuronHi-C/akita_pred_test/\"\n",
    "predfile = predpath + \"preds.h5\""
   ]
  },
  {
   "cell_type": "code",
   "execution_count": 5,
   "id": "standing-water",
   "metadata": {},
   "outputs": [
    {
     "data": {
      "text/plain": [
       "<HDF5 file \"preds.h5\" (mode r)>"
      ]
     },
     "execution_count": 5,
     "metadata": {},
     "output_type": "execute_result"
    }
   ],
   "source": [
    "pred = h5py.File(predfile, 'r')\n",
    "pred"
   ]
  },
  {
   "cell_type": "code",
   "execution_count": 6,
   "id": "fundamental-police",
   "metadata": {},
   "outputs": [
    {
     "data": {
      "text/plain": [
       "<KeysViewHDF5 ['preds']>"
      ]
     },
     "execution_count": 6,
     "metadata": {},
     "output_type": "execute_result"
    }
   ],
   "source": [
    "pred.keys()"
   ]
  },
  {
   "cell_type": "code",
   "execution_count": 7,
   "id": "false-caribbean",
   "metadata": {},
   "outputs": [
    {
     "data": {
      "text/plain": [
       "(6667, 99681, 5)"
      ]
     },
     "execution_count": 7,
     "metadata": {},
     "output_type": "execute_result"
    }
   ],
   "source": [
    "pred['preds'].shape"
   ]
  },
  {
   "cell_type": "code",
   "execution_count": 8,
   "id": "earned-rainbow",
   "metadata": {},
   "outputs": [],
   "source": [
    "targetfile = \"/home/bureau/projects/def-bureau/bureau/distiller/iPSC/data/1m/seqs_cov/0.h5\""
   ]
  },
  {
   "cell_type": "code",
   "execution_count": 9,
   "id": "authorized-central",
   "metadata": {},
   "outputs": [
    {
     "data": {
      "text/plain": [
       "<HDF5 file \"0.h5\" (mode r)>"
      ]
     },
     "execution_count": 9,
     "metadata": {},
     "output_type": "execute_result"
    }
   ],
   "source": [
    "targets = h5py.File(targetfile, 'r')\n",
    "targets"
   ]
  },
  {
   "cell_type": "code",
   "execution_count": 10,
   "id": "ultimate-pasta",
   "metadata": {},
   "outputs": [],
   "source": [
    "# Les données de tests sont les 6667 (pred['preds'].shape[0]) dernières\n",
    "test_targets = targets['targets'][targets['targets'].shape[0]-pred['preds'].shape[0]:,]"
   ]
  },
  {
   "cell_type": "code",
   "execution_count": 11,
   "id": "saving-control",
   "metadata": {},
   "outputs": [
    {
     "data": {
      "text/plain": [
       "(6667, 99681)"
      ]
     },
     "execution_count": 11,
     "metadata": {},
     "output_type": "execute_result"
    }
   ],
   "source": [
    "test_targets.shape"
   ]
  },
  {
   "cell_type": "code",
   "execution_count": 12,
   "id": "reverse-exhibit",
   "metadata": {},
   "outputs": [
    {
     "data": {
      "image/png": "[encoded data removed]",
      "text/plain": [
       "<Figure size 432x288 with 1 Axes>"
      ]
     },
     "metadata": {
      "needs_background": "light"
     },
     "output_type": "display_data"
    }
   ],
   "source": [
    "for i in range(5):\n",
    "    plt.scatter(pred['preds'][0,:,i], test_targets[0,:])\n",
    "plt.show()"
   ]
  },
  {
   "cell_type": "markdown",
   "id": "talented-pantyhose",
   "metadata": {},
   "source": [
    "## Calcul de l'erreur quadratique moyenne par lignée cellulaire utilisée pour la prédiction"
   ]
  },
  {
   "cell_type": "code",
   "execution_count": 12,
   "id": "inappropriate-footwear",
   "metadata": {},
   "outputs": [],
   "source": [
    "from sklearn.metrics import mean_squared_error\n",
    "mse_orig = []\n",
    "for i in range(pred['preds'].shape[2]):\n",
    "    mse_orig.append(mean_squared_error(test_targets,pred['preds'][:,:,i]))"
   ]
  },
  {
   "cell_type": "code",
   "execution_count": 13,
   "id": "nonprofit-edition",
   "metadata": {},
   "outputs": [
    {
     "data": {
      "text/plain": [
       "[0.5117, 0.463, 0.42, 0.4954, 0.4094]"
      ]
     },
     "metadata": {},
     "output_type": "display_data"
    }
   ],
   "source": [
    "display(mse_orig)"
   ]
  },
  {
   "cell_type": "markdown",
   "id": "polar-completion",
   "metadata": {},
   "source": [
    "## Calcul de l'erreur quadratique moyenne par lignée cellulaire pour chaque séquence de 1Mb"
   ]
  },
  {
   "cell_type": "code",
   "execution_count": 14,
   "id": "muslim-resident",
   "metadata": {},
   "outputs": [],
   "source": [
    "mse_orig_seq = np.zeros((pred['preds'].shape[0],pred['preds'].shape[2]))\n",
    "for i in range(pred['preds'].shape[2]):\n",
    "    for j in range(pred['preds'].shape[0]):\n",
    "        mse_orig_seq[j,i] = mean_squared_error(test_targets[j,],pred['preds'][j,:,i])"
   ]
  },
  {
   "cell_type": "code",
   "execution_count": 15,
   "id": "stupid-indication",
   "metadata": {},
   "outputs": [
    {
     "data": {
      "text/html": [
       "<div>\n",
       "<style scoped>\n",
       "    .dataframe tbody tr th:only-of-type {\n",
       "        vertical-align: middle;\n",
       "    }\n",
       "\n",
       "    .dataframe tbody tr th {\n",
       "        vertical-align: top;\n",
       "    }\n",
       "\n",
       "    .dataframe thead th {\n",
       "        text-align: right;\n",
       "    }\n",
       "</style>\n",
       "<table border=\"1\" class=\"dataframe\">\n",
       "  <thead>\n",
       "    <tr style=\"text-align: right;\">\n",
       "      <th></th>\n",
       "      <th>index</th>\n",
       "      <th>identifier</th>\n",
       "      <th>file</th>\n",
       "      <th>clip</th>\n",
       "      <th>description</th>\n",
       "    </tr>\n",
       "  </thead>\n",
       "  <tbody>\n",
       "    <tr>\n",
       "      <th>0</th>\n",
       "      <td>0</td>\n",
       "      <td>HFF</td>\n",
       "      <td>../../data/coolers/Krietenstein2019/HFF_hg38_4...</td>\n",
       "      <td>2</td>\n",
       "      <td>HFF</td>\n",
       "    </tr>\n",
       "    <tr>\n",
       "      <th>1</th>\n",
       "      <td>1</td>\n",
       "      <td>H1hESC</td>\n",
       "      <td>../../data/coolers/Krietenstein2019/H1hESC_hg3...</td>\n",
       "      <td>2</td>\n",
       "      <td>H1hESC</td>\n",
       "    </tr>\n",
       "    <tr>\n",
       "      <th>2</th>\n",
       "      <td>2</td>\n",
       "      <td>GM12878</td>\n",
       "      <td>../../data/coolers/Rao2014/GM12878_inSitu_MboI...</td>\n",
       "      <td>2</td>\n",
       "      <td>GM12878</td>\n",
       "    </tr>\n",
       "    <tr>\n",
       "      <th>3</th>\n",
       "      <td>3</td>\n",
       "      <td>IMR90</td>\n",
       "      <td>../../data/coolers/Rao2014/IMR90_inSitu_MboI_a...</td>\n",
       "      <td>2</td>\n",
       "      <td>IMR90</td>\n",
       "    </tr>\n",
       "    <tr>\n",
       "      <th>4</th>\n",
       "      <td>4</td>\n",
       "      <td>HCT116</td>\n",
       "      <td>../../data/coolers/Rao2017/Unsynchronized_all....</td>\n",
       "      <td>2</td>\n",
       "      <td>HCT116</td>\n",
       "    </tr>\n",
       "  </tbody>\n",
       "</table>\n",
       "</div>"
      ],
      "text/plain": [
       "   index identifier                                               file  clip  \\\n",
       "0      0        HFF  ../../data/coolers/Krietenstein2019/HFF_hg38_4...     2   \n",
       "1      1     H1hESC  ../../data/coolers/Krietenstein2019/H1hESC_hg3...     2   \n",
       "2      2    GM12878  ../../data/coolers/Rao2014/GM12878_inSitu_MboI...     2   \n",
       "3      3      IMR90  ../../data/coolers/Rao2014/IMR90_inSitu_MboI_a...     2   \n",
       "4      4     HCT116  ../../data/coolers/Rao2017/Unsynchronized_all....     2   \n",
       "\n",
       "  description  \n",
       "0         HFF  \n",
       "1      H1hESC  \n",
       "2     GM12878  \n",
       "3       IMR90  \n",
       "4      HCT116  "
      ]
     },
     "execution_count": 15,
     "metadata": {},
     "output_type": "execute_result"
    }
   ],
   "source": [
    "hic_targets = pd.read_csv('/home/bureau/projects/def-bureau/basenji/manuscripts/akita/data/targets.txt',sep='\\t')\n",
    "hic_targets"
   ]
  },
  {
   "cell_type": "code",
   "execution_count": 16,
   "id": "timely-hearts",
   "metadata": {},
   "outputs": [
    {
     "data": {
      "text/html": [
       "<div>\n",
       "<style scoped>\n",
       "    .dataframe tbody tr th:only-of-type {\n",
       "        vertical-align: middle;\n",
       "    }\n",
       "\n",
       "    .dataframe tbody tr th {\n",
       "        vertical-align: top;\n",
       "    }\n",
       "\n",
       "    .dataframe thead th {\n",
       "        text-align: right;\n",
       "    }\n",
       "</style>\n",
       "<table border=\"1\" class=\"dataframe\">\n",
       "  <thead>\n",
       "    <tr style=\"text-align: right;\">\n",
       "      <th>identifier</th>\n",
       "      <th>HFF</th>\n",
       "      <th>H1hESC</th>\n",
       "      <th>GM12878</th>\n",
       "      <th>IMR90</th>\n",
       "      <th>HCT116</th>\n",
       "    </tr>\n",
       "  </thead>\n",
       "  <tbody>\n",
       "    <tr>\n",
       "      <th>0</th>\n",
       "      <td>0.241089</td>\n",
       "      <td>0.232422</td>\n",
       "      <td>0.231445</td>\n",
       "      <td>0.227539</td>\n",
       "      <td>0.246338</td>\n",
       "    </tr>\n",
       "    <tr>\n",
       "      <th>1</th>\n",
       "      <td>0.300781</td>\n",
       "      <td>0.239624</td>\n",
       "      <td>0.239136</td>\n",
       "      <td>0.289062</td>\n",
       "      <td>0.250000</td>\n",
       "    </tr>\n",
       "    <tr>\n",
       "      <th>2</th>\n",
       "      <td>0.240967</td>\n",
       "      <td>0.236694</td>\n",
       "      <td>0.257568</td>\n",
       "      <td>0.234985</td>\n",
       "      <td>0.271973</td>\n",
       "    </tr>\n",
       "    <tr>\n",
       "      <th>3</th>\n",
       "      <td>0.270996</td>\n",
       "      <td>0.243530</td>\n",
       "      <td>0.235840</td>\n",
       "      <td>0.262939</td>\n",
       "      <td>0.251953</td>\n",
       "    </tr>\n",
       "    <tr>\n",
       "      <th>4</th>\n",
       "      <td>0.297607</td>\n",
       "      <td>0.258545</td>\n",
       "      <td>0.241699</td>\n",
       "      <td>0.289062</td>\n",
       "      <td>0.230835</td>\n",
       "    </tr>\n",
       "    <tr>\n",
       "      <th>...</th>\n",
       "      <td>...</td>\n",
       "      <td>...</td>\n",
       "      <td>...</td>\n",
       "      <td>...</td>\n",
       "      <td>...</td>\n",
       "    </tr>\n",
       "    <tr>\n",
       "      <th>6662</th>\n",
       "      <td>0.232666</td>\n",
       "      <td>0.217407</td>\n",
       "      <td>0.183594</td>\n",
       "      <td>0.223511</td>\n",
       "      <td>0.171753</td>\n",
       "    </tr>\n",
       "    <tr>\n",
       "      <th>6663</th>\n",
       "      <td>0.364746</td>\n",
       "      <td>0.291504</td>\n",
       "      <td>0.290527</td>\n",
       "      <td>0.352539</td>\n",
       "      <td>0.282227</td>\n",
       "    </tr>\n",
       "    <tr>\n",
       "      <th>6664</th>\n",
       "      <td>0.607422</td>\n",
       "      <td>0.463623</td>\n",
       "      <td>0.465088</td>\n",
       "      <td>0.598145</td>\n",
       "      <td>0.420166</td>\n",
       "    </tr>\n",
       "    <tr>\n",
       "      <th>6665</th>\n",
       "      <td>0.423584</td>\n",
       "      <td>0.338867</td>\n",
       "      <td>0.285889</td>\n",
       "      <td>0.405273</td>\n",
       "      <td>0.258545</td>\n",
       "    </tr>\n",
       "    <tr>\n",
       "      <th>6666</th>\n",
       "      <td>0.442627</td>\n",
       "      <td>0.425049</td>\n",
       "      <td>0.372559</td>\n",
       "      <td>0.424805</td>\n",
       "      <td>0.365967</td>\n",
       "    </tr>\n",
       "  </tbody>\n",
       "</table>\n",
       "<p>6667 rows × 5 columns</p>\n",
       "</div>"
      ],
      "text/plain": [
       "identifier       HFF    H1hESC   GM12878     IMR90    HCT116\n",
       "0           0.241089  0.232422  0.231445  0.227539  0.246338\n",
       "1           0.300781  0.239624  0.239136  0.289062  0.250000\n",
       "2           0.240967  0.236694  0.257568  0.234985  0.271973\n",
       "3           0.270996  0.243530  0.235840  0.262939  0.251953\n",
       "4           0.297607  0.258545  0.241699  0.289062  0.230835\n",
       "...              ...       ...       ...       ...       ...\n",
       "6662        0.232666  0.217407  0.183594  0.223511  0.171753\n",
       "6663        0.364746  0.291504  0.290527  0.352539  0.282227\n",
       "6664        0.607422  0.463623  0.465088  0.598145  0.420166\n",
       "6665        0.423584  0.338867  0.285889  0.405273  0.258545\n",
       "6666        0.442627  0.425049  0.372559  0.424805  0.365967\n",
       "\n",
       "[6667 rows x 5 columns]"
      ]
     },
     "execution_count": 16,
     "metadata": {},
     "output_type": "execute_result"
    }
   ],
   "source": [
    "mse_orig_dat = pd.DataFrame(mse_orig_seq,columns=hic_targets['identifier'])\n",
    "mse_orig_dat"
   ]
  },
  {
   "cell_type": "code",
   "execution_count": 21,
   "id": "entire-finish",
   "metadata": {},
   "outputs": [
    {
     "data": {
      "text/plain": [
       "identifier\n",
       "HFF        0.201316\n",
       "H1hESC     0.204245\n",
       "GM12878    0.200782\n",
       "IMR90      0.200003\n",
       "HCT116     0.214743\n",
       "dtype: float64"
      ]
     },
     "execution_count": 21,
     "metadata": {},
     "output_type": "execute_result"
    }
   ],
   "source": [
    "#mse_var = map(lambda x : x.var(), list(mse_orig_dat.columns))\n",
    "mse_orig_dat.var()"
   ]
  },
  {
   "cell_type": "code",
   "execution_count": 19,
   "id": "virtual-fighter",
   "metadata": {},
   "outputs": [],
   "source": [
    "mse_orig_dat.to_csv(\"mse_orig_dat.csv\")"
   ]
  },
  {
   "cell_type": "code",
   "execution_count": 31,
   "id": "quick-intranet",
   "metadata": {},
   "outputs": [
    {
     "data": {
      "image/png": "[encoded data removed]",
      "text/plain": [
       "<Figure size 432x288 with 1 Axes>"
      ]
     },
     "metadata": {
      "needs_background": "light"
     },
     "output_type": "display_data"
    }
   ],
   "source": [
    "mse_orig_tr = mse_orig_seq.transpose()\n",
    "for i in range(len(mse_orig_tr)) :\n",
    "    plt.hist(np.log10(mse_orig_tr[i]),alpha=0.7)\n",
    "plt.show()"
   ]
  },
  {
   "cell_type": "code",
   "execution_count": null,
   "id": "industrial-briefs",
   "metadata": {},
   "outputs": [],
   "source": []
  }
 ],
 "metadata": {
  "kernelspec": {
   "display_name": "Python 3",
   "language": "python",
   "name": "python3"
  },
  "language_info": {
   "codemirror_mode": {
    "name": "ipython",
    "version": 3
   },
   "file_extension": ".py",
   "mimetype": "text/x-python",
   "name": "python",
   "nbconvert_exporter": "python",
   "pygments_lexer": "ipython3",
   "version": "3.8.2"
  }
 },
 "nbformat": 4,
 "nbformat_minor": 5
}
