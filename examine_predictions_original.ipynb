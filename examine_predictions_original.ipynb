{
 "cells": [
  {
   "cell_type": "markdown",
   "id": "smart-vintage",
   "metadata": {},
   "source": [
    "# Examen des prédictions du modèle original sur les séquences de test"
   ]
  },
  {
   "cell_type": "code",
   "execution_count": 1,
   "id": "relevant-header",
   "metadata": {},
   "outputs": [],
   "source": [
    "import json\n",
    "import numpy as np\n",
    "import pandas as pd\n",
    "import sklearn"
   ]
  },
  {
   "cell_type": "code",
   "execution_count": 2,
   "id": "mature-syndication",
   "metadata": {},
   "outputs": [],
   "source": [
    "import h5py\n",
    "import cooler"
   ]
  },
  {
   "cell_type": "code",
   "execution_count": 3,
   "id": "appreciated-hanging",
   "metadata": {},
   "outputs": [],
   "source": [
    "import matplotlib.pyplot as plt"
   ]
  },
  {
   "cell_type": "code",
   "execution_count": 4,
   "id": "described-driving",
   "metadata": {},
   "outputs": [],
   "source": [
    "predpath = \"/home/bureau/projects/def-bureau/bureau/ran-donnees/PredictNeuronHi-C/akita_pred_test/\"\n",
    "predfile = predpath + \"preds.h5\""
   ]
  },
  {
   "cell_type": "code",
   "execution_count": 5,
   "id": "standing-water",
   "metadata": {},
   "outputs": [
    {
     "data": {
      "text/plain": [
       "<HDF5 file \"preds.h5\" (mode r)>"
      ]
     },
     "execution_count": 5,
     "metadata": {},
     "output_type": "execute_result"
    }
   ],
   "source": [
    "pred = h5py.File(predfile, 'r')\n",
    "pred"
   ]
  },
  {
   "cell_type": "code",
   "execution_count": 6,
   "id": "fundamental-police",
   "metadata": {},
   "outputs": [
    {
     "data": {
      "text/plain": [
       "<KeysViewHDF5 ['preds']>"
      ]
     },
     "execution_count": 6,
     "metadata": {},
     "output_type": "execute_result"
    }
   ],
   "source": [
    "pred.keys()"
   ]
  },
  {
   "cell_type": "code",
   "execution_count": 7,
   "id": "false-caribbean",
   "metadata": {},
   "outputs": [
    {
     "data": {
      "text/plain": [
       "(6668, 99681, 5)"
      ]
     },
     "execution_count": 7,
     "metadata": {},
     "output_type": "execute_result"
    }
   ],
   "source": [
    "pred['preds'].shape"
   ]
  },
  {
   "cell_type": "code",
   "execution_count": 8,
   "id": "earned-rainbow",
   "metadata": {},
   "outputs": [],
   "source": [
    "targetfile = \"/home/bureau/projects/def-bureau/bureau/distiller/iPSC/data/1s/seqs_cov/0.h5\""
   ]
  },
  {
   "cell_type": "code",
   "execution_count": 9,
   "id": "authorized-central",
   "metadata": {},
   "outputs": [
    {
     "data": {
      "text/plain": [
       "<HDF5 file \"0.h5\" (mode r)>"
      ]
     },
     "execution_count": 9,
     "metadata": {},
     "output_type": "execute_result"
    }
   ],
   "source": [
    "targets = h5py.File(targetfile, 'r')\n",
    "targets"
   ]
  },
  {
   "cell_type": "code",
   "execution_count": 10,
   "id": "ultimate-pasta",
   "metadata": {},
   "outputs": [],
   "source": [
    "# Les données de tests sont les 6668 (pred['preds'].shape[0]) dernières\n",
    "test_targets = targets['targets'][targets['targets'].shape[0]-pred['preds'].shape[0]:,]"
   ]
  },
  {
   "cell_type": "code",
   "execution_count": 11,
   "id": "saving-control",
   "metadata": {},
   "outputs": [
    {
     "data": {
      "text/plain": [
       "(6668, 99681)"
      ]
     },
     "execution_count": 11,
     "metadata": {},
     "output_type": "execute_result"
    }
   ],
   "source": [
    "test_targets.shape"
   ]
  },
  {
   "cell_type": "code",
   "execution_count": 12,
   "id": "reverse-exhibit",
   "metadata": {},
   "outputs": [
    {
     "data": {
      "image/png": "[encoded data removed]",
      "text/plain": [
       "<Figure size 432x288 with 1 Axes>"
      ]
     },
     "metadata": {
      "needs_background": "light"
     },
     "output_type": "display_data"
    }
   ],
   "source": [
    "for i in range(5):\n",
    "    plt.scatter(pred['preds'][0,:,i], test_targets[0,:])\n",
    "plt.show()"
   ]
  },
  {
   "cell_type": "markdown",
   "id": "talented-pantyhose",
   "metadata": {},
   "source": [
    "## Calcul de l'erreur quadratique moyenne par lignée cellulaire utilisée pour la prédiction"
   ]
  },
  {
   "cell_type": "code",
   "execution_count": 13,
   "id": "inappropriate-footwear",
   "metadata": {},
   "outputs": [],
   "source": [
    "from sklearn.metrics import mean_squared_error\n",
    "mse_orig = []\n",
    "for i in range(pred['preds'].shape[2]):\n",
    "    mse_orig.append(mean_squared_error(test_targets,pred['preds'][:,:,i]))"
   ]
  },
  {
   "cell_type": "code",
   "execution_count": 14,
   "id": "nonprofit-edition",
   "metadata": {},
   "outputs": [
    {
     "data": {
      "text/plain": [
       "[0.4717, 0.4224, 0.3792, 0.455, 0.3687]"
      ]
     },
     "metadata": {},
     "output_type": "display_data"
    }
   ],
   "source": [
    "display(mse_orig)"
   ]
  },
  {
   "cell_type": "markdown",
   "id": "polar-completion",
   "metadata": {},
   "source": [
    "## Calcul de l'erreur quadratique moyenne par lignée cellulaire pour chaque séquence de 1Mb"
   ]
  },
  {
   "cell_type": "code",
   "execution_count": 21,
   "id": "muslim-resident",
   "metadata": {},
   "outputs": [],
   "source": [
    "mse_orig_seq = np.zeros((pred['preds'].shape[0],pred['preds'].shape[2]))\n",
    "for i in range(pred['preds'].shape[2]):\n",
    "    for j in range(pred['preds'].shape[0]):\n",
    "        mse_orig_seq[j,i] = mean_squared_error(test_targets[j,],pred['preds'][j,:,i])"
   ]
  },
  {
   "cell_type": "code",
   "execution_count": 22,
   "id": "stupid-indication",
   "metadata": {},
   "outputs": [
    {
     "data": {
      "text/html": [
       "<div>\n",
       "<style scoped>\n",
       "    .dataframe tbody tr th:only-of-type {\n",
       "        vertical-align: middle;\n",
       "    }\n",
       "\n",
       "    .dataframe tbody tr th {\n",
       "        vertical-align: top;\n",
       "    }\n",
       "\n",
       "    .dataframe thead th {\n",
       "        text-align: right;\n",
       "    }\n",
       "</style>\n",
       "<table border=\"1\" class=\"dataframe\">\n",
       "  <thead>\n",
       "    <tr style=\"text-align: right;\">\n",
       "      <th></th>\n",
       "      <th>index</th>\n",
       "      <th>identifier</th>\n",
       "      <th>file</th>\n",
       "      <th>clip</th>\n",
       "      <th>description</th>\n",
       "    </tr>\n",
       "  </thead>\n",
       "  <tbody>\n",
       "    <tr>\n",
       "      <th>0</th>\n",
       "      <td>0</td>\n",
       "      <td>HFF</td>\n",
       "      <td>../../data/coolers/Krietenstein2019/HFF_hg38_4...</td>\n",
       "      <td>2</td>\n",
       "      <td>HFF</td>\n",
       "    </tr>\n",
       "    <tr>\n",
       "      <th>1</th>\n",
       "      <td>1</td>\n",
       "      <td>H1hESC</td>\n",
       "      <td>../../data/coolers/Krietenstein2019/H1hESC_hg3...</td>\n",
       "      <td>2</td>\n",
       "      <td>H1hESC</td>\n",
       "    </tr>\n",
       "    <tr>\n",
       "      <th>2</th>\n",
       "      <td>2</td>\n",
       "      <td>GM12878</td>\n",
       "      <td>../../data/coolers/Rao2014/GM12878_inSitu_MboI...</td>\n",
       "      <td>2</td>\n",
       "      <td>GM12878</td>\n",
       "    </tr>\n",
       "    <tr>\n",
       "      <th>3</th>\n",
       "      <td>3</td>\n",
       "      <td>IMR90</td>\n",
       "      <td>../../data/coolers/Rao2014/IMR90_inSitu_MboI_a...</td>\n",
       "      <td>2</td>\n",
       "      <td>IMR90</td>\n",
       "    </tr>\n",
       "    <tr>\n",
       "      <th>4</th>\n",
       "      <td>4</td>\n",
       "      <td>HCT116</td>\n",
       "      <td>../../data/coolers/Rao2017/Unsynchronized_all....</td>\n",
       "      <td>2</td>\n",
       "      <td>HCT116</td>\n",
       "    </tr>\n",
       "  </tbody>\n",
       "</table>\n",
       "</div>"
      ],
      "text/plain": [
       "   index identifier                                               file  clip  \\\n",
       "0      0        HFF  ../../data/coolers/Krietenstein2019/HFF_hg38_4...     2   \n",
       "1      1     H1hESC  ../../data/coolers/Krietenstein2019/H1hESC_hg3...     2   \n",
       "2      2    GM12878  ../../data/coolers/Rao2014/GM12878_inSitu_MboI...     2   \n",
       "3      3      IMR90  ../../data/coolers/Rao2014/IMR90_inSitu_MboI_a...     2   \n",
       "4      4     HCT116  ../../data/coolers/Rao2017/Unsynchronized_all....     2   \n",
       "\n",
       "  description  \n",
       "0         HFF  \n",
       "1      H1hESC  \n",
       "2     GM12878  \n",
       "3       IMR90  \n",
       "4      HCT116  "
      ]
     },
     "execution_count": 22,
     "metadata": {},
     "output_type": "execute_result"
    }
   ],
   "source": [
    "hic_targets = pd.read_csv('/home/bureau/projects/def-bureau/basenji/manuscripts/akita/data/targets.txt',sep='\\t')\n",
    "hic_targets"
   ]
  },
  {
   "cell_type": "code",
   "execution_count": 23,
   "id": "timely-hearts",
   "metadata": {},
   "outputs": [
    {
     "data": {
      "text/html": [
       "<div>\n",
       "<style scoped>\n",
       "    .dataframe tbody tr th:only-of-type {\n",
       "        vertical-align: middle;\n",
       "    }\n",
       "\n",
       "    .dataframe tbody tr th {\n",
       "        vertical-align: top;\n",
       "    }\n",
       "\n",
       "    .dataframe thead th {\n",
       "        text-align: right;\n",
       "    }\n",
       "</style>\n",
       "<table border=\"1\" class=\"dataframe\">\n",
       "  <thead>\n",
       "    <tr style=\"text-align: right;\">\n",
       "      <th>identifier</th>\n",
       "      <th>HFF</th>\n",
       "      <th>H1hESC</th>\n",
       "      <th>GM12878</th>\n",
       "      <th>IMR90</th>\n",
       "      <th>HCT116</th>\n",
       "    </tr>\n",
       "  </thead>\n",
       "  <tbody>\n",
       "    <tr>\n",
       "      <th>0</th>\n",
       "      <td>0.160034</td>\n",
       "      <td>0.152710</td>\n",
       "      <td>0.182983</td>\n",
       "      <td>0.167480</td>\n",
       "      <td>0.192261</td>\n",
       "    </tr>\n",
       "    <tr>\n",
       "      <th>1</th>\n",
       "      <td>0.127441</td>\n",
       "      <td>0.130371</td>\n",
       "      <td>0.127075</td>\n",
       "      <td>0.126343</td>\n",
       "      <td>0.127319</td>\n",
       "    </tr>\n",
       "    <tr>\n",
       "      <th>2</th>\n",
       "      <td>0.530762</td>\n",
       "      <td>0.413330</td>\n",
       "      <td>0.311768</td>\n",
       "      <td>0.530762</td>\n",
       "      <td>0.309326</td>\n",
       "    </tr>\n",
       "    <tr>\n",
       "      <th>3</th>\n",
       "      <td>0.270264</td>\n",
       "      <td>0.201782</td>\n",
       "      <td>0.179688</td>\n",
       "      <td>0.261963</td>\n",
       "      <td>0.168701</td>\n",
       "    </tr>\n",
       "    <tr>\n",
       "      <th>4</th>\n",
       "      <td>0.213379</td>\n",
       "      <td>0.182251</td>\n",
       "      <td>0.169922</td>\n",
       "      <td>0.194824</td>\n",
       "      <td>0.169067</td>\n",
       "    </tr>\n",
       "    <tr>\n",
       "      <th>...</th>\n",
       "      <td>...</td>\n",
       "      <td>...</td>\n",
       "      <td>...</td>\n",
       "      <td>...</td>\n",
       "      <td>...</td>\n",
       "    </tr>\n",
       "    <tr>\n",
       "      <th>6663</th>\n",
       "      <td>0.684082</td>\n",
       "      <td>0.553711</td>\n",
       "      <td>0.448730</td>\n",
       "      <td>0.670410</td>\n",
       "      <td>0.404297</td>\n",
       "    </tr>\n",
       "    <tr>\n",
       "      <th>6664</th>\n",
       "      <td>0.362061</td>\n",
       "      <td>0.340332</td>\n",
       "      <td>0.306396</td>\n",
       "      <td>0.350342</td>\n",
       "      <td>0.297852</td>\n",
       "    </tr>\n",
       "    <tr>\n",
       "      <th>6665</th>\n",
       "      <td>0.456543</td>\n",
       "      <td>0.346924</td>\n",
       "      <td>0.295898</td>\n",
       "      <td>0.415283</td>\n",
       "      <td>0.268555</td>\n",
       "    </tr>\n",
       "    <tr>\n",
       "      <th>6666</th>\n",
       "      <td>0.555176</td>\n",
       "      <td>0.467773</td>\n",
       "      <td>0.390625</td>\n",
       "      <td>0.510254</td>\n",
       "      <td>0.370605</td>\n",
       "    </tr>\n",
       "    <tr>\n",
       "      <th>6667</th>\n",
       "      <td>0.350830</td>\n",
       "      <td>0.353760</td>\n",
       "      <td>0.327881</td>\n",
       "      <td>0.343018</td>\n",
       "      <td>0.341064</td>\n",
       "    </tr>\n",
       "  </tbody>\n",
       "</table>\n",
       "<p>6668 rows × 5 columns</p>\n",
       "</div>"
      ],
      "text/plain": [
       "identifier       HFF    H1hESC   GM12878     IMR90    HCT116\n",
       "0           0.160034  0.152710  0.182983  0.167480  0.192261\n",
       "1           0.127441  0.130371  0.127075  0.126343  0.127319\n",
       "2           0.530762  0.413330  0.311768  0.530762  0.309326\n",
       "3           0.270264  0.201782  0.179688  0.261963  0.168701\n",
       "4           0.213379  0.182251  0.169922  0.194824  0.169067\n",
       "...              ...       ...       ...       ...       ...\n",
       "6663        0.684082  0.553711  0.448730  0.670410  0.404297\n",
       "6664        0.362061  0.340332  0.306396  0.350342  0.297852\n",
       "6665        0.456543  0.346924  0.295898  0.415283  0.268555\n",
       "6666        0.555176  0.467773  0.390625  0.510254  0.370605\n",
       "6667        0.350830  0.353760  0.327881  0.343018  0.341064\n",
       "\n",
       "[6668 rows x 5 columns]"
      ]
     },
     "execution_count": 23,
     "metadata": {},
     "output_type": "execute_result"
    }
   ],
   "source": [
    "mse_orig_dat = pd.DataFrame(mse_orig_seq,columns=hic_targets['identifier'])\n",
    "mse_orig_dat"
   ]
  },
  {
   "cell_type": "code",
   "execution_count": 24,
   "id": "entire-finish",
   "metadata": {},
   "outputs": [
    {
     "data": {
      "text/plain": [
       "identifier\n",
       "HFF        0.471636\n",
       "H1hESC     0.422451\n",
       "GM12878    0.379225\n",
       "IMR90      0.455006\n",
       "HCT116     0.368609\n",
       "dtype: float64"
      ]
     },
     "execution_count": 24,
     "metadata": {},
     "output_type": "execute_result"
    }
   ],
   "source": [
    "#mse_var = map(lambda x : x.var(), list(mse_orig_dat.columns))\n",
    "mse_orig_dat.mean()"
   ]
  },
  {
   "cell_type": "code",
   "execution_count": 19,
   "id": "virtual-fighter",
   "metadata": {},
   "outputs": [],
   "source": [
    "mse_orig_dat.to_csv(\"mse_orig_dat.csv\")"
   ]
  },
  {
   "cell_type": "code",
   "execution_count": 31,
   "id": "quick-intranet",
   "metadata": {},
   "outputs": [
    {
     "data": {
      "image/png": "[encoded data removed]",
      "text/plain": [
       "<Figure size 432x288 with 1 Axes>"
      ]
     },
     "metadata": {
      "needs_background": "light"
     },
     "output_type": "display_data"
    }
   ],
   "source": [
    "mse_orig_tr = mse_orig_seq.transpose()\n",
    "for i in range(len(mse_orig_tr)) :\n",
    "    plt.hist(np.log10(mse_orig_tr[i]),alpha=0.7)\n",
    "plt.show()"
   ]
  },
  {
   "cell_type": "code",
   "execution_count": 15,
   "id": "industrial-briefs",
   "metadata": {},
   "outputs": [],
   "source": [
    "from sklearn.metrics import explained_variance_score\n",
    "r2_orig = []\n",
    "for i in range(pred['preds'].shape[2]):\n",
    "    r2_orig.append(explained_variance_score(test_targets,pred['preds'][:,:,i]))"
   ]
  },
  {
   "cell_type": "code",
   "execution_count": 16,
   "id": "union-secondary",
   "metadata": {},
   "outputs": [
    {
     "data": {
      "text/plain": [
       "[-0.43657014900971597,\n",
       " -0.2945240826047592,\n",
       " -0.16677623493945687,\n",
       " -0.38689801325603673,\n",
       " -0.12814269120055477]"
      ]
     },
     "metadata": {},
     "output_type": "display_data"
    }
   ],
   "source": [
    "display(r2_orig)"
   ]
  },
  {
   "cell_type": "code",
   "execution_count": 25,
   "id": "dietary-italian",
   "metadata": {},
   "outputs": [],
   "source": [
    "r2_orig_seq = np.zeros((pred['preds'].shape[0],pred['preds'].shape[2]))\n",
    "for i in range(pred['preds'].shape[2]):\n",
    "    for j in range(pred['preds'].shape[0]):\n",
    "        r2_orig_seq[j,i] = explained_variance_score(test_targets[j,],pred['preds'][j,:,i])"
   ]
  },
  {
   "cell_type": "code",
   "execution_count": 26,
   "id": "extraordinary-journalist",
   "metadata": {},
   "outputs": [
    {
     "data": {
      "text/html": [
       "<div>\n",
       "<style scoped>\n",
       "    .dataframe tbody tr th:only-of-type {\n",
       "        vertical-align: middle;\n",
       "    }\n",
       "\n",
       "    .dataframe tbody tr th {\n",
       "        vertical-align: top;\n",
       "    }\n",
       "\n",
       "    .dataframe thead th {\n",
       "        text-align: right;\n",
       "    }\n",
       "</style>\n",
       "<table border=\"1\" class=\"dataframe\">\n",
       "  <thead>\n",
       "    <tr style=\"text-align: right;\">\n",
       "      <th>identifier</th>\n",
       "      <th>HFF</th>\n",
       "      <th>H1hESC</th>\n",
       "      <th>GM12878</th>\n",
       "      <th>IMR90</th>\n",
       "      <th>HCT116</th>\n",
       "    </tr>\n",
       "  </thead>\n",
       "  <tbody>\n",
       "    <tr>\n",
       "      <th>0</th>\n",
       "      <td>0.308105</td>\n",
       "      <td>0.335449</td>\n",
       "      <td>0.202637</td>\n",
       "      <td>0.273438</td>\n",
       "      <td>0.182129</td>\n",
       "    </tr>\n",
       "    <tr>\n",
       "      <th>1</th>\n",
       "      <td>0.090332</td>\n",
       "      <td>0.069336</td>\n",
       "      <td>0.095215</td>\n",
       "      <td>0.098145</td>\n",
       "      <td>0.088379</td>\n",
       "    </tr>\n",
       "    <tr>\n",
       "      <th>2</th>\n",
       "      <td>-0.036133</td>\n",
       "      <td>0.060547</td>\n",
       "      <td>0.101074</td>\n",
       "      <td>-0.042969</td>\n",
       "      <td>0.125977</td>\n",
       "    </tr>\n",
       "    <tr>\n",
       "      <th>3</th>\n",
       "      <td>-0.214844</td>\n",
       "      <td>0.074707</td>\n",
       "      <td>0.128906</td>\n",
       "      <td>-0.160156</td>\n",
       "      <td>0.175781</td>\n",
       "    </tr>\n",
       "    <tr>\n",
       "      <th>4</th>\n",
       "      <td>0.063965</td>\n",
       "      <td>0.194336</td>\n",
       "      <td>0.225098</td>\n",
       "      <td>0.134277</td>\n",
       "      <td>0.229004</td>\n",
       "    </tr>\n",
       "    <tr>\n",
       "      <th>...</th>\n",
       "      <td>...</td>\n",
       "      <td>...</td>\n",
       "      <td>...</td>\n",
       "      <td>...</td>\n",
       "      <td>...</td>\n",
       "    </tr>\n",
       "    <tr>\n",
       "      <th>6663</th>\n",
       "      <td>-1.710938</td>\n",
       "      <td>-1.265625</td>\n",
       "      <td>-0.865234</td>\n",
       "      <td>-1.671875</td>\n",
       "      <td>-0.701172</td>\n",
       "    </tr>\n",
       "    <tr>\n",
       "      <th>6664</th>\n",
       "      <td>-0.348633</td>\n",
       "      <td>-0.262695</td>\n",
       "      <td>-0.136719</td>\n",
       "      <td>-0.303711</td>\n",
       "      <td>-0.099609</td>\n",
       "    </tr>\n",
       "    <tr>\n",
       "      <th>6665</th>\n",
       "      <td>-1.396484</td>\n",
       "      <td>-0.891602</td>\n",
       "      <td>-0.619141</td>\n",
       "      <td>-1.175781</td>\n",
       "      <td>-0.484375</td>\n",
       "    </tr>\n",
       "    <tr>\n",
       "      <th>6666</th>\n",
       "      <td>-0.963867</td>\n",
       "      <td>-0.655273</td>\n",
       "      <td>-0.375977</td>\n",
       "      <td>-0.804688</td>\n",
       "      <td>-0.291992</td>\n",
       "    </tr>\n",
       "    <tr>\n",
       "      <th>6667</th>\n",
       "      <td>-0.104492</td>\n",
       "      <td>-0.119141</td>\n",
       "      <td>-0.054688</td>\n",
       "      <td>-0.087891</td>\n",
       "      <td>-0.051758</td>\n",
       "    </tr>\n",
       "  </tbody>\n",
       "</table>\n",
       "<p>6668 rows × 5 columns</p>\n",
       "</div>"
      ],
      "text/plain": [
       "identifier       HFF    H1hESC   GM12878     IMR90    HCT116\n",
       "0           0.308105  0.335449  0.202637  0.273438  0.182129\n",
       "1           0.090332  0.069336  0.095215  0.098145  0.088379\n",
       "2          -0.036133  0.060547  0.101074 -0.042969  0.125977\n",
       "3          -0.214844  0.074707  0.128906 -0.160156  0.175781\n",
       "4           0.063965  0.194336  0.225098  0.134277  0.229004\n",
       "...              ...       ...       ...       ...       ...\n",
       "6663       -1.710938 -1.265625 -0.865234 -1.671875 -0.701172\n",
       "6664       -0.348633 -0.262695 -0.136719 -0.303711 -0.099609\n",
       "6665       -1.396484 -0.891602 -0.619141 -1.175781 -0.484375\n",
       "6666       -0.963867 -0.655273 -0.375977 -0.804688 -0.291992\n",
       "6667       -0.104492 -0.119141 -0.054688 -0.087891 -0.051758\n",
       "\n",
       "[6668 rows x 5 columns]"
      ]
     },
     "execution_count": 26,
     "metadata": {},
     "output_type": "execute_result"
    }
   ],
   "source": [
    "r2_orig_dat = pd.DataFrame(r2_orig_seq,columns=hic_targets['identifier'])\n",
    "r2_orig_dat"
   ]
  },
  {
   "cell_type": "code",
   "execution_count": 33,
   "id": "every-youth",
   "metadata": {},
   "outputs": [
    {
     "data": {
      "text/html": [
       "<div>\n",
       "<style scoped>\n",
       "    .dataframe tbody tr th:only-of-type {\n",
       "        vertical-align: middle;\n",
       "    }\n",
       "\n",
       "    .dataframe tbody tr th {\n",
       "        vertical-align: top;\n",
       "    }\n",
       "\n",
       "    .dataframe thead th {\n",
       "        text-align: right;\n",
       "    }\n",
       "</style>\n",
       "<table border=\"1\" class=\"dataframe\">\n",
       "  <thead>\n",
       "    <tr style=\"text-align: right;\">\n",
       "      <th>identifier</th>\n",
       "      <th>HFF</th>\n",
       "      <th>H1hESC</th>\n",
       "      <th>GM12878</th>\n",
       "      <th>IMR90</th>\n",
       "      <th>HCT116</th>\n",
       "    </tr>\n",
       "  </thead>\n",
       "  <tbody>\n",
       "    <tr>\n",
       "      <th>count</th>\n",
       "      <td>6668.000000</td>\n",
       "      <td>6668.000000</td>\n",
       "      <td>6668.000000</td>\n",
       "      <td>6668.000000</td>\n",
       "      <td>6668.000000</td>\n",
       "    </tr>\n",
       "    <tr>\n",
       "      <th>mean</th>\n",
       "      <td>-1.600342</td>\n",
       "      <td>-1.112020</td>\n",
       "      <td>-0.628632</td>\n",
       "      <td>-1.401528</td>\n",
       "      <td>-0.456898</td>\n",
       "    </tr>\n",
       "    <tr>\n",
       "      <th>std</th>\n",
       "      <td>8.485899</td>\n",
       "      <td>5.632772</td>\n",
       "      <td>3.420281</td>\n",
       "      <td>7.561402</td>\n",
       "      <td>2.476228</td>\n",
       "    </tr>\n",
       "    <tr>\n",
       "      <th>min</th>\n",
       "      <td>-155.500000</td>\n",
       "      <td>-89.125000</td>\n",
       "      <td>-69.187500</td>\n",
       "      <td>-150.125000</td>\n",
       "      <td>-48.687500</td>\n",
       "    </tr>\n",
       "    <tr>\n",
       "      <th>25%</th>\n",
       "      <td>-1.042969</td>\n",
       "      <td>-0.740234</td>\n",
       "      <td>-0.457275</td>\n",
       "      <td>-0.942383</td>\n",
       "      <td>-0.351807</td>\n",
       "    </tr>\n",
       "    <tr>\n",
       "      <th>50%</th>\n",
       "      <td>-0.473633</td>\n",
       "      <td>-0.358398</td>\n",
       "      <td>-0.175781</td>\n",
       "      <td>-0.394531</td>\n",
       "      <td>-0.127930</td>\n",
       "    </tr>\n",
       "    <tr>\n",
       "      <th>75%</th>\n",
       "      <td>-0.110352</td>\n",
       "      <td>-0.088623</td>\n",
       "      <td>-0.013672</td>\n",
       "      <td>-0.079102</td>\n",
       "      <td>-0.003906</td>\n",
       "    </tr>\n",
       "    <tr>\n",
       "      <th>max</th>\n",
       "      <td>0.632812</td>\n",
       "      <td>0.625488</td>\n",
       "      <td>0.619141</td>\n",
       "      <td>0.643555</td>\n",
       "      <td>0.579102</td>\n",
       "    </tr>\n",
       "  </tbody>\n",
       "</table>\n",
       "</div>"
      ],
      "text/plain": [
       "identifier          HFF       H1hESC      GM12878        IMR90       HCT116\n",
       "count       6668.000000  6668.000000  6668.000000  6668.000000  6668.000000\n",
       "mean          -1.600342    -1.112020    -0.628632    -1.401528    -0.456898\n",
       "std            8.485899     5.632772     3.420281     7.561402     2.476228\n",
       "min         -155.500000   -89.125000   -69.187500  -150.125000   -48.687500\n",
       "25%           -1.042969    -0.740234    -0.457275    -0.942383    -0.351807\n",
       "50%           -0.473633    -0.358398    -0.175781    -0.394531    -0.127930\n",
       "75%           -0.110352    -0.088623    -0.013672    -0.079102    -0.003906\n",
       "max            0.632812     0.625488     0.619141     0.643555     0.579102"
      ]
     },
     "execution_count": 33,
     "metadata": {},
     "output_type": "execute_result"
    }
   ],
   "source": [
    "r2_orig_dat.describe()"
   ]
  },
  {
   "cell_type": "code",
   "execution_count": 31,
   "id": "sublime-construction",
   "metadata": {},
   "outputs": [
    {
     "data": {
      "image/png": "[encoded data removed]",
      "text/plain": [
       "<Figure size 432x288 with 1 Axes>"
      ]
     },
     "metadata": {
      "needs_background": "light"
     },
     "output_type": "display_data"
    }
   ],
   "source": [
    "r2_orig_tr = r2_orig_seq.transpose()\n",
    "for i in range(len(r2_orig_tr)) :\n",
    "    plt.hist(r2_orig_tr[i],alpha=0.7)\n",
    "plt.show()"
   ]
  },
  {
   "cell_type": "code",
   "execution_count": null,
   "id": "white-insider",
   "metadata": {},
   "outputs": [],
   "source": []
  }
 ],
 "metadata": {
  "kernelspec": {
   "display_name": "Python 3",
   "language": "python",
   "name": "python3"
  },
  "language_info": {
   "codemirror_mode": {
    "name": "ipython",
    "version": 3
   },
   "file_extension": ".py",
   "mimetype": "text/x-python",
   "name": "python",
   "nbconvert_exporter": "python",
   "pygments_lexer": "ipython3",
   "version": "3.8.2"
  }
 },
 "nbformat": 4,
 "nbformat_minor": 5
}
