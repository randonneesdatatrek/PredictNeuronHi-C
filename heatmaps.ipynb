{
 "cells": [
  {
   "cell_type": "markdown",
   "metadata": {},
   "source": [
    "# Présentation graphique des données de contacts Hi-C normalisés"
   ]
  },
  {
   "cell_type": "code",
   "execution_count": 1,
   "metadata": {},
   "outputs": [],
   "source": [
    "import os.path as op\n",
    "import matplotlib.pyplot as plt\n",
    "import numpy as np\n",
    "import pandas\n",
    "import h5py"
   ]
  },
  {
   "cell_type": "code",
   "execution_count": 2,
   "metadata": {},
   "outputs": [],
   "source": [
    "import cooler"
   ]
  },
  {
   "cell_type": "code",
   "execution_count": 3,
   "metadata": {},
   "outputs": [],
   "source": [
    "# The following directive activates inline plotting\n",
    "%matplotlib inline"
   ]
  },
  {
   "cell_type": "code",
   "execution_count": 4,
   "metadata": {},
   "outputs": [],
   "source": [
    "filepath = \"/home/bureau/projects/def-bureau/distiller/results_iPSC/coolers_library_group/Neuron_libraries.hg38.mapq_30.2048.cool\""
   ]
  },
  {
   "cell_type": "code",
   "execution_count": 5,
   "metadata": {},
   "outputs": [],
   "source": [
    "c = cooler.Cooler(filepath)"
   ]
  },
  {
   "cell_type": "markdown",
   "metadata": {},
   "source": [
    "Vecteur des chromosomes"
   ]
  },
  {
   "cell_type": "code",
   "execution_count": 6,
   "metadata": {},
   "outputs": [
    {
     "data": {
      "text/plain": [
       "['chr1',\n",
       " 'chr2',\n",
       " 'chr3',\n",
       " 'chr4',\n",
       " 'chr5',\n",
       " 'chr6',\n",
       " 'chr7',\n",
       " 'chr8',\n",
       " 'chr9',\n",
       " 'chr10',\n",
       " 'chr11',\n",
       " 'chr12',\n",
       " 'chr13',\n",
       " 'chr14',\n",
       " 'chr15',\n",
       " 'chr16',\n",
       " 'chr17',\n",
       " 'chr18',\n",
       " 'chr19',\n",
       " 'chr20',\n",
       " 'chr21',\n",
       " 'chr22']"
      ]
     },
     "execution_count": 6,
     "metadata": {},
     "output_type": "execute_result"
    }
   ],
   "source": [
    "chr_seq = []\n",
    "for chr in range(1,23):\n",
    "    chr_seq.append(\"chr\" + str(chr))\n",
    "chr_seq"
   ]
  },
  {
   "cell_type": "code",
   "execution_count": null,
   "metadata": {},
   "outputs": [
    {
     "name": "stderr",
     "output_type": "stream",
     "text": [
      "<ipython-input-9-0346d4856cb0>:8: RuntimeWarning: divide by zero encountered in log10\n",
      "  im = ax.matshow(np.log10(arr), cmap='YlOrRd')\n"
     ]
    }
   ],
   "source": [
    "#for chr in chr_seq:\n",
    "chr = chr_seq[21]\n",
    "tmp = c.matrix(balance=True, sparse=True).fetch(chr)\n",
    "arr= tmp.toarray()\n",
    "fig = plt.figure(figsize=(10, 10))\n",
    "ax = fig.add_subplot(111)\n",
    "plt.title(chr)\n",
    "im = ax.matshow(np.log10(arr), cmap='YlOrRd')\n",
    "fig.colorbar(im)"
   ]
  },
  {
   "cell_type": "code",
   "execution_count": 8,
   "metadata": {},
   "outputs": [
    {
     "name": "stdout",
     "output_type": "stream",
     "text": [
      "Variable   Type          Data/Info\n",
      "----------------------------------\n",
      "arr        ndarray       24814x24814: 615734596 elems, type `float64`, 4925876768 bytes (4697.682159423828 Mb)\n",
      "c          Cooler        <Cooler \"Neuron_libraries<...>38.mapq_30.2048.cool::/\">\n",
      "chr        str           chr22\n",
      "chr_seq    list          n=22\n",
      "cooler     module        <module 'cooler' from '/l<...>ages/cooler/__init__.py'>\n",
      "filepath   str           /home/bureau/projects/def<...>es.hg38.mapq_30.2048.cool\n",
      "h5py       module        <module 'h5py' from '/lus<...>ckages/h5py/__init__.py'>\n",
      "np         module        <module 'numpy' from '/lu<...>kages/numpy/__init__.py'>\n",
      "op         module        <module 'posixpath' from <...>/python3.8/posixpath.py'>\n",
      "pandas     module        <module 'pandas' from '/c<...>ages/pandas/__init__.py'>\n",
      "plt        module        <module 'matplotlib.pyplo<...>es/matplotlib/pyplot.py'>\n",
      "tmp        coo_matrix      (5215, 5215)\tnan\\n  (52<...>nan\\n  (24792, 24791)\tnan\n"
     ]
    }
   ],
   "source": [
    "%whos"
   ]
  },
  {
   "cell_type": "code",
   "execution_count": null,
   "metadata": {},
   "outputs": [],
   "source": []
  }
 ],
 "metadata": {
  "kernelspec": {
   "display_name": "Python 3",
   "language": "python",
   "name": "python3"
  },
  "language_info": {
   "codemirror_mode": {
    "name": "ipython",
    "version": 3
   },
   "file_extension": ".py",
   "mimetype": "text/x-python",
   "name": "python",
   "nbconvert_exporter": "python",
   "pygments_lexer": "ipython3",
   "version": "3.8.2"
  }
 },
 "nbformat": 4,
 "nbformat_minor": 4
}
