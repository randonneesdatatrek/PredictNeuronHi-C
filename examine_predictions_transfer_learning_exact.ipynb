{
 "cells": [
  {
   "cell_type": "markdown",
   "id": "smart-vintage",
   "metadata": {},
   "source": [
    "# Examen des prédictions du modèle estimé par apprentissage de transfert sur les séquences de test"
   ]
  },
  {
   "cell_type": "markdown",
   "id": "specialized-promotion",
   "metadata": {},
   "source": [
    "## Estimation par solution exacte des équations d'estimation"
   ]
  },
  {
   "cell_type": "code",
   "execution_count": 1,
   "id": "relevant-header",
   "metadata": {},
   "outputs": [],
   "source": [
    "import json\n",
    "import numpy as np\n",
    "import pandas as pd\n",
    "import sklearn"
   ]
  },
  {
   "cell_type": "code",
   "execution_count": 2,
   "id": "mature-syndication",
   "metadata": {},
   "outputs": [],
   "source": [
    "import h5py\n",
    "import cooler"
   ]
  },
  {
   "cell_type": "code",
   "execution_count": 3,
   "id": "color-pharmacy",
   "metadata": {},
   "outputs": [],
   "source": [
    "from basenji import dataset"
   ]
  },
  {
   "cell_type": "code",
   "execution_count": 4,
   "id": "appreciated-hanging",
   "metadata": {},
   "outputs": [],
   "source": [
    "import matplotlib.pyplot as plt"
   ]
  },
  {
   "cell_type": "code",
   "execution_count": 5,
   "id": "described-driving",
   "metadata": {},
   "outputs": [],
   "source": [
    "predpath = \"/home/bureau/projects/def-bureau/bureau/ran-donnees/PredictNeuronHi-C/akita_pred_sans_final_test_lisse/\"\n",
    "predfile = predpath + \"preds.h5\""
   ]
  },
  {
   "cell_type": "code",
   "execution_count": 6,
   "id": "standing-water",
   "metadata": {},
   "outputs": [
    {
     "data": {
      "text/plain": [
       "<HDF5 file \"preds.h5\" (mode r)>"
      ]
     },
     "execution_count": 6,
     "metadata": {},
     "output_type": "execute_result"
    }
   ],
   "source": [
    "pred = h5py.File(predfile, 'r')\n",
    "pred"
   ]
  },
  {
   "cell_type": "code",
   "execution_count": 7,
   "id": "fundamental-police",
   "metadata": {},
   "outputs": [
    {
     "data": {
      "text/plain": [
       "<KeysViewHDF5 ['preds']>"
      ]
     },
     "execution_count": 7,
     "metadata": {},
     "output_type": "execute_result"
    }
   ],
   "source": [
    "pred.keys()"
   ]
  },
  {
   "cell_type": "code",
   "execution_count": 8,
   "id": "false-caribbean",
   "metadata": {},
   "outputs": [
    {
     "data": {
      "text/plain": [
       "(6668, 99681, 48)"
      ]
     },
     "execution_count": 8,
     "metadata": {},
     "output_type": "execute_result"
    }
   ],
   "source": [
    "pred['preds'].shape"
   ]
  },
  {
   "cell_type": "code",
   "execution_count": 9,
   "id": "earned-rainbow",
   "metadata": {},
   "outputs": [],
   "source": [
    "#targetfile = \"/home/bureau/projects/def-bureau/bureau/distiller/iPSC/data/1s/seqs_cov/0.h5\"\n",
    "data_dir = \"/home/bureau/projects/def-bureau/bureau/distiller/iPSC/data/1s/\"\n",
    "test_data = dataset.SeqDataset(data_dir, 'test', batch_size=8)"
   ]
  },
  {
   "cell_type": "code",
   "execution_count": 10,
   "id": "ultimate-pasta",
   "metadata": {},
   "outputs": [],
   "source": [
    "# Les données de tests sont les 6667 (pred['preds'].shape[0]) dernières\n",
    "#test_targets = targets['targets'][targets['targets'].shape[0]-pred['preds'].shape[0]:,]\n",
    "test_targets = test_data.numpy(return_inputs=False, return_outputs=True)"
   ]
  },
  {
   "cell_type": "code",
   "execution_count": 11,
   "id": "saving-control",
   "metadata": {},
   "outputs": [
    {
     "data": {
      "text/plain": [
       "(6668, 99681, 1)"
      ]
     },
     "execution_count": 11,
     "metadata": {},
     "output_type": "execute_result"
    }
   ],
   "source": [
    "test_targets.shape"
   ]
  },
  {
   "cell_type": "markdown",
   "id": "polish-marriage",
   "metadata": {},
   "source": [
    "## Calcul des prédictions"
   ]
  },
  {
   "cell_type": "code",
   "execution_count": 12,
   "id": "lyric-reminder",
   "metadata": {},
   "outputs": [],
   "source": [
    "# Lecture des betas\n",
    "beta_dat = pd.read_csv(\"beta_final.csv\",index_col=0)"
   ]
  },
  {
   "cell_type": "code",
   "execution_count": 13,
   "id": "dying-rocket",
   "metadata": {},
   "outputs": [
    {
     "data": {
      "text/html": [
       "<div>\n",
       "<style scoped>\n",
       "    .dataframe tbody tr th:only-of-type {\n",
       "        vertical-align: middle;\n",
       "    }\n",
       "\n",
       "    .dataframe tbody tr th {\n",
       "        vertical-align: top;\n",
       "    }\n",
       "\n",
       "    .dataframe thead th {\n",
       "        text-align: right;\n",
       "    }\n",
       "</style>\n",
       "<table border=\"1\" class=\"dataframe\">\n",
       "  <thead>\n",
       "    <tr style=\"text-align: right;\">\n",
       "      <th></th>\n",
       "      <th>0</th>\n",
       "    </tr>\n",
       "  </thead>\n",
       "  <tbody>\n",
       "    <tr>\n",
       "      <th>0</th>\n",
       "      <td>-0.299107</td>\n",
       "    </tr>\n",
       "    <tr>\n",
       "      <th>1</th>\n",
       "      <td>0.283810</td>\n",
       "    </tr>\n",
       "    <tr>\n",
       "      <th>2</th>\n",
       "      <td>0.058483</td>\n",
       "    </tr>\n",
       "    <tr>\n",
       "      <th>3</th>\n",
       "      <td>0.097467</td>\n",
       "    </tr>\n",
       "    <tr>\n",
       "      <th>4</th>\n",
       "      <td>0.015617</td>\n",
       "    </tr>\n",
       "    <tr>\n",
       "      <th>5</th>\n",
       "      <td>-0.068393</td>\n",
       "    </tr>\n",
       "    <tr>\n",
       "      <th>6</th>\n",
       "      <td>-0.002551</td>\n",
       "    </tr>\n",
       "    <tr>\n",
       "      <th>7</th>\n",
       "      <td>-0.272626</td>\n",
       "    </tr>\n",
       "    <tr>\n",
       "      <th>8</th>\n",
       "      <td>-0.098410</td>\n",
       "    </tr>\n",
       "    <tr>\n",
       "      <th>9</th>\n",
       "      <td>0.019163</td>\n",
       "    </tr>\n",
       "    <tr>\n",
       "      <th>10</th>\n",
       "      <td>-0.010087</td>\n",
       "    </tr>\n",
       "    <tr>\n",
       "      <th>11</th>\n",
       "      <td>-0.013675</td>\n",
       "    </tr>\n",
       "    <tr>\n",
       "      <th>12</th>\n",
       "      <td>-0.169742</td>\n",
       "    </tr>\n",
       "    <tr>\n",
       "      <th>13</th>\n",
       "      <td>-0.033872</td>\n",
       "    </tr>\n",
       "    <tr>\n",
       "      <th>14</th>\n",
       "      <td>-0.098380</td>\n",
       "    </tr>\n",
       "    <tr>\n",
       "      <th>15</th>\n",
       "      <td>-0.081175</td>\n",
       "    </tr>\n",
       "    <tr>\n",
       "      <th>16</th>\n",
       "      <td>0.193121</td>\n",
       "    </tr>\n",
       "    <tr>\n",
       "      <th>17</th>\n",
       "      <td>0.203548</td>\n",
       "    </tr>\n",
       "    <tr>\n",
       "      <th>18</th>\n",
       "      <td>0.157544</td>\n",
       "    </tr>\n",
       "    <tr>\n",
       "      <th>19</th>\n",
       "      <td>-0.045750</td>\n",
       "    </tr>\n",
       "    <tr>\n",
       "      <th>20</th>\n",
       "      <td>-0.052456</td>\n",
       "    </tr>\n",
       "    <tr>\n",
       "      <th>21</th>\n",
       "      <td>-0.197307</td>\n",
       "    </tr>\n",
       "    <tr>\n",
       "      <th>22</th>\n",
       "      <td>-0.146910</td>\n",
       "    </tr>\n",
       "    <tr>\n",
       "      <th>23</th>\n",
       "      <td>-0.112473</td>\n",
       "    </tr>\n",
       "    <tr>\n",
       "      <th>24</th>\n",
       "      <td>-0.095802</td>\n",
       "    </tr>\n",
       "    <tr>\n",
       "      <th>25</th>\n",
       "      <td>-0.029028</td>\n",
       "    </tr>\n",
       "    <tr>\n",
       "      <th>26</th>\n",
       "      <td>0.004693</td>\n",
       "    </tr>\n",
       "    <tr>\n",
       "      <th>27</th>\n",
       "      <td>0.202268</td>\n",
       "    </tr>\n",
       "    <tr>\n",
       "      <th>28</th>\n",
       "      <td>0.012834</td>\n",
       "    </tr>\n",
       "    <tr>\n",
       "      <th>29</th>\n",
       "      <td>-0.008965</td>\n",
       "    </tr>\n",
       "    <tr>\n",
       "      <th>30</th>\n",
       "      <td>0.074261</td>\n",
       "    </tr>\n",
       "    <tr>\n",
       "      <th>31</th>\n",
       "      <td>0.093199</td>\n",
       "    </tr>\n",
       "    <tr>\n",
       "      <th>32</th>\n",
       "      <td>-0.083405</td>\n",
       "    </tr>\n",
       "    <tr>\n",
       "      <th>33</th>\n",
       "      <td>-0.029681</td>\n",
       "    </tr>\n",
       "    <tr>\n",
       "      <th>34</th>\n",
       "      <td>0.011213</td>\n",
       "    </tr>\n",
       "    <tr>\n",
       "      <th>35</th>\n",
       "      <td>0.046660</td>\n",
       "    </tr>\n",
       "    <tr>\n",
       "      <th>36</th>\n",
       "      <td>0.016961</td>\n",
       "    </tr>\n",
       "    <tr>\n",
       "      <th>37</th>\n",
       "      <td>0.126417</td>\n",
       "    </tr>\n",
       "    <tr>\n",
       "      <th>38</th>\n",
       "      <td>-0.145594</td>\n",
       "    </tr>\n",
       "    <tr>\n",
       "      <th>39</th>\n",
       "      <td>-0.002151</td>\n",
       "    </tr>\n",
       "    <tr>\n",
       "      <th>40</th>\n",
       "      <td>-0.050409</td>\n",
       "    </tr>\n",
       "    <tr>\n",
       "      <th>41</th>\n",
       "      <td>-0.032768</td>\n",
       "    </tr>\n",
       "    <tr>\n",
       "      <th>42</th>\n",
       "      <td>-0.036106</td>\n",
       "    </tr>\n",
       "    <tr>\n",
       "      <th>43</th>\n",
       "      <td>-0.064918</td>\n",
       "    </tr>\n",
       "    <tr>\n",
       "      <th>44</th>\n",
       "      <td>-0.060107</td>\n",
       "    </tr>\n",
       "    <tr>\n",
       "      <th>45</th>\n",
       "      <td>-0.238478</td>\n",
       "    </tr>\n",
       "    <tr>\n",
       "      <th>46</th>\n",
       "      <td>-0.234375</td>\n",
       "    </tr>\n",
       "    <tr>\n",
       "      <th>47</th>\n",
       "      <td>-0.111812</td>\n",
       "    </tr>\n",
       "    <tr>\n",
       "      <th>48</th>\n",
       "      <td>0.252301</td>\n",
       "    </tr>\n",
       "  </tbody>\n",
       "</table>\n",
       "</div>"
      ],
      "text/plain": [
       "           0\n",
       "0  -0.299107\n",
       "1   0.283810\n",
       "2   0.058483\n",
       "3   0.097467\n",
       "4   0.015617\n",
       "5  -0.068393\n",
       "6  -0.002551\n",
       "7  -0.272626\n",
       "8  -0.098410\n",
       "9   0.019163\n",
       "10 -0.010087\n",
       "11 -0.013675\n",
       "12 -0.169742\n",
       "13 -0.033872\n",
       "14 -0.098380\n",
       "15 -0.081175\n",
       "16  0.193121\n",
       "17  0.203548\n",
       "18  0.157544\n",
       "19 -0.045750\n",
       "20 -0.052456\n",
       "21 -0.197307\n",
       "22 -0.146910\n",
       "23 -0.112473\n",
       "24 -0.095802\n",
       "25 -0.029028\n",
       "26  0.004693\n",
       "27  0.202268\n",
       "28  0.012834\n",
       "29 -0.008965\n",
       "30  0.074261\n",
       "31  0.093199\n",
       "32 -0.083405\n",
       "33 -0.029681\n",
       "34  0.011213\n",
       "35  0.046660\n",
       "36  0.016961\n",
       "37  0.126417\n",
       "38 -0.145594\n",
       "39 -0.002151\n",
       "40 -0.050409\n",
       "41 -0.032768\n",
       "42 -0.036106\n",
       "43 -0.064918\n",
       "44 -0.060107\n",
       "45 -0.238478\n",
       "46 -0.234375\n",
       "47 -0.111812\n",
       "48  0.252301"
      ]
     },
     "execution_count": 13,
     "metadata": {},
     "output_type": "execute_result"
    }
   ],
   "source": [
    "beta_dat"
   ]
  },
  {
   "cell_type": "code",
   "execution_count": 29,
   "id": "sporting-restoration",
   "metadata": {},
   "outputs": [
    {
     "data": {
      "text/plain": [
       "(99681, 48)"
      ]
     },
     "execution_count": 29,
     "metadata": {},
     "output_type": "execute_result"
    }
   ],
   "source": [
    "X = np.array(pred['preds'][0,:pred['preds'].shape[1],:pred['preds'].shape[2]])\n",
    "X.shape"
   ]
  },
  {
   "cell_type": "code",
   "execution_count": 15,
   "id": "imperial-giving",
   "metadata": {},
   "outputs": [],
   "source": [
    "import statsmodels.api as sm"
   ]
  },
  {
   "cell_type": "code",
   "execution_count": 31,
   "id": "crude-stereo",
   "metadata": {},
   "outputs": [
    {
     "data": {
      "text/plain": [
       "array([[ 1.00000000e+00,  1.56982422e-01,  3.10302734e-01, ...,\n",
       "         4.25048828e-01, -5.00202179e-04, -8.11767578e-03],\n",
       "       [ 1.00000000e+00,  1.47949219e-01,  2.95898438e-01, ...,\n",
       "         4.27246094e-01,  1.03988647e-02, -1.21116638e-03],\n",
       "       [ 1.00000000e+00,  1.34399414e-01,  2.81982422e-01, ...,\n",
       "         4.27246094e-01,  1.14288330e-02,  4.21142578e-03],\n",
       "       ...,\n",
       "       [ 1.00000000e+00,  7.95288086e-02,  2.69042969e-01, ...,\n",
       "         4.41894531e-01, -2.69287109e-01,  1.20258331e-03],\n",
       "       [ 1.00000000e+00,  8.02612305e-02,  2.62939453e-01, ...,\n",
       "         4.38964844e-01, -2.60742188e-01,  1.01470947e-02],\n",
       "       [ 1.00000000e+00,  8.30078125e-02,  2.64160156e-01, ...,\n",
       "         4.33837891e-01, -2.67822266e-01, -8.34465027e-04]])"
      ]
     },
     "execution_count": 31,
     "metadata": {},
     "output_type": "execute_result"
    }
   ],
   "source": [
    "X = sm.add_constant(X)\n",
    "X"
   ]
  },
  {
   "cell_type": "code",
   "execution_count": 32,
   "id": "capable-panic",
   "metadata": {},
   "outputs": [
    {
     "data": {
      "text/plain": [
       "(99681, 1)"
      ]
     },
     "execution_count": 32,
     "metadata": {},
     "output_type": "execute_result"
    }
   ],
   "source": [
    "tmp = np.dot(X,beta_dat)\n",
    "tmp.shape"
   ]
  },
  {
   "cell_type": "code",
   "execution_count": 16,
   "id": "continued-monkey",
   "metadata": {},
   "outputs": [],
   "source": [
    "pred_final = np.zeros((pred['preds'].shape[0],pred['preds'].shape[1]))\n",
    "for j in range(pred['preds'].shape[0]):\n",
    "    X = np.array(pred['preds'][j,:pred['preds'].shape[1],:pred['preds'].shape[2]])\n",
    "    X = sm.add_constant(X)\n",
    "    pred_final[j,] = np.dot(X,beta_dat)[:,0]"
   ]
  },
  {
   "cell_type": "code",
   "execution_count": 17,
   "id": "reverse-exhibit",
   "metadata": {},
   "outputs": [
    {
     "ename": "NameError",
     "evalue": "name 'predf' is not defined",
     "output_type": "error",
     "traceback": [
      "\u001b[0;31m---------------------------------------------------------------------------\u001b[0m",
      "\u001b[0;31mNameError\u001b[0m                                 Traceback (most recent call last)",
      "\u001b[0;32m<ipython-input-17-0904b8ffd56e>\u001b[0m in \u001b[0;36m<module>\u001b[0;34m\u001b[0m\n\u001b[1;32m      1\u001b[0m \u001b[0;31m#plt.scatter(pred_final[1,:], test_targets[1,:,0])\u001b[0m\u001b[0;34m\u001b[0m\u001b[0;34m\u001b[0m\u001b[0;34m\u001b[0m\u001b[0m\n\u001b[0;32m----> 2\u001b[0;31m \u001b[0mplt\u001b[0m\u001b[0;34m.\u001b[0m\u001b[0mscatter\u001b[0m\u001b[0;34m(\u001b[0m\u001b[0mpredf\u001b[0m\u001b[0;34m[\u001b[0m\u001b[0;34m'pred_final'\u001b[0m\u001b[0;34m]\u001b[0m\u001b[0;34m[\u001b[0m\u001b[0;36m1\u001b[0m\u001b[0;34m,\u001b[0m\u001b[0;34m:\u001b[0m\u001b[0;34m]\u001b[0m\u001b[0;34m,\u001b[0m \u001b[0mtest_targets\u001b[0m\u001b[0;34m[\u001b[0m\u001b[0;36m1\u001b[0m\u001b[0;34m,\u001b[0m\u001b[0;34m:\u001b[0m\u001b[0;34m,\u001b[0m\u001b[0;36m0\u001b[0m\u001b[0;34m]\u001b[0m\u001b[0;34m)\u001b[0m\u001b[0;34m\u001b[0m\u001b[0;34m\u001b[0m\u001b[0m\n\u001b[0m\u001b[1;32m      3\u001b[0m \u001b[0mplt\u001b[0m\u001b[0;34m.\u001b[0m\u001b[0mshow\u001b[0m\u001b[0;34m(\u001b[0m\u001b[0;34m)\u001b[0m\u001b[0;34m\u001b[0m\u001b[0;34m\u001b[0m\u001b[0m\n",
      "\u001b[0;31mNameError\u001b[0m: name 'predf' is not defined"
     ]
    }
   ],
   "source": [
    "#plt.scatter(pred_final[1,:], test_targets[1,:,0])\n",
    "plt.scatter(predf['pred_final'][1,:], test_targets[1,:,0])\n",
    "plt.show()"
   ]
  },
  {
   "cell_type": "markdown",
   "id": "talented-pantyhose",
   "metadata": {},
   "source": [
    "## Calcul de l'erreur quadratique moyenne par lignée cellulaire utilisée pour la prédiction"
   ]
  },
  {
   "cell_type": "code",
   "execution_count": 18,
   "id": "inappropriate-footwear",
   "metadata": {},
   "outputs": [],
   "source": [
    "from sklearn.metrics import mean_squared_error\n",
    "mse_transfer = mean_squared_error(test_targets[:,:,0],pred_final[:,:])"
   ]
  },
  {
   "cell_type": "code",
   "execution_count": 19,
   "id": "nonprofit-edition",
   "metadata": {},
   "outputs": [
    {
     "data": {
      "text/plain": [
       "0.2363677396545059"
      ]
     },
     "metadata": {},
     "output_type": "display_data"
    }
   ],
   "source": [
    "display(mse_transfer)"
   ]
  },
  {
   "cell_type": "markdown",
   "id": "polar-completion",
   "metadata": {},
   "source": [
    "## Calcul de l'erreur quadratique moyenne pour chaque séquence de 1Mb"
   ]
  },
  {
   "cell_type": "code",
   "execution_count": 20,
   "id": "muslim-resident",
   "metadata": {},
   "outputs": [],
   "source": [
    "mse_transfer_seq = np.zeros(pred_final.shape[0])\n",
    "for j in range(pred_final.shape[0]):\n",
    "    mse_transfer_seq[j] = mean_squared_error(test_targets[j,:,0],pred_final[j,])"
   ]
  },
  {
   "cell_type": "code",
   "execution_count": 21,
   "id": "virtual-fighter",
   "metadata": {},
   "outputs": [],
   "source": [
    "mse_transfer_dat = pd.DataFrame(mse_transfer_seq)\n",
    "mse_transfer_dat.to_csv(\"mse_transfer.csv\")"
   ]
  },
  {
   "cell_type": "code",
   "execution_count": 22,
   "id": "quick-intranet",
   "metadata": {},
   "outputs": [
    {
     "data": {
      "image/png": "[encoded data removed]",
      "text/plain": [
       "<Figure size 432x288 with 1 Axes>"
      ]
     },
     "metadata": {
      "needs_background": "light"
     },
     "output_type": "display_data"
    }
   ],
   "source": [
    "plt.hist(np.log10(mse_transfer_seq))\n",
    "plt.show()"
   ]
  },
  {
   "cell_type": "markdown",
   "id": "bottom-conclusion",
   "metadata": {},
   "source": [
    "## Sauvegarde des prédictions"
   ]
  },
  {
   "cell_type": "code",
   "execution_count": 23,
   "id": "industrial-briefs",
   "metadata": {},
   "outputs": [],
   "source": [
    "hf = h5py.File('pred_final.h5', 'w')\n",
    "hf.create_dataset('pred_final',data=pred_final)\n",
    "hf.close()"
   ]
  },
  {
   "cell_type": "code",
   "execution_count": 12,
   "id": "level-courtesy",
   "metadata": {},
   "outputs": [
    {
     "data": {
      "text/plain": [
       "<HDF5 file \"pred_final.h5\" (mode r)>"
      ]
     },
     "execution_count": 12,
     "metadata": {},
     "output_type": "execute_result"
    }
   ],
   "source": [
    "predf = h5py.File('pred_final.h5', 'r')\n",
    "predf"
   ]
  },
  {
   "cell_type": "code",
   "execution_count": 13,
   "id": "noble-vessel",
   "metadata": {},
   "outputs": [
    {
     "data": {
      "text/plain": [
       "<KeysViewHDF5 ['pred_final']>"
      ]
     },
     "execution_count": 13,
     "metadata": {},
     "output_type": "execute_result"
    }
   ],
   "source": [
    "predf.keys()"
   ]
  },
  {
   "cell_type": "code",
   "execution_count": 14,
   "id": "black-quilt",
   "metadata": {},
   "outputs": [
    {
     "data": {
      "text/plain": [
       "(6668, 99681)"
      ]
     },
     "execution_count": 14,
     "metadata": {},
     "output_type": "execute_result"
    }
   ],
   "source": [
    "predf['pred_final'].shape"
   ]
  },
  {
   "cell_type": "code",
   "execution_count": 27,
   "id": "wound-craft",
   "metadata": {},
   "outputs": [],
   "source": [
    "#from sklearn.metrics import mean_squared_error\n",
    "#mse_transfer = mean_squared_error(test_targets[:,:,0],predf['pred_final'][:,:])"
   ]
  },
  {
   "cell_type": "markdown",
   "id": "loaded-vegetarian",
   "metadata": {},
   "source": [
    "## Calcul de la variance expliquée"
   ]
  },
  {
   "cell_type": "code",
   "execution_count": null,
   "id": "intelligent-subject",
   "metadata": {},
   "outputs": [],
   "source": [
    "from sklearn.metrics import explained_variance_score\n",
    "r2_transfer = explained_variance_score(test_targets[:,:,0],predf['pred_final'][:,:])"
   ]
  },
  {
   "cell_type": "code",
   "execution_count": null,
   "id": "thrown-terry",
   "metadata": {},
   "outputs": [],
   "source": [
    "display(r2_transfer)"
   ]
  },
  {
   "cell_type": "code",
   "execution_count": 16,
   "id": "connected-humidity",
   "metadata": {},
   "outputs": [],
   "source": [
    "r2_transfer_seq = np.zeros(predf['pred_final'].shape[0])\n",
    "for j in range(predf['pred_final'].shape[0]):\n",
    "    r2_transfer_seq[j] = explained_variance_score(test_targets[j,:,0],predf['pred_final'][j,])"
   ]
  },
  {
   "cell_type": "code",
   "execution_count": 17,
   "id": "differential-bargain",
   "metadata": {},
   "outputs": [
    {
     "data": {
      "image/png": "[encoded data removed]",
      "text/plain": [
       "<Figure size 432x288 with 1 Axes>"
      ]
     },
     "metadata": {
      "needs_background": "light"
     },
     "output_type": "display_data"
    }
   ],
   "source": [
    "plt.hist(r2_transfer_seq)\n",
    "plt.show()"
   ]
  },
  {
   "cell_type": "code",
   "execution_count": 18,
   "id": "tough-speaker",
   "metadata": {},
   "outputs": [
    {
     "data": {
      "text/plain": [
       "-0.09838707957363106"
      ]
     },
     "execution_count": 18,
     "metadata": {},
     "output_type": "execute_result"
    }
   ],
   "source": [
    "np.mean(r2_transfer_seq)"
   ]
  },
  {
   "cell_type": "code",
   "execution_count": 19,
   "id": "literary-space",
   "metadata": {},
   "outputs": [
    {
     "data": {
      "text/plain": [
       "0.27709716244937577"
      ]
     },
     "execution_count": 19,
     "metadata": {},
     "output_type": "execute_result"
    }
   ],
   "source": [
    "np.median(r2_transfer_seq)"
   ]
  },
  {
   "cell_type": "code",
   "execution_count": null,
   "id": "military-harvest",
   "metadata": {},
   "outputs": [],
   "source": []
  }
 ],
 "metadata": {
  "kernelspec": {
   "display_name": "Python 3",
   "language": "python",
   "name": "python3"
  },
  "language_info": {
   "codemirror_mode": {
    "name": "ipython",
    "version": 3
   },
   "file_extension": ".py",
   "mimetype": "text/x-python",
   "name": "python",
   "nbconvert_exporter": "python",
   "pygments_lexer": "ipython3",
   "version": "3.8.2"
  }
 },
 "nbformat": 4,
 "nbformat_minor": 5
}
