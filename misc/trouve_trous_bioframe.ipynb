{
 "cells": [
  {
   "cell_type": "markdown",
   "metadata": {},
   "source": [
    "# Détermine les trous de 10 bins ou plus dans les contacts"
   ]
  },
  {
   "cell_type": "code",
   "execution_count": 1,
   "metadata": {},
   "outputs": [],
   "source": [
    "import os.path as op\n",
    "import numpy as np\n",
    "import pandas as pd\n",
    "import h5py"
   ]
  },
  {
   "cell_type": "code",
   "execution_count": 2,
   "metadata": {},
   "outputs": [],
   "source": [
    "import cooler"
   ]
  },
  {
   "cell_type": "markdown",
   "metadata": {},
   "source": [
    "## Chargement des données"
   ]
  },
  {
   "cell_type": "code",
   "execution_count": 3,
   "metadata": {},
   "outputs": [
    {
     "data": {
      "text/plain": [
       "array(['/home/bureau/projects/def-bureau/distiller/results_iPSC/coolers_library_group/Neuron_libraries.hg38.mapq_30.2048.cool'],\n",
       "      dtype=object)"
      ]
     },
     "execution_count": 3,
     "metadata": {},
     "output_type": "execute_result"
    }
   ],
   "source": [
    "hic_target_files = pd.DataFrame(pd.Series(\"/home/bureau/projects/def-bureau/distiller/results_iPSC/coolers_library_group/Neuron_libraries.hg38.mapq_30.2048.cool\",name=\"file\"))\n",
    "hic_target_files[\"file\"].values"
   ]
  },
  {
   "cell_type": "code",
   "execution_count": 7,
   "metadata": {},
   "outputs": [],
   "source": [
    "genomeName = \"hg38\""
   ]
  },
  {
   "cell_type": "markdown",
   "metadata": {},
   "source": [
    "Code ci-dessous fourni gracieusement par Geoff Fudenberg"
   ]
  },
  {
   "cell_type": "code",
   "execution_count": 5,
   "metadata": {},
   "outputs": [
    {
     "name": "stdout",
     "output_type": "stream",
     "text": [
      "210208\n"
     ]
    }
   ],
   "source": [
    "# Note importante: la bonne version de bioframe est importée seulement dans l'environnement pairtools, pas dans cooltools\n",
    "import bioframe as bf\n",
    "import datetime\n",
    "now = datetime.datetime.now()\n",
    "now = str(now)[2:10].replace('-','')\n",
    "print(now)"
   ]
  },
  {
   "cell_type": "code",
   "execution_count": 8,
   "metadata": {},
   "outputs": [
    {
     "name": "stdout",
     "output_type": "stream",
     "text": [
      "/home/bureau/projects/def-bureau/distiller/results_iPSC/coolers_library_group/Neuron_libraries.hg38.mapq_30.2048.cool\n",
      "num bad bins:  253063 , num Mb 517.847641\n",
      "num gaps:  1180 , num Mb 417.087973\n"
     ]
    }
   ],
   "source": [
    "num_bad_conseq = 10\n",
    "badbins_combined = []\n",
    "for hic_file in hic_target_files['file'].values:\n",
    "    print(hic_file)\n",
    "    # open genome Hi-C file\n",
    "    genome_hic_cool = cooler.Cooler(hic_file)    \n",
    "    binSize = genome_hic_cool.info['bin-size']\n",
    "    bad_inds =  pd.isnull( genome_hic_cool.bins()['weight'][:].values )\n",
    "    badbins = bf.merge(\n",
    "        genome_hic_cool.bins()[:].iloc[ bad_inds ][['chrom','start','end']]) \n",
    "    badbins.rename(columns={'chrom':'chr','end':'stop'},inplace=True)\n",
    "    badbin_lens = (badbins['stop'].values-badbins['start'].values)\n",
    "    print('num bad bins: ', np.sum(bad_inds),', num Mb',np.sum(badbin_lens)/1e6)\n",
    "    badbins_combined.append( badbins.iloc[ (badbin_lens > (binSize*num_bad_conseq)) ] )\n",
    "\n",
    "badbins_combined = pd.concat(badbins_combined)\n",
    "badbins_combined.sort_values(['chr','start','stop'],inplace=True) #just in case \n",
    "badbins_combined = bf.merge(badbins_combined, cols=['chr','start','stop'])\n",
    "\n",
    "badbin_lens = (badbins_combined['stop'].values - badbins_combined['start'].values)\n",
    "print('num gaps: ',len(badbins_combined),', num Mb',np.sum(badbin_lens)/1e6)\n",
    "badbins_combined.to_csv( now+'_gaps_'+genomeName+'_binSize'+str(binSize)+\n",
    "                        '_numconseq'+str(num_bad_conseq)+'.bed',   \n",
    "                        sep='\\t', index=False, header=False, columns=['chr','start','stop'])"
   ]
  },
  {
   "cell_type": "code",
   "execution_count": 35,
   "metadata": {},
   "outputs": [],
   "source": []
  },
  {
   "cell_type": "code",
   "execution_count": null,
   "metadata": {},
   "outputs": [],
   "source": []
  }
 ],
 "metadata": {
  "kernelspec": {
   "display_name": "Python 3",
   "language": "python",
   "name": "python3"
  },
  "language_info": {
   "codemirror_mode": {
    "name": "ipython",
    "version": 3
   },
   "file_extension": ".py",
   "mimetype": "text/x-python",
   "name": "python",
   "nbconvert_exporter": "python",
   "pygments_lexer": "ipython3",
   "version": "3.6.3"
  }
 },
 "nbformat": 4,
 "nbformat_minor": 4
}
