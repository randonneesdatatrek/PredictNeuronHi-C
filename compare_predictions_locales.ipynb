{
 "cells": [
  {
   "cell_type": "markdown",
   "id": "japanese-lesson",
   "metadata": {},
   "source": [
    "# Comparaison des prédictions des différentes lignées cellulaires et du modèle estimé par apprentissage de transfert sur certaines séquences de test"
   ]
  },
  {
   "cell_type": "code",
   "execution_count": 1,
   "id": "offensive-beauty",
   "metadata": {},
   "outputs": [],
   "source": [
    "import json\n",
    "import numpy as np\n",
    "import pandas as pd\n",
    "import statsmodels.api as sm"
   ]
  },
  {
   "cell_type": "code",
   "execution_count": 2,
   "id": "premier-niagara",
   "metadata": {},
   "outputs": [],
   "source": [
    "import h5py\n",
    "import cooler"
   ]
  },
  {
   "cell_type": "code",
   "execution_count": 3,
   "id": "potential-electricity",
   "metadata": {},
   "outputs": [],
   "source": [
    "import matplotlib.pyplot as plt"
   ]
  },
  {
   "cell_type": "code",
   "execution_count": 4,
   "id": "sapphire-screen",
   "metadata": {},
   "outputs": [],
   "source": [
    "predpath = \"/home/bureau/projects/def-bureau/bureau/ran-donnees/PredictNeuronHi-C/akita_pred_test/\"\n",
    "predfile = predpath + \"preds.h5\""
   ]
  },
  {
   "cell_type": "code",
   "execution_count": 5,
   "id": "secure-plumbing",
   "metadata": {},
   "outputs": [
    {
     "data": {
      "text/plain": [
       "<HDF5 file \"preds.h5\" (mode r)>"
      ]
     },
     "execution_count": 5,
     "metadata": {},
     "output_type": "execute_result"
    }
   ],
   "source": [
    "pred = h5py.File(predfile, 'r')\n",
    "pred"
   ]
  },
  {
   "cell_type": "code",
   "execution_count": 6,
   "id": "worldwide-situation",
   "metadata": {},
   "outputs": [
    {
     "data": {
      "text/plain": [
       "<KeysViewHDF5 ['preds']>"
      ]
     },
     "execution_count": 6,
     "metadata": {},
     "output_type": "execute_result"
    }
   ],
   "source": [
    "pred.keys()"
   ]
  },
  {
   "cell_type": "code",
   "execution_count": 7,
   "id": "forbidden-transcription",
   "metadata": {},
   "outputs": [
    {
     "data": {
      "text/plain": [
       "(6667, 99681, 5)"
      ]
     },
     "execution_count": 7,
     "metadata": {},
     "output_type": "execute_result"
    }
   ],
   "source": [
    "pred['preds'].shape"
   ]
  },
  {
   "cell_type": "code",
   "execution_count": 8,
   "id": "arabic-orientation",
   "metadata": {},
   "outputs": [],
   "source": [
    "targetfile = \"/home/bureau/projects/def-bureau/bureau/distiller/iPSC/data/1m/seqs_cov/0.h5\""
   ]
  },
  {
   "cell_type": "code",
   "execution_count": 9,
   "id": "spectacular-redhead",
   "metadata": {},
   "outputs": [
    {
     "data": {
      "text/plain": [
       "<HDF5 file \"0.h5\" (mode r)>"
      ]
     },
     "execution_count": 9,
     "metadata": {},
     "output_type": "execute_result"
    }
   ],
   "source": [
    "targets = h5py.File(targetfile, 'r')\n",
    "targets"
   ]
  },
  {
   "cell_type": "code",
   "execution_count": 10,
   "id": "usual-programming",
   "metadata": {},
   "outputs": [],
   "source": [
    "# Les données de tests sont les 6667 (pred['preds'].shape[0]) dernières\n",
    "test_targets = targets['targets'][targets['targets'].shape[0]-pred['preds'].shape[0]:,]"
   ]
  },
  {
   "cell_type": "code",
   "execution_count": 11,
   "id": "tested-month",
   "metadata": {},
   "outputs": [
    {
     "data": {
      "text/plain": [
       "(6667, 99681)"
      ]
     },
     "execution_count": 11,
     "metadata": {},
     "output_type": "execute_result"
    }
   ],
   "source": [
    "test_targets.shape"
   ]
  },
  {
   "cell_type": "code",
   "execution_count": 12,
   "id": "associate-georgia",
   "metadata": {},
   "outputs": [
    {
     "data": {
      "text/plain": [
       "<HDF5 file \"pred_final.h5\" (mode r)>"
      ]
     },
     "execution_count": 12,
     "metadata": {},
     "output_type": "execute_result"
    }
   ],
   "source": [
    "predf = h5py.File('pred_final.h5', 'r')\n",
    "predf"
   ]
  },
  {
   "cell_type": "code",
   "execution_count": 13,
   "id": "linear-lemon",
   "metadata": {},
   "outputs": [
    {
     "data": {
      "text/plain": [
       "<KeysViewHDF5 ['pred_final']>"
      ]
     },
     "execution_count": 13,
     "metadata": {},
     "output_type": "execute_result"
    }
   ],
   "source": [
    "predf.keys()"
   ]
  },
  {
   "cell_type": "code",
   "execution_count": 14,
   "id": "subject-federation",
   "metadata": {},
   "outputs": [
    {
     "data": {
      "text/plain": [
       "(6667, 99681)"
      ]
     },
     "execution_count": 14,
     "metadata": {},
     "output_type": "execute_result"
    }
   ],
   "source": [
    "predf['pred_final'].shape"
   ]
  },
  {
   "cell_type": "code",
   "execution_count": 16,
   "id": "working-textbook",
   "metadata": {},
   "outputs": [
    {
     "data": {
      "image/png": "[encoded data removed]",
      "text/plain": [
       "<Figure size 432x288 with 1 Axes>"
      ]
     },
     "metadata": {
      "needs_background": "light"
     },
     "output_type": "display_data"
    }
   ],
   "source": [
    "plt.scatter(predf['pred_final'][1,:], test_targets[1,:])\n",
    "plt.show()"
   ]
  },
  {
   "cell_type": "markdown",
   "id": "greenhouse-incidence",
   "metadata": {},
   "source": [
    "## Décalage entre les cibles / Lag between targets"
   ]
  },
  {
   "cell_type": "code",
   "execution_count": 15,
   "id": "color-marking",
   "metadata": {},
   "outputs": [
    {
     "data": {
      "text/plain": [
       "99681"
      ]
     },
     "execution_count": 15,
     "metadata": {},
     "output_type": "execute_result"
    }
   ],
   "source": [
    "params_file = \"/home/bureau/projects/def-bureau/basenji/manuscripts/akita/params.json\"\n",
    "with open(params_file) as params_open:\n",
    "    params = json.load(params_open)\n",
    "    params_model = params['model']\n",
    "    params_train = params['train']\n",
    "\n",
    "seq_length = params_model['seq_length']\n",
    "target_length = params_model['target_length']\n",
    "target_crop = params_model['target_crop']\n",
    "hic_diags = 2\n",
    "target_length_cropped = target_length - 2*target_crop\n",
    "# Longueur d'une cible dans la séquence / length of a target in the sequence\n",
    "n = target_length_cropped - hic_diags\n",
    "# Longueur d'un vecteur cible extrait du triangle supérieur de la matrice de contacts 3D / \n",
    "# length of a target vector extracted from the upper triangle of the 3D contact matrix\n",
    "tlen = n * (n+1) // 2\n",
    "tlen"
   ]
  },
  {
   "cell_type": "code",
   "execution_count": 16,
   "id": "indoor-twist",
   "metadata": {},
   "outputs": [
    {
     "data": {
      "text/plain": [
       "[7076, 6888, 6572, 6128, 5556, 4856, 4028, 3072, 1988]"
      ]
     },
     "execution_count": 16,
     "metadata": {},
     "output_type": "execute_result"
    }
   ],
   "source": [
    "# Nombre de bacs de séquences par lequel on décale / striding by this number of sequence bins\n",
    "k = 16\n",
    "# Décalage dans le vecteur cible / Lag in target vector corresponding to striding in sequence bins\n",
    "decal = []\n",
    "for h in range(1,10):\n",
    "    decal.append(int(k*(n-h/2*(h*k-1)/2)))\n",
    "decal"
   ]
  },
  {
   "cell_type": "code",
   "execution_count": 17,
   "id": "southwest-football",
   "metadata": {},
   "outputs": [
    {
     "data": {
      "text/html": [
       "<div>\n",
       "<style scoped>\n",
       "    .dataframe tbody tr th:only-of-type {\n",
       "        vertical-align: middle;\n",
       "    }\n",
       "\n",
       "    .dataframe tbody tr th {\n",
       "        vertical-align: top;\n",
       "    }\n",
       "\n",
       "    .dataframe thead th {\n",
       "        text-align: right;\n",
       "    }\n",
       "</style>\n",
       "<table border=\"1\" class=\"dataframe\">\n",
       "  <thead>\n",
       "    <tr style=\"text-align: right;\">\n",
       "      <th></th>\n",
       "      <th>index</th>\n",
       "      <th>identifier</th>\n",
       "      <th>file</th>\n",
       "      <th>clip</th>\n",
       "      <th>description</th>\n",
       "    </tr>\n",
       "  </thead>\n",
       "  <tbody>\n",
       "    <tr>\n",
       "      <th>0</th>\n",
       "      <td>0</td>\n",
       "      <td>HFF</td>\n",
       "      <td>../../data/coolers/Krietenstein2019/HFF_hg38_4...</td>\n",
       "      <td>2</td>\n",
       "      <td>HFF</td>\n",
       "    </tr>\n",
       "    <tr>\n",
       "      <th>1</th>\n",
       "      <td>1</td>\n",
       "      <td>H1hESC</td>\n",
       "      <td>../../data/coolers/Krietenstein2019/H1hESC_hg3...</td>\n",
       "      <td>2</td>\n",
       "      <td>H1hESC</td>\n",
       "    </tr>\n",
       "    <tr>\n",
       "      <th>2</th>\n",
       "      <td>2</td>\n",
       "      <td>GM12878</td>\n",
       "      <td>../../data/coolers/Rao2014/GM12878_inSitu_MboI...</td>\n",
       "      <td>2</td>\n",
       "      <td>GM12878</td>\n",
       "    </tr>\n",
       "    <tr>\n",
       "      <th>3</th>\n",
       "      <td>3</td>\n",
       "      <td>IMR90</td>\n",
       "      <td>../../data/coolers/Rao2014/IMR90_inSitu_MboI_a...</td>\n",
       "      <td>2</td>\n",
       "      <td>IMR90</td>\n",
       "    </tr>\n",
       "    <tr>\n",
       "      <th>4</th>\n",
       "      <td>4</td>\n",
       "      <td>HCT116</td>\n",
       "      <td>../../data/coolers/Rao2017/Unsynchronized_all....</td>\n",
       "      <td>2</td>\n",
       "      <td>HCT116</td>\n",
       "    </tr>\n",
       "  </tbody>\n",
       "</table>\n",
       "</div>"
      ],
      "text/plain": [
       "   index identifier                                               file  clip  \\\n",
       "0      0        HFF  ../../data/coolers/Krietenstein2019/HFF_hg38_4...     2   \n",
       "1      1     H1hESC  ../../data/coolers/Krietenstein2019/H1hESC_hg3...     2   \n",
       "2      2    GM12878  ../../data/coolers/Rao2014/GM12878_inSitu_MboI...     2   \n",
       "3      3      IMR90  ../../data/coolers/Rao2014/IMR90_inSitu_MboI_a...     2   \n",
       "4      4     HCT116  ../../data/coolers/Rao2017/Unsynchronized_all....     2   \n",
       "\n",
       "  description  \n",
       "0         HFF  \n",
       "1      H1hESC  \n",
       "2     GM12878  \n",
       "3       IMR90  \n",
       "4      HCT116  "
      ]
     },
     "execution_count": 17,
     "metadata": {},
     "output_type": "execute_result"
    }
   ],
   "source": [
    "hic_targets = pd.read_csv('/home/bureau/projects/def-bureau/basenji/manuscripts/akita/data/targets.txt',sep='\\t')\n",
    "hic_targets"
   ]
  },
  {
   "cell_type": "markdown",
   "id": "solar-genre",
   "metadata": {},
   "source": [
    "### Examen des mêmes points de contact dans plusieurs cible / Inspection of same contact points in multiple targets"
   ]
  },
  {
   "cell_type": "code",
   "execution_count": 19,
   "id": "spoken-battle",
   "metadata": {},
   "outputs": [
    {
     "data": {
      "text/plain": [
       "[0.3306, 0.839]"
      ]
     },
     "metadata": {},
     "output_type": "display_data"
    },
    {
     "data": {
      "text/plain": [
       "[-0.2554, -0.4329, -0.4717]"
      ]
     },
     "metadata": {},
     "output_type": "display_data"
    },
    {
     "data": {
      "text/plain": [
       "[0.273, -0.0847, 0.01675, 0.2817]"
      ]
     },
     "metadata": {},
     "output_type": "display_data"
    }
   ],
   "source": [
    "# Les valeurs sont très différentes / the values differ greatly\n",
    "display([test_targets[1,0],test_targets[0,decal[0]]])\n",
    "display([test_targets[2,0],test_targets[1,decal[0]],test_targets[0,decal[0]+decal[1]]])\n",
    "display([test_targets[3,0],test_targets[2,decal[0]],test_targets[1,decal[0]+decal[1]],test_targets[0,decal[0]+decal[1]+decal[2]]])"
   ]
  },
  {
   "cell_type": "code",
   "execution_count": 20,
   "id": "violent-adventure",
   "metadata": {},
   "outputs": [
    {
     "data": {
      "text/plain": [
       "[0.556, -0.2457]"
      ]
     },
     "metadata": {},
     "output_type": "display_data"
    },
    {
     "data": {
      "text/plain": [
       "[-0.1054, -0.936, 0.4722]"
      ]
     },
     "metadata": {},
     "output_type": "display_data"
    },
    {
     "data": {
      "text/plain": [
       "[0.2878, 0.1923, -0.2307, 0.3733]"
      ]
     },
     "metadata": {},
     "output_type": "display_data"
    }
   ],
   "source": [
    "# 10e bac / 10th bin\n",
    "display([test_targets[1,10],test_targets[0,10+decal[0]]])\n",
    "display([test_targets[2,10],test_targets[1,10+decal[0]],test_targets[0,10+decal[0]+decal[1]]])\n",
    "display([test_targets[3,10],test_targets[2,10+decal[0]],test_targets[1,10+decal[0]+decal[1]],test_targets[0,10+decal[0]+decal[1]+decal[2]]])"
   ]
  },
  {
   "cell_type": "markdown",
   "id": "orange-discount",
   "metadata": {},
   "source": [
    "## Trouver une valeur égale dans une autre séquence"
   ]
  },
  {
   "cell_type": "code",
   "execution_count": 28,
   "id": "sonic-seeker",
   "metadata": {},
   "outputs": [
    {
     "data": {
      "text/plain": [
       "7362"
      ]
     },
     "execution_count": 28,
     "metadata": {},
     "output_type": "execute_result"
    }
   ],
   "source": [
    "tmp = list(abs(test_targets[0,]-test_targets[1,0])<0.0001)\n",
    "tmp.index(True)"
   ]
  },
  {
   "cell_type": "code",
   "execution_count": 29,
   "id": "strategic-float",
   "metadata": {},
   "outputs": [
    {
     "data": {
      "text/plain": [
       "[0.3306, 0.3306]"
      ]
     },
     "execution_count": 29,
     "metadata": {},
     "output_type": "execute_result"
    }
   ],
   "source": [
    "[test_targets[1,0],test_targets[0,tmp.index(True)]]"
   ]
  },
  {
   "cell_type": "code",
   "execution_count": 88,
   "id": "micro-notebook",
   "metadata": {},
   "outputs": [
    {
     "ename": "ValueError",
     "evalue": "True is not in list",
     "output_type": "error",
     "traceback": [
      "\u001b[0;31m---------------------------------------------------------------------------\u001b[0m",
      "\u001b[0;31mValueError\u001b[0m                                Traceback (most recent call last)",
      "\u001b[0;32m<ipython-input-88-37bea46313e9>\u001b[0m in \u001b[0;36m<module>\u001b[0;34m\u001b[0m\n\u001b[1;32m      1\u001b[0m \u001b[0mtmp\u001b[0m \u001b[0;34m=\u001b[0m \u001b[0mlist\u001b[0m\u001b[0;34m(\u001b[0m\u001b[0mabs\u001b[0m\u001b[0;34m(\u001b[0m\u001b[0mtest_targets\u001b[0m\u001b[0;34m[\u001b[0m\u001b[0;36m10\u001b[0m\u001b[0;34m,\u001b[0m\u001b[0;34m]\u001b[0m\u001b[0;34m-\u001b[0m\u001b[0mtest_targets\u001b[0m\u001b[0;34m[\u001b[0m\u001b[0;36m13\u001b[0m\u001b[0;34m,\u001b[0m\u001b[0;36m4\u001b[0m\u001b[0;34m]\u001b[0m\u001b[0;34m)\u001b[0m\u001b[0;34m<\u001b[0m\u001b[0;36m0.0001\u001b[0m\u001b[0;34m)\u001b[0m\u001b[0;34m\u001b[0m\u001b[0;34m\u001b[0m\u001b[0m\n\u001b[0;32m----> 2\u001b[0;31m \u001b[0mtmp\u001b[0m\u001b[0;34m.\u001b[0m\u001b[0mindex\u001b[0m\u001b[0;34m(\u001b[0m\u001b[0;32mTrue\u001b[0m\u001b[0;34m)\u001b[0m\u001b[0;34m\u001b[0m\u001b[0;34m\u001b[0m\u001b[0m\n\u001b[0m",
      "\u001b[0;31mValueError\u001b[0m: True is not in list"
     ]
    }
   ],
   "source": [
    "tmp = list(abs(test_targets[10,]-test_targets[13,4])<0.0001)\n",
    "tmp.index(True)"
   ]
  },
  {
   "cell_type": "code",
   "execution_count": 38,
   "id": "higher-runner",
   "metadata": {},
   "outputs": [
    {
     "data": {
      "text/plain": [
       "[57785,\n",
       " 31441,\n",
       " 78397,\n",
       " 52731,\n",
       " 32963,\n",
       " 32,\n",
       " 20337,\n",
       " 35062,\n",
       " 77536,\n",
       " 57538,\n",
       " 5320,\n",
       " 85196,\n",
       " 97240,\n",
       " 46432]"
      ]
     },
     "execution_count": 38,
     "metadata": {},
     "output_type": "execute_result"
    }
   ],
   "source": [
    "index_vec = []\n",
    "for j in range(14):\n",
    "    tmp = list(abs(test_targets[j,]-test_targets[14,2])<0.0001)\n",
    "    index_vec.append(tmp.index(True))\n",
    "index_vec"
   ]
  },
  {
   "cell_type": "code",
   "execution_count": 39,
   "id": "discrete-maryland",
   "metadata": {},
   "outputs": [
    {
     "data": {
      "text/plain": [
       "14"
      ]
     },
     "execution_count": 39,
     "metadata": {},
     "output_type": "execute_result"
    }
   ],
   "source": [
    "len(index_vec)"
   ]
  },
  {
   "cell_type": "code",
   "execution_count": 41,
   "id": "static-printer",
   "metadata": {},
   "outputs": [
    {
     "data": {
      "text/plain": [
       "-0.37"
      ]
     },
     "metadata": {},
     "output_type": "display_data"
    },
    {
     "data": {
      "text/plain": [
       "-0.37"
      ]
     },
     "metadata": {},
     "output_type": "display_data"
    },
    {
     "data": {
      "text/plain": [
       "-0.37"
      ]
     },
     "metadata": {},
     "output_type": "display_data"
    },
    {
     "data": {
      "text/plain": [
       "-0.37"
      ]
     },
     "metadata": {},
     "output_type": "display_data"
    },
    {
     "data": {
      "text/plain": [
       "-0.37"
      ]
     },
     "metadata": {},
     "output_type": "display_data"
    },
    {
     "data": {
      "text/plain": [
       "-0.37"
      ]
     },
     "metadata": {},
     "output_type": "display_data"
    },
    {
     "data": {
      "text/plain": [
       "-0.37"
      ]
     },
     "metadata": {},
     "output_type": "display_data"
    },
    {
     "data": {
      "text/plain": [
       "-0.37"
      ]
     },
     "metadata": {},
     "output_type": "display_data"
    },
    {
     "data": {
      "text/plain": [
       "-0.37"
      ]
     },
     "metadata": {},
     "output_type": "display_data"
    },
    {
     "data": {
      "text/plain": [
       "-0.37"
      ]
     },
     "metadata": {},
     "output_type": "display_data"
    },
    {
     "data": {
      "text/plain": [
       "-0.37"
      ]
     },
     "metadata": {},
     "output_type": "display_data"
    },
    {
     "data": {
      "text/plain": [
       "-0.37"
      ]
     },
     "metadata": {},
     "output_type": "display_data"
    },
    {
     "data": {
      "text/plain": [
       "-0.37"
      ]
     },
     "metadata": {},
     "output_type": "display_data"
    },
    {
     "data": {
      "text/plain": [
       "-0.37"
      ]
     },
     "metadata": {},
     "output_type": "display_data"
    },
    {
     "data": {
      "text/plain": [
       "-0.37"
      ]
     },
     "metadata": {},
     "output_type": "display_data"
    }
   ],
   "source": [
    "display(test_targets[14,2])\n",
    "for j in range(len(index_vec)):\n",
    "    display(test_targets[j,index_vec[j]])"
   ]
  },
  {
   "cell_type": "code",
   "execution_count": 42,
   "id": "chief-phenomenon",
   "metadata": {},
   "outputs": [
    {
     "data": {
      "text/plain": [
       "array([[-0.09393311, -0.04452515, -0.04119873, -0.01849365, -0.09191895],\n",
       "       [-0.00667572, -0.0059967 , -0.06256104, -0.04345703, -0.03115845],\n",
       "       [-0.7890625 , -0.61865234, -0.56689453, -0.85839844, -0.49926758],\n",
       "       [ 0.25146484,  0.18322754,  0.07702637,  0.14941406,  0.03613281],\n",
       "       [-0.64453125, -0.49121094, -0.36035156, -0.58886719, -0.34521484],\n",
       "       [ 0.08581543,  0.03799438,  0.0612793 ,  0.10583496,  0.0164032 ],\n",
       "       [ 0.18933105,  0.17810059,  0.09881592,  0.1607666 ,  0.08172607],\n",
       "       [ 0.01045227, -0.07849121,  0.01823425,  0.02453613, -0.08227539],\n",
       "       [-0.17077637, -0.15112305, -0.18835449, -0.25390625, -0.13818359],\n",
       "       [ 0.24169922,  0.2010498 ,  0.13232422,  0.19689941,  0.09301758],\n",
       "       [-0.05703735, -0.02513123, -0.020401  ,  0.02796936, -0.05691528],\n",
       "       [-0.23120117, -0.16455078, -0.16894531, -0.24523926, -0.18737793],\n",
       "       [-0.2076416 , -0.13452148, -0.16357422, -0.21533203, -0.13012695],\n",
       "       [-0.0440979 , -0.05227661, -0.03463745, -0.05599976, -0.1105957 ],\n",
       "       [ 0.03216553,  0.0152359 , -0.06903076,  0.00979614, -0.03253174]])"
      ]
     },
     "execution_count": 42,
     "metadata": {},
     "output_type": "execute_result"
    }
   ],
   "source": [
    "# Extraction des prédictions originales d'Akita\n",
    "pred_orig = np.zeros((len(index_vec)+1,pred['preds'].shape[2]))\n",
    "for j in range(len(index_vec)):\n",
    "    pred_orig[j] = pred['preds'][j,index_vec[j],]\n",
    "pred_orig[len(index_vec)] = pred['preds'][len(index_vec),2,]\n",
    "pred_orig"
   ]
  },
  {
   "cell_type": "code",
   "execution_count": 43,
   "id": "numerical-marking",
   "metadata": {},
   "outputs": [
    {
     "data": {
      "text/plain": [
       "[-0.11021045853544822,\n",
       " -0.11978075691187565,\n",
       " -0.173233458239634,\n",
       " -0.11203969934559377,\n",
       " -0.18929274570133922,\n",
       " -0.13185096171264996,\n",
       " -0.15572637053157046,\n",
       " -0.10211058671630995,\n",
       " -0.11911817696150162,\n",
       " -0.1432637611979502,\n",
       " -0.12347247299202585,\n",
       " -0.1618091088178983,\n",
       " -0.1574123923732294,\n",
       " -0.16171607992485448,\n",
       " -0.08314477456245384]"
      ]
     },
     "execution_count": 43,
     "metadata": {},
     "output_type": "execute_result"
    }
   ],
   "source": [
    "pred_transfer = []\n",
    "for j in range(len(index_vec)):\n",
    "    pred_transfer.append(predf['pred_final'][j,index_vec[j]])\n",
    "pred_transfer.append(predf['pred_final'][len(index_vec),2])\n",
    "pred_transfer"
   ]
  },
  {
   "cell_type": "code",
   "execution_count": 44,
   "id": "registered-texas",
   "metadata": {},
   "outputs": [
    {
     "data": {
      "text/html": [
       "<div>\n",
       "<style scoped>\n",
       "    .dataframe tbody tr th:only-of-type {\n",
       "        vertical-align: middle;\n",
       "    }\n",
       "\n",
       "    .dataframe tbody tr th {\n",
       "        vertical-align: top;\n",
       "    }\n",
       "\n",
       "    .dataframe thead th {\n",
       "        text-align: right;\n",
       "    }\n",
       "</style>\n",
       "<table border=\"1\" class=\"dataframe\">\n",
       "  <thead>\n",
       "    <tr style=\"text-align: right;\">\n",
       "      <th>identifier</th>\n",
       "      <th>HFF</th>\n",
       "      <th>H1hESC</th>\n",
       "      <th>GM12878</th>\n",
       "      <th>IMR90</th>\n",
       "      <th>HCT116</th>\n",
       "      <th>Neuron</th>\n",
       "    </tr>\n",
       "  </thead>\n",
       "  <tbody>\n",
       "    <tr>\n",
       "      <th>0</th>\n",
       "      <td>-0.093933</td>\n",
       "      <td>-0.044525</td>\n",
       "      <td>-0.041199</td>\n",
       "      <td>-0.018494</td>\n",
       "      <td>-0.091919</td>\n",
       "      <td>-0.110210</td>\n",
       "    </tr>\n",
       "    <tr>\n",
       "      <th>1</th>\n",
       "      <td>-0.006676</td>\n",
       "      <td>-0.005997</td>\n",
       "      <td>-0.062561</td>\n",
       "      <td>-0.043457</td>\n",
       "      <td>-0.031158</td>\n",
       "      <td>-0.119781</td>\n",
       "    </tr>\n",
       "    <tr>\n",
       "      <th>2</th>\n",
       "      <td>-0.789062</td>\n",
       "      <td>-0.618652</td>\n",
       "      <td>-0.566895</td>\n",
       "      <td>-0.858398</td>\n",
       "      <td>-0.499268</td>\n",
       "      <td>-0.173233</td>\n",
       "    </tr>\n",
       "    <tr>\n",
       "      <th>3</th>\n",
       "      <td>0.251465</td>\n",
       "      <td>0.183228</td>\n",
       "      <td>0.077026</td>\n",
       "      <td>0.149414</td>\n",
       "      <td>0.036133</td>\n",
       "      <td>-0.112040</td>\n",
       "    </tr>\n",
       "    <tr>\n",
       "      <th>4</th>\n",
       "      <td>-0.644531</td>\n",
       "      <td>-0.491211</td>\n",
       "      <td>-0.360352</td>\n",
       "      <td>-0.588867</td>\n",
       "      <td>-0.345215</td>\n",
       "      <td>-0.189293</td>\n",
       "    </tr>\n",
       "    <tr>\n",
       "      <th>5</th>\n",
       "      <td>0.085815</td>\n",
       "      <td>0.037994</td>\n",
       "      <td>0.061279</td>\n",
       "      <td>0.105835</td>\n",
       "      <td>0.016403</td>\n",
       "      <td>-0.131851</td>\n",
       "    </tr>\n",
       "    <tr>\n",
       "      <th>6</th>\n",
       "      <td>0.189331</td>\n",
       "      <td>0.178101</td>\n",
       "      <td>0.098816</td>\n",
       "      <td>0.160767</td>\n",
       "      <td>0.081726</td>\n",
       "      <td>-0.155726</td>\n",
       "    </tr>\n",
       "    <tr>\n",
       "      <th>7</th>\n",
       "      <td>0.010452</td>\n",
       "      <td>-0.078491</td>\n",
       "      <td>0.018234</td>\n",
       "      <td>0.024536</td>\n",
       "      <td>-0.082275</td>\n",
       "      <td>-0.102111</td>\n",
       "    </tr>\n",
       "    <tr>\n",
       "      <th>8</th>\n",
       "      <td>-0.170776</td>\n",
       "      <td>-0.151123</td>\n",
       "      <td>-0.188354</td>\n",
       "      <td>-0.253906</td>\n",
       "      <td>-0.138184</td>\n",
       "      <td>-0.119118</td>\n",
       "    </tr>\n",
       "    <tr>\n",
       "      <th>9</th>\n",
       "      <td>0.241699</td>\n",
       "      <td>0.201050</td>\n",
       "      <td>0.132324</td>\n",
       "      <td>0.196899</td>\n",
       "      <td>0.093018</td>\n",
       "      <td>-0.143264</td>\n",
       "    </tr>\n",
       "    <tr>\n",
       "      <th>10</th>\n",
       "      <td>-0.057037</td>\n",
       "      <td>-0.025131</td>\n",
       "      <td>-0.020401</td>\n",
       "      <td>0.027969</td>\n",
       "      <td>-0.056915</td>\n",
       "      <td>-0.123472</td>\n",
       "    </tr>\n",
       "    <tr>\n",
       "      <th>11</th>\n",
       "      <td>-0.231201</td>\n",
       "      <td>-0.164551</td>\n",
       "      <td>-0.168945</td>\n",
       "      <td>-0.245239</td>\n",
       "      <td>-0.187378</td>\n",
       "      <td>-0.161809</td>\n",
       "    </tr>\n",
       "    <tr>\n",
       "      <th>12</th>\n",
       "      <td>-0.207642</td>\n",
       "      <td>-0.134521</td>\n",
       "      <td>-0.163574</td>\n",
       "      <td>-0.215332</td>\n",
       "      <td>-0.130127</td>\n",
       "      <td>-0.157412</td>\n",
       "    </tr>\n",
       "    <tr>\n",
       "      <th>13</th>\n",
       "      <td>-0.044098</td>\n",
       "      <td>-0.052277</td>\n",
       "      <td>-0.034637</td>\n",
       "      <td>-0.056000</td>\n",
       "      <td>-0.110596</td>\n",
       "      <td>-0.161716</td>\n",
       "    </tr>\n",
       "    <tr>\n",
       "      <th>14</th>\n",
       "      <td>0.032166</td>\n",
       "      <td>0.015236</td>\n",
       "      <td>-0.069031</td>\n",
       "      <td>0.009796</td>\n",
       "      <td>-0.032532</td>\n",
       "      <td>-0.083145</td>\n",
       "    </tr>\n",
       "  </tbody>\n",
       "</table>\n",
       "</div>"
      ],
      "text/plain": [
       "identifier       HFF    H1hESC   GM12878     IMR90    HCT116    Neuron\n",
       "0          -0.093933 -0.044525 -0.041199 -0.018494 -0.091919 -0.110210\n",
       "1          -0.006676 -0.005997 -0.062561 -0.043457 -0.031158 -0.119781\n",
       "2          -0.789062 -0.618652 -0.566895 -0.858398 -0.499268 -0.173233\n",
       "3           0.251465  0.183228  0.077026  0.149414  0.036133 -0.112040\n",
       "4          -0.644531 -0.491211 -0.360352 -0.588867 -0.345215 -0.189293\n",
       "5           0.085815  0.037994  0.061279  0.105835  0.016403 -0.131851\n",
       "6           0.189331  0.178101  0.098816  0.160767  0.081726 -0.155726\n",
       "7           0.010452 -0.078491  0.018234  0.024536 -0.082275 -0.102111\n",
       "8          -0.170776 -0.151123 -0.188354 -0.253906 -0.138184 -0.119118\n",
       "9           0.241699  0.201050  0.132324  0.196899  0.093018 -0.143264\n",
       "10         -0.057037 -0.025131 -0.020401  0.027969 -0.056915 -0.123472\n",
       "11         -0.231201 -0.164551 -0.168945 -0.245239 -0.187378 -0.161809\n",
       "12         -0.207642 -0.134521 -0.163574 -0.215332 -0.130127 -0.157412\n",
       "13         -0.044098 -0.052277 -0.034637 -0.056000 -0.110596 -0.161716\n",
       "14          0.032166  0.015236 -0.069031  0.009796 -0.032532 -0.083145"
      ]
     },
     "execution_count": 44,
     "metadata": {},
     "output_type": "execute_result"
    }
   ],
   "source": [
    "pred_dat = pd.DataFrame(pred_orig,columns=hic_targets['identifier'])\n",
    "pred_dat[\"Neuron\"] = pred_transfer\n",
    "pred_dat"
   ]
  },
  {
   "cell_type": "code",
   "execution_count": 52,
   "id": "brazilian-earthquake",
   "metadata": {},
   "outputs": [
    {
     "data": {
      "text/plain": [
       "identifier\n",
       "HFF        0.274515\n",
       "H1hESC     0.293392\n",
       "GM12878    0.284233\n",
       "IMR90      0.263152\n",
       "HCT116     0.271565\n",
       "Neuron     0.233838\n",
       "dtype: float64"
      ]
     },
     "execution_count": 52,
     "metadata": {},
     "output_type": "execute_result"
    }
   ],
   "source": [
    "# Biais\n",
    "bias = pred_dat.mean() - test_targets[len(index_vec),2]\n",
    "bias"
   ]
  },
  {
   "cell_type": "code",
   "execution_count": 53,
   "id": "hispanic-assist",
   "metadata": {},
   "outputs": [
    {
     "data": {
      "text/plain": [
       "identifier\n",
       "HFF        0.326019\n",
       "H1hESC     0.325592\n",
       "GM12878    0.328918\n",
       "IMR90      0.351624\n",
       "HCT116     0.287842\n",
       "Neuron     0.238266\n",
       "dtype: float64"
      ]
     },
     "execution_count": 53,
     "metadata": {},
     "output_type": "execute_result"
    }
   ],
   "source": [
    "# Biais estimé avec la médiane\n",
    "bias_med = pred_dat.median() - test_targets[len(index_vec),2]\n",
    "bias_med"
   ]
  },
  {
   "cell_type": "code",
   "execution_count": 47,
   "id": "authorized-bloom",
   "metadata": {},
   "outputs": [
    {
     "data": {
      "text/plain": [
       "identifier\n",
       "HFF        0.086197\n",
       "H1hESC     0.051619\n",
       "GM12878    0.034332\n",
       "IMR90      0.084854\n",
       "HCT116     0.024537\n",
       "Neuron     0.000883\n",
       "dtype: float64"
      ]
     },
     "execution_count": 47,
     "metadata": {},
     "output_type": "execute_result"
    }
   ],
   "source": [
    "var = pred_dat.var()\n",
    "var"
   ]
  },
  {
   "cell_type": "code",
   "execution_count": 54,
   "id": "elegant-crack",
   "metadata": {},
   "outputs": [
    {
     "data": {
      "text/plain": [
       "identifier\n",
       "HFF        0.161555\n",
       "H1hESC     0.137698\n",
       "GM12878    0.115120\n",
       "IMR90      0.154103\n",
       "HCT116     0.098284\n",
       "Neuron     0.055563\n",
       "dtype: float64"
      ]
     },
     "execution_count": 54,
     "metadata": {},
     "output_type": "execute_result"
    }
   ],
   "source": [
    "# MSE\n",
    "bias*bias + var"
   ]
  },
  {
   "cell_type": "code",
   "execution_count": 49,
   "id": "laden-assignment",
   "metadata": {},
   "outputs": [
    {
     "data": {
      "text/html": [
       "<div>\n",
       "<style scoped>\n",
       "    .dataframe tbody tr th:only-of-type {\n",
       "        vertical-align: middle;\n",
       "    }\n",
       "\n",
       "    .dataframe tbody tr th {\n",
       "        vertical-align: top;\n",
       "    }\n",
       "\n",
       "    .dataframe thead th {\n",
       "        text-align: right;\n",
       "    }\n",
       "</style>\n",
       "<table border=\"1\" class=\"dataframe\">\n",
       "  <thead>\n",
       "    <tr style=\"text-align: right;\">\n",
       "      <th>identifier</th>\n",
       "      <th>HFF</th>\n",
       "      <th>H1hESC</th>\n",
       "      <th>GM12878</th>\n",
       "      <th>IMR90</th>\n",
       "      <th>HCT116</th>\n",
       "      <th>Neuron</th>\n",
       "    </tr>\n",
       "    <tr>\n",
       "      <th>identifier</th>\n",
       "      <th></th>\n",
       "      <th></th>\n",
       "      <th></th>\n",
       "      <th></th>\n",
       "      <th></th>\n",
       "      <th></th>\n",
       "    </tr>\n",
       "  </thead>\n",
       "  <tbody>\n",
       "    <tr>\n",
       "      <th>HFF</th>\n",
       "      <td>1.000000</td>\n",
       "      <td>0.991376</td>\n",
       "      <td>0.974111</td>\n",
       "      <td>0.982540</td>\n",
       "      <td>0.982498</td>\n",
       "      <td>0.587104</td>\n",
       "    </tr>\n",
       "    <tr>\n",
       "      <th>H1hESC</th>\n",
       "      <td>0.991376</td>\n",
       "      <td>1.000000</td>\n",
       "      <td>0.966883</td>\n",
       "      <td>0.977873</td>\n",
       "      <td>0.987873</td>\n",
       "      <td>0.539395</td>\n",
       "    </tr>\n",
       "    <tr>\n",
       "      <th>GM12878</th>\n",
       "      <td>0.974111</td>\n",
       "      <td>0.966883</td>\n",
       "      <td>1.000000</td>\n",
       "      <td>0.992617</td>\n",
       "      <td>0.972311</td>\n",
       "      <td>0.510630</td>\n",
       "    </tr>\n",
       "    <tr>\n",
       "      <th>IMR90</th>\n",
       "      <td>0.982540</td>\n",
       "      <td>0.977873</td>\n",
       "      <td>0.992617</td>\n",
       "      <td>1.000000</td>\n",
       "      <td>0.981034</td>\n",
       "      <td>0.585399</td>\n",
       "    </tr>\n",
       "    <tr>\n",
       "      <th>HCT116</th>\n",
       "      <td>0.982498</td>\n",
       "      <td>0.987873</td>\n",
       "      <td>0.972311</td>\n",
       "      <td>0.981034</td>\n",
       "      <td>1.000000</td>\n",
       "      <td>0.541167</td>\n",
       "    </tr>\n",
       "    <tr>\n",
       "      <th>Neuron</th>\n",
       "      <td>0.587104</td>\n",
       "      <td>0.539395</td>\n",
       "      <td>0.510630</td>\n",
       "      <td>0.585399</td>\n",
       "      <td>0.541167</td>\n",
       "      <td>1.000000</td>\n",
       "    </tr>\n",
       "  </tbody>\n",
       "</table>\n",
       "</div>"
      ],
      "text/plain": [
       "identifier       HFF    H1hESC   GM12878     IMR90    HCT116    Neuron\n",
       "identifier                                                            \n",
       "HFF         1.000000  0.991376  0.974111  0.982540  0.982498  0.587104\n",
       "H1hESC      0.991376  1.000000  0.966883  0.977873  0.987873  0.539395\n",
       "GM12878     0.974111  0.966883  1.000000  0.992617  0.972311  0.510630\n",
       "IMR90       0.982540  0.977873  0.992617  1.000000  0.981034  0.585399\n",
       "HCT116      0.982498  0.987873  0.972311  0.981034  1.000000  0.541167\n",
       "Neuron      0.587104  0.539395  0.510630  0.585399  0.541167  1.000000"
      ]
     },
     "execution_count": 49,
     "metadata": {},
     "output_type": "execute_result"
    }
   ],
   "source": [
    "# Corrélation\n",
    "pred_dat.corr()"
   ]
  },
  {
   "cell_type": "code",
   "execution_count": 50,
   "id": "catholic-luther",
   "metadata": {},
   "outputs": [
    {
     "data": {
      "image/png": "[encoded data removed]",
      "text/plain": [
       "<Figure size 432x288 with 1 Axes>"
      ]
     },
     "metadata": {
      "needs_background": "light"
     },
     "output_type": "display_data"
    }
   ],
   "source": [
    "plt.boxplot(pred_dat,labels=pred_dat.columns)\n",
    "plt.axhline(y=test_targets[len(index_vec),2], ls='--')\n",
    "plt.show()"
   ]
  },
  {
   "cell_type": "code",
   "execution_count": 51,
   "id": "ecological-principle",
   "metadata": {},
   "outputs": [
    {
     "data": {
      "text/plain": [
       "WilcoxonResult(statistic=33.0, pvalue=0.12515345696288432)"
      ]
     },
     "execution_count": 51,
     "metadata": {},
     "output_type": "execute_result"
    }
   ],
   "source": [
    "# Test de Wilcoxon\n",
    "from scipy import stats\n",
    "stats.wilcoxon(pred_dat[\"Neuron\"],pred_dat[\"HCT116\"])"
   ]
  },
  {
   "cell_type": "code",
   "execution_count": 55,
   "id": "running-tongue",
   "metadata": {},
   "outputs": [
    {
     "data": {
      "text/plain": [
       "WilcoxonResult(statistic=34.0, pvalue=0.13975586593901426)"
      ]
     },
     "execution_count": 55,
     "metadata": {},
     "output_type": "execute_result"
    }
   ],
   "source": [
    "stats.wilcoxon(pred_dat[\"Neuron\"],pred_dat[\"GM12878\"])"
   ]
  },
  {
   "cell_type": "code",
   "execution_count": null,
   "id": "unauthorized-victor",
   "metadata": {},
   "outputs": [],
   "source": []
  }
 ],
 "metadata": {
  "kernelspec": {
   "display_name": "Python 3",
   "language": "python",
   "name": "python3"
  },
  "language_info": {
   "codemirror_mode": {
    "name": "ipython",
    "version": 3
   },
   "file_extension": ".py",
   "mimetype": "text/x-python",
   "name": "python",
   "nbconvert_exporter": "python",
   "pygments_lexer": "ipython3",
   "version": "3.8.2"
  }
 },
 "nbformat": 4,
 "nbformat_minor": 5
}
