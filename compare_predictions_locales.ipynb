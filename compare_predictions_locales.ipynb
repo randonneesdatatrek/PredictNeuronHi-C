{
 "cells": [
  {
   "cell_type": "markdown",
   "id": "smart-vintage",
   "metadata": {},
   "source": [
    "# Comparaison des prédictions des différentes lignées cellulaires et du modèle estimé par apprentissage de transfert sur certaines séquences de test"
   ]
  },
  {
   "cell_type": "code",
   "execution_count": 1,
   "id": "relevant-header",
   "metadata": {},
   "outputs": [],
   "source": [
    "import json\n",
    "import numpy as np\n",
    "import pandas as pd\n",
    "import statsmodels.api as sm"
   ]
  },
  {
   "cell_type": "code",
   "execution_count": 2,
   "id": "mature-syndication",
   "metadata": {},
   "outputs": [],
   "source": [
    "import h5py\n",
    "import cooler"
   ]
  },
  {
   "cell_type": "code",
   "execution_count": 3,
   "id": "appreciated-hanging",
   "metadata": {},
   "outputs": [],
   "source": [
    "import matplotlib.pyplot as plt"
   ]
  },
  {
   "cell_type": "code",
   "execution_count": 4,
   "id": "described-driving",
   "metadata": {},
   "outputs": [],
   "source": [
    "predpath = \"/home/bureau/projects/def-bureau/bureau/ran-donnees/PredictNeuronHi-C/akita_pred_test/\"\n",
    "predfile = predpath + \"preds.h5\""
   ]
  },
  {
   "cell_type": "code",
   "execution_count": 5,
   "id": "standing-water",
   "metadata": {},
   "outputs": [
    {
     "data": {
      "text/plain": [
       "<HDF5 file \"preds.h5\" (mode r)>"
      ]
     },
     "execution_count": 5,
     "metadata": {},
     "output_type": "execute_result"
    }
   ],
   "source": [
    "pred = h5py.File(predfile, 'r')\n",
    "pred"
   ]
  },
  {
   "cell_type": "code",
   "execution_count": 6,
   "id": "fundamental-police",
   "metadata": {},
   "outputs": [
    {
     "data": {
      "text/plain": [
       "<KeysViewHDF5 ['preds']>"
      ]
     },
     "execution_count": 6,
     "metadata": {},
     "output_type": "execute_result"
    }
   ],
   "source": [
    "pred.keys()"
   ]
  },
  {
   "cell_type": "code",
   "execution_count": 7,
   "id": "false-caribbean",
   "metadata": {},
   "outputs": [
    {
     "data": {
      "text/plain": [
       "(6667, 99681, 5)"
      ]
     },
     "execution_count": 7,
     "metadata": {},
     "output_type": "execute_result"
    }
   ],
   "source": [
    "pred['preds'].shape"
   ]
  },
  {
   "cell_type": "code",
   "execution_count": 8,
   "id": "earned-rainbow",
   "metadata": {},
   "outputs": [],
   "source": [
    "targetfile = \"/home/bureau/projects/def-bureau/bureau/distiller/iPSC/data/1m/seqs_cov/0.h5\""
   ]
  },
  {
   "cell_type": "code",
   "execution_count": 9,
   "id": "authorized-central",
   "metadata": {},
   "outputs": [
    {
     "data": {
      "text/plain": [
       "<HDF5 file \"0.h5\" (mode r)>"
      ]
     },
     "execution_count": 9,
     "metadata": {},
     "output_type": "execute_result"
    }
   ],
   "source": [
    "targets = h5py.File(targetfile, 'r')\n",
    "targets"
   ]
  },
  {
   "cell_type": "code",
   "execution_count": 10,
   "id": "ultimate-pasta",
   "metadata": {},
   "outputs": [],
   "source": [
    "# Les données de tests sont les 6667 (pred['preds'].shape[0]) dernières\n",
    "test_targets = targets['targets'][targets['targets'].shape[0]-pred['preds'].shape[0]:,]"
   ]
  },
  {
   "cell_type": "code",
   "execution_count": 11,
   "id": "saving-control",
   "metadata": {},
   "outputs": [
    {
     "data": {
      "text/plain": [
       "(6667, 99681)"
      ]
     },
     "execution_count": 11,
     "metadata": {},
     "output_type": "execute_result"
    }
   ],
   "source": [
    "test_targets.shape"
   ]
  },
  {
   "cell_type": "code",
   "execution_count": 12,
   "id": "level-courtesy",
   "metadata": {},
   "outputs": [
    {
     "data": {
      "text/plain": [
       "<HDF5 file \"pred_final.h5\" (mode r)>"
      ]
     },
     "execution_count": 12,
     "metadata": {},
     "output_type": "execute_result"
    }
   ],
   "source": [
    "predf = h5py.File('pred_final.h5', 'r')\n",
    "predf"
   ]
  },
  {
   "cell_type": "code",
   "execution_count": 13,
   "id": "noble-vessel",
   "metadata": {},
   "outputs": [
    {
     "data": {
      "text/plain": [
       "<KeysViewHDF5 ['pred_final']>"
      ]
     },
     "execution_count": 13,
     "metadata": {},
     "output_type": "execute_result"
    }
   ],
   "source": [
    "predf.keys()"
   ]
  },
  {
   "cell_type": "code",
   "execution_count": 14,
   "id": "black-quilt",
   "metadata": {},
   "outputs": [
    {
     "data": {
      "text/plain": [
       "(6667, 99681)"
      ]
     },
     "execution_count": 14,
     "metadata": {},
     "output_type": "execute_result"
    }
   ],
   "source": [
    "predf['pred_final'].shape"
   ]
  },
  {
   "cell_type": "code",
   "execution_count": 16,
   "id": "reverse-exhibit",
   "metadata": {},
   "outputs": [
    {
     "data": {
      "image/png": "[encoded data removed]",
      "text/plain": [
       "<Figure size 432x288 with 1 Axes>"
      ]
     },
     "metadata": {
      "needs_background": "light"
     },
     "output_type": "display_data"
    }
   ],
   "source": [
    "plt.scatter(predf['pred_final'][1,:], test_targets[1,:])\n",
    "plt.show()"
   ]
  },
  {
   "cell_type": "markdown",
   "id": "postal-closing",
   "metadata": {},
   "source": [
    "## Décalage entre les séquences"
   ]
  },
  {
   "cell_type": "code",
   "execution_count": 16,
   "id": "instrumental-cliff",
   "metadata": {},
   "outputs": [
    {
     "data": {
      "text/plain": [
       "99681"
      ]
     },
     "execution_count": 16,
     "metadata": {},
     "output_type": "execute_result"
    }
   ],
   "source": [
    "params_file = \"/home/bureau/projects/def-bureau/basenji/manuscripts/akita/params.json\"\n",
    "with open(params_file) as params_open:\n",
    "    params = json.load(params_open)\n",
    "    params_model = params['model']\n",
    "    params_train = params['train']\n",
    "\n",
    "seq_length = params_model['seq_length']\n",
    "target_length = params_model['target_length']\n",
    "target_crop = params_model['target_crop']\n",
    "hic_diags = 2\n",
    "target_length_cropped = target_length - 2*target_crop\n",
    "n = target_length_cropped - hic_diags\n",
    "tlen = n * (n+1) // 2\n",
    "tlen"
   ]
  },
  {
   "cell_type": "code",
   "execution_count": 19,
   "id": "streaming-possession",
   "metadata": {},
   "outputs": [
    {
     "data": {
      "text/plain": [
       "7016"
      ]
     },
     "execution_count": 19,
     "metadata": {},
     "output_type": "execute_result"
    }
   ],
   "source": [
    "k = 16\n",
    "decal = int(k*(n-(k-1)/2))\n",
    "decal"
   ]
  },
  {
   "cell_type": "code",
   "execution_count": 41,
   "id": "small-merchant",
   "metadata": {},
   "outputs": [
    {
     "data": {
      "text/html": [
       "<div>\n",
       "<style scoped>\n",
       "    .dataframe tbody tr th:only-of-type {\n",
       "        vertical-align: middle;\n",
       "    }\n",
       "\n",
       "    .dataframe tbody tr th {\n",
       "        vertical-align: top;\n",
       "    }\n",
       "\n",
       "    .dataframe thead th {\n",
       "        text-align: right;\n",
       "    }\n",
       "</style>\n",
       "<table border=\"1\" class=\"dataframe\">\n",
       "  <thead>\n",
       "    <tr style=\"text-align: right;\">\n",
       "      <th></th>\n",
       "      <th>index</th>\n",
       "      <th>identifier</th>\n",
       "      <th>file</th>\n",
       "      <th>clip</th>\n",
       "      <th>description</th>\n",
       "    </tr>\n",
       "  </thead>\n",
       "  <tbody>\n",
       "    <tr>\n",
       "      <th>0</th>\n",
       "      <td>0</td>\n",
       "      <td>HFF</td>\n",
       "      <td>../../data/coolers/Krietenstein2019/HFF_hg38_4...</td>\n",
       "      <td>2</td>\n",
       "      <td>HFF</td>\n",
       "    </tr>\n",
       "    <tr>\n",
       "      <th>1</th>\n",
       "      <td>1</td>\n",
       "      <td>H1hESC</td>\n",
       "      <td>../../data/coolers/Krietenstein2019/H1hESC_hg3...</td>\n",
       "      <td>2</td>\n",
       "      <td>H1hESC</td>\n",
       "    </tr>\n",
       "    <tr>\n",
       "      <th>2</th>\n",
       "      <td>2</td>\n",
       "      <td>GM12878</td>\n",
       "      <td>../../data/coolers/Rao2014/GM12878_inSitu_MboI...</td>\n",
       "      <td>2</td>\n",
       "      <td>GM12878</td>\n",
       "    </tr>\n",
       "    <tr>\n",
       "      <th>3</th>\n",
       "      <td>3</td>\n",
       "      <td>IMR90</td>\n",
       "      <td>../../data/coolers/Rao2014/IMR90_inSitu_MboI_a...</td>\n",
       "      <td>2</td>\n",
       "      <td>IMR90</td>\n",
       "    </tr>\n",
       "    <tr>\n",
       "      <th>4</th>\n",
       "      <td>4</td>\n",
       "      <td>HCT116</td>\n",
       "      <td>../../data/coolers/Rao2017/Unsynchronized_all....</td>\n",
       "      <td>2</td>\n",
       "      <td>HCT116</td>\n",
       "    </tr>\n",
       "  </tbody>\n",
       "</table>\n",
       "</div>"
      ],
      "text/plain": [
       "   index identifier                                               file  clip  \\\n",
       "0      0        HFF  ../../data/coolers/Krietenstein2019/HFF_hg38_4...     2   \n",
       "1      1     H1hESC  ../../data/coolers/Krietenstein2019/H1hESC_hg3...     2   \n",
       "2      2    GM12878  ../../data/coolers/Rao2014/GM12878_inSitu_MboI...     2   \n",
       "3      3      IMR90  ../../data/coolers/Rao2014/IMR90_inSitu_MboI_a...     2   \n",
       "4      4     HCT116  ../../data/coolers/Rao2017/Unsynchronized_all....     2   \n",
       "\n",
       "  description  \n",
       "0         HFF  \n",
       "1      H1hESC  \n",
       "2     GM12878  \n",
       "3       IMR90  \n",
       "4      HCT116  "
      ]
     },
     "execution_count": 41,
     "metadata": {},
     "output_type": "execute_result"
    }
   ],
   "source": [
    "hic_targets = pd.read_csv('/home/bureau/projects/def-bureau/basenji/manuscripts/akita/data/targets.txt',sep='\\t')\n",
    "hic_targets"
   ]
  },
  {
   "cell_type": "markdown",
   "id": "unexpected-cleaner",
   "metadata": {},
   "source": [
    "## Examen de points de contact"
   ]
  },
  {
   "cell_type": "code",
   "execution_count": 39,
   "id": "adaptive-portable",
   "metadata": {},
   "outputs": [
    {
     "data": {
      "text/plain": [
       "[0.3306, -0.4355]"
      ]
     },
     "metadata": {},
     "output_type": "display_data"
    },
    {
     "data": {
      "text/plain": [
       "[-0.2554, 0.219, 0.1333]"
      ]
     },
     "metadata": {},
     "output_type": "display_data"
    },
    {
     "data": {
      "text/plain": [
       "[0.273, 0.00873, 0.5083, -0.912]"
      ]
     },
     "metadata": {},
     "output_type": "display_data"
    }
   ],
   "source": [
    "# Ce n'est pas égal\n",
    "display([test_targets[1,0],test_targets[0,decal]])\n",
    "display([test_targets[2,0],test_targets[1,decal],test_targets[0,2*decal]])\n",
    "display([test_targets[3,0],test_targets[2,decal],test_targets[1,2*decal],test_targets[0,3*decal]])"
   ]
  },
  {
   "cell_type": "markdown",
   "id": "fixed-jones",
   "metadata": {},
   "source": [
    "## Trouver une valeur égale dans une autre séquence"
   ]
  },
  {
   "cell_type": "code",
   "execution_count": 28,
   "id": "gothic-arbor",
   "metadata": {},
   "outputs": [
    {
     "data": {
      "text/plain": [
       "7362"
      ]
     },
     "execution_count": 28,
     "metadata": {},
     "output_type": "execute_result"
    }
   ],
   "source": [
    "tmp = list(abs(test_targets[0,]-test_targets[1,0])<0.0001)\n",
    "tmp.index(True)"
   ]
  },
  {
   "cell_type": "code",
   "execution_count": 29,
   "id": "integral-charles",
   "metadata": {},
   "outputs": [
    {
     "data": {
      "text/plain": [
       "[0.3306, 0.3306]"
      ]
     },
     "execution_count": 29,
     "metadata": {},
     "output_type": "execute_result"
    }
   ],
   "source": [
    "[test_targets[1,0],test_targets[0,tmp.index(True)]]"
   ]
  },
  {
   "cell_type": "code",
   "execution_count": 88,
   "id": "surgical-return",
   "metadata": {},
   "outputs": [
    {
     "ename": "ValueError",
     "evalue": "True is not in list",
     "output_type": "error",
     "traceback": [
      "\u001b[0;31m---------------------------------------------------------------------------\u001b[0m",
      "\u001b[0;31mValueError\u001b[0m                                Traceback (most recent call last)",
      "\u001b[0;32m<ipython-input-88-37bea46313e9>\u001b[0m in \u001b[0;36m<module>\u001b[0;34m\u001b[0m\n\u001b[1;32m      1\u001b[0m \u001b[0mtmp\u001b[0m \u001b[0;34m=\u001b[0m \u001b[0mlist\u001b[0m\u001b[0;34m(\u001b[0m\u001b[0mabs\u001b[0m\u001b[0;34m(\u001b[0m\u001b[0mtest_targets\u001b[0m\u001b[0;34m[\u001b[0m\u001b[0;36m10\u001b[0m\u001b[0;34m,\u001b[0m\u001b[0;34m]\u001b[0m\u001b[0;34m-\u001b[0m\u001b[0mtest_targets\u001b[0m\u001b[0;34m[\u001b[0m\u001b[0;36m13\u001b[0m\u001b[0;34m,\u001b[0m\u001b[0;36m4\u001b[0m\u001b[0;34m]\u001b[0m\u001b[0;34m)\u001b[0m\u001b[0;34m<\u001b[0m\u001b[0;36m0.0001\u001b[0m\u001b[0;34m)\u001b[0m\u001b[0;34m\u001b[0m\u001b[0;34m\u001b[0m\u001b[0m\n\u001b[0;32m----> 2\u001b[0;31m \u001b[0mtmp\u001b[0m\u001b[0;34m.\u001b[0m\u001b[0mindex\u001b[0m\u001b[0;34m(\u001b[0m\u001b[0;32mTrue\u001b[0m\u001b[0;34m)\u001b[0m\u001b[0;34m\u001b[0m\u001b[0;34m\u001b[0m\u001b[0m\n\u001b[0m",
      "\u001b[0;31mValueError\u001b[0m: True is not in list"
     ]
    }
   ],
   "source": [
    "tmp = list(abs(test_targets[10,]-test_targets[13,4])<0.0001)\n",
    "tmp.index(True)"
   ]
  },
  {
   "cell_type": "code",
   "execution_count": 122,
   "id": "phantom-patent",
   "metadata": {},
   "outputs": [
    {
     "data": {
      "text/plain": [
       "[60946,\n",
       " 37,\n",
       " 32649,\n",
       " 8836,\n",
       " 53352,\n",
       " 55160,\n",
       " 98784,\n",
       " 56366,\n",
       " 85320,\n",
       " 31089,\n",
       " 89826,\n",
       " 65326,\n",
       " 49028]"
      ]
     },
     "execution_count": 122,
     "metadata": {},
     "output_type": "execute_result"
    }
   ],
   "source": [
    "index_vec = []\n",
    "for j in range(13):\n",
    "    tmp = list(abs(test_targets[j,]-test_targets[13,0])<0.0001)\n",
    "    index_vec.append(tmp.index(True))\n",
    "index_vec"
   ]
  },
  {
   "cell_type": "code",
   "execution_count": 97,
   "id": "split-lexington",
   "metadata": {},
   "outputs": [
    {
     "data": {
      "text/plain": [
       "13"
      ]
     },
     "execution_count": 97,
     "metadata": {},
     "output_type": "execute_result"
    }
   ],
   "source": [
    "len(index_vec)"
   ]
  },
  {
   "cell_type": "code",
   "execution_count": 123,
   "id": "noble-scroll",
   "metadata": {},
   "outputs": [
    {
     "data": {
      "text/plain": [
       "0.2593"
      ]
     },
     "metadata": {},
     "output_type": "display_data"
    },
    {
     "data": {
      "text/plain": [
       "0.2593"
      ]
     },
     "metadata": {},
     "output_type": "display_data"
    },
    {
     "data": {
      "text/plain": [
       "0.2593"
      ]
     },
     "metadata": {},
     "output_type": "display_data"
    },
    {
     "data": {
      "text/plain": [
       "0.2593"
      ]
     },
     "metadata": {},
     "output_type": "display_data"
    },
    {
     "data": {
      "text/plain": [
       "0.2593"
      ]
     },
     "metadata": {},
     "output_type": "display_data"
    },
    {
     "data": {
      "text/plain": [
       "0.2593"
      ]
     },
     "metadata": {},
     "output_type": "display_data"
    },
    {
     "data": {
      "text/plain": [
       "0.2593"
      ]
     },
     "metadata": {},
     "output_type": "display_data"
    },
    {
     "data": {
      "text/plain": [
       "0.2593"
      ]
     },
     "metadata": {},
     "output_type": "display_data"
    },
    {
     "data": {
      "text/plain": [
       "0.2593"
      ]
     },
     "metadata": {},
     "output_type": "display_data"
    },
    {
     "data": {
      "text/plain": [
       "0.2593"
      ]
     },
     "metadata": {},
     "output_type": "display_data"
    },
    {
     "data": {
      "text/plain": [
       "0.2593"
      ]
     },
     "metadata": {},
     "output_type": "display_data"
    },
    {
     "data": {
      "text/plain": [
       "0.2593"
      ]
     },
     "metadata": {},
     "output_type": "display_data"
    },
    {
     "data": {
      "text/plain": [
       "0.2593"
      ]
     },
     "metadata": {},
     "output_type": "display_data"
    },
    {
     "data": {
      "text/plain": [
       "0.2593"
      ]
     },
     "metadata": {},
     "output_type": "display_data"
    }
   ],
   "source": [
    "display(test_targets[13,0])\n",
    "for j in range(len(index_vec)):\n",
    "    display(test_targets[j,index_vec[j]])"
   ]
  },
  {
   "cell_type": "code",
   "execution_count": 124,
   "id": "liberal-marathon",
   "metadata": {},
   "outputs": [
    {
     "data": {
      "text/plain": [
       "array([[-5.31250000e-01, -3.67187500e-01, -3.28857422e-01,\n",
       "        -4.61669922e-01, -3.27880859e-01],\n",
       "       [-3.03222656e-01, -2.23510742e-01, -1.79809570e-01,\n",
       "        -2.44506836e-01, -1.74560547e-01],\n",
       "       [-4.07470703e-01, -3.90136719e-01, -2.54394531e-01,\n",
       "        -3.21289062e-01, -1.71020508e-01],\n",
       "       [-1.58007812e+00, -1.23535156e+00, -1.07421875e+00,\n",
       "        -1.59472656e+00, -9.33105469e-01],\n",
       "       [-2.32543945e-01, -1.69311523e-01, -8.31298828e-02,\n",
       "        -1.30004883e-01, -1.25244141e-01],\n",
       "       [ 1.69677734e-01,  1.17675781e-01,  3.90625000e-02,\n",
       "         1.17004395e-01,  2.24304199e-02],\n",
       "       [-1.25976562e-01, -1.32568359e-01, -1.47949219e-01,\n",
       "        -1.67846680e-01, -8.90502930e-02],\n",
       "       [-5.15136719e-01, -3.85253906e-01, -2.98828125e-01,\n",
       "        -4.17480469e-01, -3.34716797e-01],\n",
       "       [-7.27539062e-02, -2.83813477e-02, -2.56805420e-02,\n",
       "        -4.65698242e-02, -6.71386719e-02],\n",
       "       [ 2.71728516e-01,  2.39257812e-01,  1.44897461e-01,\n",
       "         2.40722656e-01,  9.90600586e-02],\n",
       "       [-1.19171143e-02,  3.06243896e-02,  3.32946777e-02,\n",
       "         5.44433594e-02, -6.07604980e-02],\n",
       "       [ 4.50683594e-01,  4.72900391e-01,  2.93212891e-01,\n",
       "         4.34326172e-01,  2.47070312e-01],\n",
       "       [-5.15625000e-01, -3.88671875e-01, -2.88574219e-01,\n",
       "        -4.11132812e-01, -2.63671875e-01],\n",
       "       [ 3.86657715e-02, -5.67436218e-04, -7.31811523e-02,\n",
       "         1.90734863e-05, -3.23181152e-02]])"
      ]
     },
     "execution_count": 124,
     "metadata": {},
     "output_type": "execute_result"
    }
   ],
   "source": [
    "pred_orig = np.zeros((14,pred['preds'].shape[2]))\n",
    "for j in range(len(index_vec)):\n",
    "    pred_orig[j] = pred['preds'][j,index_vec[j],]\n",
    "pred_orig[13] = pred['preds'][13,0,]\n",
    "pred_orig"
   ]
  },
  {
   "cell_type": "code",
   "execution_count": 125,
   "id": "conservative-violation",
   "metadata": {},
   "outputs": [
    {
     "data": {
      "text/plain": [
       "[-0.13952295803924492,\n",
       " -0.14812967625707912,\n",
       " -0.2015016099624587,\n",
       " -0.23143619153790415,\n",
       " -0.14405091923694222,\n",
       " -0.12907389893676455,\n",
       " -0.1206972912324997,\n",
       " -0.14981437513337864,\n",
       " -0.10192116394771097,\n",
       " -0.13493473082793395,\n",
       " -0.11356417584029474,\n",
       " -0.17163006154802118,\n",
       " -0.16594476221264504,\n",
       " -0.08512952792961445]"
      ]
     },
     "execution_count": 125,
     "metadata": {},
     "output_type": "execute_result"
    }
   ],
   "source": [
    "pred_transfer = []\n",
    "for j in range(len(index_vec)):\n",
    "    pred_transfer.append(predf['pred_final'][j,index_vec[j]])\n",
    "pred_transfer.append(predf['pred_final'][13,0])\n",
    "pred_transfer"
   ]
  },
  {
   "cell_type": "code",
   "execution_count": 126,
   "id": "gentle-station",
   "metadata": {},
   "outputs": [
    {
     "data": {
      "text/html": [
       "<div>\n",
       "<style scoped>\n",
       "    .dataframe tbody tr th:only-of-type {\n",
       "        vertical-align: middle;\n",
       "    }\n",
       "\n",
       "    .dataframe tbody tr th {\n",
       "        vertical-align: top;\n",
       "    }\n",
       "\n",
       "    .dataframe thead th {\n",
       "        text-align: right;\n",
       "    }\n",
       "</style>\n",
       "<table border=\"1\" class=\"dataframe\">\n",
       "  <thead>\n",
       "    <tr style=\"text-align: right;\">\n",
       "      <th>identifier</th>\n",
       "      <th>HFF</th>\n",
       "      <th>H1hESC</th>\n",
       "      <th>GM12878</th>\n",
       "      <th>IMR90</th>\n",
       "      <th>HCT116</th>\n",
       "      <th>Neuron</th>\n",
       "    </tr>\n",
       "  </thead>\n",
       "  <tbody>\n",
       "    <tr>\n",
       "      <th>0</th>\n",
       "      <td>-0.531250</td>\n",
       "      <td>-0.367188</td>\n",
       "      <td>-0.328857</td>\n",
       "      <td>-0.461670</td>\n",
       "      <td>-0.327881</td>\n",
       "      <td>-0.139523</td>\n",
       "    </tr>\n",
       "    <tr>\n",
       "      <th>1</th>\n",
       "      <td>-0.303223</td>\n",
       "      <td>-0.223511</td>\n",
       "      <td>-0.179810</td>\n",
       "      <td>-0.244507</td>\n",
       "      <td>-0.174561</td>\n",
       "      <td>-0.148130</td>\n",
       "    </tr>\n",
       "    <tr>\n",
       "      <th>2</th>\n",
       "      <td>-0.407471</td>\n",
       "      <td>-0.390137</td>\n",
       "      <td>-0.254395</td>\n",
       "      <td>-0.321289</td>\n",
       "      <td>-0.171021</td>\n",
       "      <td>-0.201502</td>\n",
       "    </tr>\n",
       "    <tr>\n",
       "      <th>3</th>\n",
       "      <td>-1.580078</td>\n",
       "      <td>-1.235352</td>\n",
       "      <td>-1.074219</td>\n",
       "      <td>-1.594727</td>\n",
       "      <td>-0.933105</td>\n",
       "      <td>-0.231436</td>\n",
       "    </tr>\n",
       "    <tr>\n",
       "      <th>4</th>\n",
       "      <td>-0.232544</td>\n",
       "      <td>-0.169312</td>\n",
       "      <td>-0.083130</td>\n",
       "      <td>-0.130005</td>\n",
       "      <td>-0.125244</td>\n",
       "      <td>-0.144051</td>\n",
       "    </tr>\n",
       "    <tr>\n",
       "      <th>5</th>\n",
       "      <td>0.169678</td>\n",
       "      <td>0.117676</td>\n",
       "      <td>0.039062</td>\n",
       "      <td>0.117004</td>\n",
       "      <td>0.022430</td>\n",
       "      <td>-0.129074</td>\n",
       "    </tr>\n",
       "    <tr>\n",
       "      <th>6</th>\n",
       "      <td>-0.125977</td>\n",
       "      <td>-0.132568</td>\n",
       "      <td>-0.147949</td>\n",
       "      <td>-0.167847</td>\n",
       "      <td>-0.089050</td>\n",
       "      <td>-0.120697</td>\n",
       "    </tr>\n",
       "    <tr>\n",
       "      <th>7</th>\n",
       "      <td>-0.515137</td>\n",
       "      <td>-0.385254</td>\n",
       "      <td>-0.298828</td>\n",
       "      <td>-0.417480</td>\n",
       "      <td>-0.334717</td>\n",
       "      <td>-0.149814</td>\n",
       "    </tr>\n",
       "    <tr>\n",
       "      <th>8</th>\n",
       "      <td>-0.072754</td>\n",
       "      <td>-0.028381</td>\n",
       "      <td>-0.025681</td>\n",
       "      <td>-0.046570</td>\n",
       "      <td>-0.067139</td>\n",
       "      <td>-0.101921</td>\n",
       "    </tr>\n",
       "    <tr>\n",
       "      <th>9</th>\n",
       "      <td>0.271729</td>\n",
       "      <td>0.239258</td>\n",
       "      <td>0.144897</td>\n",
       "      <td>0.240723</td>\n",
       "      <td>0.099060</td>\n",
       "      <td>-0.134935</td>\n",
       "    </tr>\n",
       "    <tr>\n",
       "      <th>10</th>\n",
       "      <td>-0.011917</td>\n",
       "      <td>0.030624</td>\n",
       "      <td>0.033295</td>\n",
       "      <td>0.054443</td>\n",
       "      <td>-0.060760</td>\n",
       "      <td>-0.113564</td>\n",
       "    </tr>\n",
       "    <tr>\n",
       "      <th>11</th>\n",
       "      <td>0.450684</td>\n",
       "      <td>0.472900</td>\n",
       "      <td>0.293213</td>\n",
       "      <td>0.434326</td>\n",
       "      <td>0.247070</td>\n",
       "      <td>-0.171630</td>\n",
       "    </tr>\n",
       "    <tr>\n",
       "      <th>12</th>\n",
       "      <td>-0.515625</td>\n",
       "      <td>-0.388672</td>\n",
       "      <td>-0.288574</td>\n",
       "      <td>-0.411133</td>\n",
       "      <td>-0.263672</td>\n",
       "      <td>-0.165945</td>\n",
       "    </tr>\n",
       "    <tr>\n",
       "      <th>13</th>\n",
       "      <td>0.038666</td>\n",
       "      <td>-0.000567</td>\n",
       "      <td>-0.073181</td>\n",
       "      <td>0.000019</td>\n",
       "      <td>-0.032318</td>\n",
       "      <td>-0.085130</td>\n",
       "    </tr>\n",
       "  </tbody>\n",
       "</table>\n",
       "</div>"
      ],
      "text/plain": [
       "identifier       HFF    H1hESC   GM12878     IMR90    HCT116    Neuron\n",
       "0          -0.531250 -0.367188 -0.328857 -0.461670 -0.327881 -0.139523\n",
       "1          -0.303223 -0.223511 -0.179810 -0.244507 -0.174561 -0.148130\n",
       "2          -0.407471 -0.390137 -0.254395 -0.321289 -0.171021 -0.201502\n",
       "3          -1.580078 -1.235352 -1.074219 -1.594727 -0.933105 -0.231436\n",
       "4          -0.232544 -0.169312 -0.083130 -0.130005 -0.125244 -0.144051\n",
       "5           0.169678  0.117676  0.039062  0.117004  0.022430 -0.129074\n",
       "6          -0.125977 -0.132568 -0.147949 -0.167847 -0.089050 -0.120697\n",
       "7          -0.515137 -0.385254 -0.298828 -0.417480 -0.334717 -0.149814\n",
       "8          -0.072754 -0.028381 -0.025681 -0.046570 -0.067139 -0.101921\n",
       "9           0.271729  0.239258  0.144897  0.240723  0.099060 -0.134935\n",
       "10         -0.011917  0.030624  0.033295  0.054443 -0.060760 -0.113564\n",
       "11          0.450684  0.472900  0.293213  0.434326  0.247070 -0.171630\n",
       "12         -0.515625 -0.388672 -0.288574 -0.411133 -0.263672 -0.165945\n",
       "13          0.038666 -0.000567 -0.073181  0.000019 -0.032318 -0.085130"
      ]
     },
     "execution_count": 126,
     "metadata": {},
     "output_type": "execute_result"
    }
   ],
   "source": [
    "pred_dat = pd.DataFrame(pred_orig,columns=hic_targets['identifier'])\n",
    "pred_dat[\"Neuron\"] = pred_transfer\n",
    "pred_dat"
   ]
  },
  {
   "cell_type": "code",
   "execution_count": 127,
   "id": "olympic-harvest",
   "metadata": {},
   "outputs": [
    {
     "data": {
      "text/plain": [
       "identifier\n",
       "HFF       -0.499650\n",
       "H1hESC    -0.435026\n",
       "GM12878   -0.419574\n",
       "IMR90     -0.469900\n",
       "HCT116    -0.417199\n",
       "Neuron    -0.404802\n",
       "dtype: float64"
      ]
     },
     "execution_count": 127,
     "metadata": {},
     "output_type": "execute_result"
    }
   ],
   "source": [
    "# Biais\n",
    "bias = pred_dat.mean() - test_targets[13,0]\n",
    "bias"
   ]
  },
  {
   "cell_type": "code",
   "execution_count": 128,
   "id": "atlantic-dallas",
   "metadata": {},
   "outputs": [
    {
     "data": {
      "text/plain": [
       "identifier\n",
       "HFF       -0.438538\n",
       "H1hESC    -0.410217\n",
       "GM12878   -0.374817\n",
       "IMR90     -0.408203\n",
       "HCT116    -0.366425\n",
       "Neuron    -0.401064\n",
       "dtype: float64"
      ]
     },
     "execution_count": 128,
     "metadata": {},
     "output_type": "execute_result"
    }
   ],
   "source": [
    "# Biais estimé avec la médiane\n",
    "bias_med = pred_dat.median() - test_targets[13,0]\n",
    "bias_med"
   ]
  },
  {
   "cell_type": "code",
   "execution_count": 129,
   "id": "intended-quarterly",
   "metadata": {},
   "outputs": [
    {
     "data": {
      "text/plain": [
       "identifier\n",
       "HFF        0.241677\n",
       "H1hESC     0.159450\n",
       "GM12878    0.101262\n",
       "IMR90      0.227080\n",
       "HCT116     0.074964\n",
       "Neuron     0.001480\n",
       "dtype: float64"
      ]
     },
     "execution_count": 129,
     "metadata": {},
     "output_type": "execute_result"
    }
   ],
   "source": [
    "var = pred_dat.var()\n",
    "var"
   ]
  },
  {
   "cell_type": "code",
   "execution_count": 130,
   "id": "incident-baptist",
   "metadata": {},
   "outputs": [
    {
     "data": {
      "text/plain": [
       "identifier\n",
       "HFF        0.491327\n",
       "H1hESC     0.348698\n",
       "GM12878    0.277304\n",
       "IMR90      0.447886\n",
       "HCT116     0.249020\n",
       "Neuron     0.165345\n",
       "dtype: float64"
      ]
     },
     "execution_count": 130,
     "metadata": {},
     "output_type": "execute_result"
    }
   ],
   "source": [
    "# MSE\n",
    "bias*bias + var"
   ]
  },
  {
   "cell_type": "code",
   "execution_count": 131,
   "id": "resistant-incentive",
   "metadata": {},
   "outputs": [
    {
     "data": {
      "text/html": [
       "<div>\n",
       "<style scoped>\n",
       "    .dataframe tbody tr th:only-of-type {\n",
       "        vertical-align: middle;\n",
       "    }\n",
       "\n",
       "    .dataframe tbody tr th {\n",
       "        vertical-align: top;\n",
       "    }\n",
       "\n",
       "    .dataframe thead th {\n",
       "        text-align: right;\n",
       "    }\n",
       "</style>\n",
       "<table border=\"1\" class=\"dataframe\">\n",
       "  <thead>\n",
       "    <tr style=\"text-align: right;\">\n",
       "      <th>identifier</th>\n",
       "      <th>HFF</th>\n",
       "      <th>H1hESC</th>\n",
       "      <th>GM12878</th>\n",
       "      <th>IMR90</th>\n",
       "      <th>HCT116</th>\n",
       "      <th>Neuron</th>\n",
       "    </tr>\n",
       "    <tr>\n",
       "      <th>identifier</th>\n",
       "      <th></th>\n",
       "      <th></th>\n",
       "      <th></th>\n",
       "      <th></th>\n",
       "      <th></th>\n",
       "      <th></th>\n",
       "    </tr>\n",
       "  </thead>\n",
       "  <tbody>\n",
       "    <tr>\n",
       "      <th>HFF</th>\n",
       "      <td>1.000000</td>\n",
       "      <td>0.994161</td>\n",
       "      <td>0.987516</td>\n",
       "      <td>0.992794</td>\n",
       "      <td>0.991483</td>\n",
       "      <td>0.642992</td>\n",
       "    </tr>\n",
       "    <tr>\n",
       "      <th>H1hESC</th>\n",
       "      <td>0.994161</td>\n",
       "      <td>1.000000</td>\n",
       "      <td>0.988879</td>\n",
       "      <td>0.988794</td>\n",
       "      <td>0.983588</td>\n",
       "      <td>0.621965</td>\n",
       "    </tr>\n",
       "    <tr>\n",
       "      <th>GM12878</th>\n",
       "      <td>0.987516</td>\n",
       "      <td>0.988879</td>\n",
       "      <td>1.000000</td>\n",
       "      <td>0.997703</td>\n",
       "      <td>0.988939</td>\n",
       "      <td>0.618510</td>\n",
       "    </tr>\n",
       "    <tr>\n",
       "      <th>IMR90</th>\n",
       "      <td>0.992794</td>\n",
       "      <td>0.988794</td>\n",
       "      <td>0.997703</td>\n",
       "      <td>1.000000</td>\n",
       "      <td>0.993052</td>\n",
       "      <td>0.635725</td>\n",
       "    </tr>\n",
       "    <tr>\n",
       "      <th>HCT116</th>\n",
       "      <td>0.991483</td>\n",
       "      <td>0.983588</td>\n",
       "      <td>0.988939</td>\n",
       "      <td>0.993052</td>\n",
       "      <td>1.000000</td>\n",
       "      <td>0.589957</td>\n",
       "    </tr>\n",
       "    <tr>\n",
       "      <th>Neuron</th>\n",
       "      <td>0.642992</td>\n",
       "      <td>0.621965</td>\n",
       "      <td>0.618510</td>\n",
       "      <td>0.635725</td>\n",
       "      <td>0.589957</td>\n",
       "      <td>1.000000</td>\n",
       "    </tr>\n",
       "  </tbody>\n",
       "</table>\n",
       "</div>"
      ],
      "text/plain": [
       "identifier       HFF    H1hESC   GM12878     IMR90    HCT116    Neuron\n",
       "identifier                                                            \n",
       "HFF         1.000000  0.994161  0.987516  0.992794  0.991483  0.642992\n",
       "H1hESC      0.994161  1.000000  0.988879  0.988794  0.983588  0.621965\n",
       "GM12878     0.987516  0.988879  1.000000  0.997703  0.988939  0.618510\n",
       "IMR90       0.992794  0.988794  0.997703  1.000000  0.993052  0.635725\n",
       "HCT116      0.991483  0.983588  0.988939  0.993052  1.000000  0.589957\n",
       "Neuron      0.642992  0.621965  0.618510  0.635725  0.589957  1.000000"
      ]
     },
     "execution_count": 131,
     "metadata": {},
     "output_type": "execute_result"
    }
   ],
   "source": [
    "# Corrélation\n",
    "pred_dat.corr()"
   ]
  },
  {
   "cell_type": "code",
   "execution_count": 132,
   "id": "freelance-congo",
   "metadata": {},
   "outputs": [
    {
     "data": {
      "image/png": "[encoded data removed]",
      "text/plain": [
       "<Figure size 432x288 with 1 Axes>"
      ]
     },
     "metadata": {
      "needs_background": "light"
     },
     "output_type": "display_data"
    }
   ],
   "source": [
    "plt.boxplot(pred_dat,labels=pred_dat.columns)\n",
    "plt.axhline(y=test_targets[13,12], ls='--')\n",
    "plt.show()"
   ]
  },
  {
   "cell_type": "code",
   "execution_count": 133,
   "id": "alien-andrew",
   "metadata": {},
   "outputs": [
    {
     "data": {
      "text/plain": [
       "WilcoxonResult(statistic=45.0, pvalue=0.6377666989276032)"
      ]
     },
     "execution_count": 133,
     "metadata": {},
     "output_type": "execute_result"
    }
   ],
   "source": [
    "# Test de Wilcoxon\n",
    "from scipy import stats\n",
    "stats.wilcoxon(pred_dat[\"Neuron\"],pred_dat[\"HCT116\"])"
   ]
  },
  {
   "cell_type": "code",
   "execution_count": 134,
   "id": "genetic-spanish",
   "metadata": {},
   "outputs": [
    {
     "data": {
      "text/plain": [
       "WilcoxonResult(statistic=50.0, pvalue=0.8752911852109797)"
      ]
     },
     "execution_count": 134,
     "metadata": {},
     "output_type": "execute_result"
    }
   ],
   "source": [
    "stats.wilcoxon(pred_dat[\"Neuron\"],pred_dat[\"GM12878\"])"
   ]
  },
  {
   "cell_type": "code",
   "execution_count": null,
   "id": "acquired-static",
   "metadata": {},
   "outputs": [],
   "source": []
  }
 ],
 "metadata": {
  "kernelspec": {
   "display_name": "Python 3",
   "language": "python",
   "name": "python3"
  },
  "language_info": {
   "codemirror_mode": {
    "name": "ipython",
    "version": 3
   },
   "file_extension": ".py",
   "mimetype": "text/x-python",
   "name": "python",
   "nbconvert_exporter": "python",
   "pygments_lexer": "ipython3",
   "version": "3.8.2"
  }
 },
 "nbformat": 4,
 "nbformat_minor": 5
}
