{
 "cells": [
  {
   "cell_type": "markdown",
   "id": "smart-vintage",
   "metadata": {},
   "source": [
    "# Comparaison des prédictions des différentes lignées cellulaires et du modèle estimé par apprentissage de transfert sur certaines séquences de test"
   ]
  },
  {
   "cell_type": "code",
   "execution_count": 1,
   "id": "relevant-header",
   "metadata": {},
   "outputs": [],
   "source": [
    "import json\n",
    "import numpy as np\n",
    "import pandas as pd\n",
    "import statsmodels.api as sm"
   ]
  },
  {
   "cell_type": "code",
   "execution_count": 2,
   "id": "mature-syndication",
   "metadata": {},
   "outputs": [],
   "source": [
    "import h5py\n",
    "import cooler"
   ]
  },
  {
   "cell_type": "code",
   "execution_count": 3,
   "id": "appreciated-hanging",
   "metadata": {},
   "outputs": [],
   "source": [
    "import matplotlib.pyplot as plt"
   ]
  },
  {
   "cell_type": "code",
   "execution_count": 4,
   "id": "described-driving",
   "metadata": {},
   "outputs": [],
   "source": [
    "predpath = \"/home/bureau/projects/def-bureau/bureau/ran-donnees/PredictNeuronHi-C/akita_pred_test/\"\n",
    "predfile = predpath + \"preds.h5\""
   ]
  },
  {
   "cell_type": "code",
   "execution_count": 5,
   "id": "standing-water",
   "metadata": {},
   "outputs": [
    {
     "data": {
      "text/plain": [
       "<HDF5 file \"preds.h5\" (mode r)>"
      ]
     },
     "execution_count": 5,
     "metadata": {},
     "output_type": "execute_result"
    }
   ],
   "source": [
    "pred = h5py.File(predfile, 'r')\n",
    "pred"
   ]
  },
  {
   "cell_type": "code",
   "execution_count": 6,
   "id": "fundamental-police",
   "metadata": {},
   "outputs": [
    {
     "data": {
      "text/plain": [
       "<KeysViewHDF5 ['preds']>"
      ]
     },
     "execution_count": 6,
     "metadata": {},
     "output_type": "execute_result"
    }
   ],
   "source": [
    "pred.keys()"
   ]
  },
  {
   "cell_type": "code",
   "execution_count": 7,
   "id": "false-caribbean",
   "metadata": {},
   "outputs": [
    {
     "data": {
      "text/plain": [
       "(6667, 99681, 5)"
      ]
     },
     "execution_count": 7,
     "metadata": {},
     "output_type": "execute_result"
    }
   ],
   "source": [
    "pred['preds'].shape"
   ]
  },
  {
   "cell_type": "code",
   "execution_count": 11,
   "id": "earned-rainbow",
   "metadata": {},
   "outputs": [],
   "source": [
    "targetfile = \"/home/bureau/projects/def-bureau/bureau/distiller/iPSC/data/1m/seqs_cov/0.h5\""
   ]
  },
  {
   "cell_type": "code",
   "execution_count": 12,
   "id": "authorized-central",
   "metadata": {},
   "outputs": [
    {
     "data": {
      "text/plain": [
       "<HDF5 file \"0.h5\" (mode r)>"
      ]
     },
     "execution_count": 12,
     "metadata": {},
     "output_type": "execute_result"
    }
   ],
   "source": [
    "targets = h5py.File(targetfile, 'r')\n",
    "targets"
   ]
  },
  {
   "cell_type": "code",
   "execution_count": 13,
   "id": "ultimate-pasta",
   "metadata": {},
   "outputs": [],
   "source": [
    "# Les données de tests sont les 6667 (pred['preds'].shape[0]) dernières\n",
    "test_targets = targets['targets'][targets['targets'].shape[0]-pred['preds'].shape[0]:,]"
   ]
  },
  {
   "cell_type": "code",
   "execution_count": 14,
   "id": "saving-control",
   "metadata": {},
   "outputs": [
    {
     "data": {
      "text/plain": [
       "(6667, 99681)"
      ]
     },
     "execution_count": 14,
     "metadata": {},
     "output_type": "execute_result"
    }
   ],
   "source": [
    "test_targets.shape"
   ]
  },
  {
   "cell_type": "code",
   "execution_count": 8,
   "id": "level-courtesy",
   "metadata": {},
   "outputs": [
    {
     "data": {
      "text/plain": [
       "<HDF5 file \"pred_final.h5\" (mode r)>"
      ]
     },
     "execution_count": 8,
     "metadata": {},
     "output_type": "execute_result"
    }
   ],
   "source": [
    "predf = h5py.File('pred_final.h5', 'r')\n",
    "predf"
   ]
  },
  {
   "cell_type": "code",
   "execution_count": 9,
   "id": "noble-vessel",
   "metadata": {},
   "outputs": [
    {
     "data": {
      "text/plain": [
       "<KeysViewHDF5 ['pred_final']>"
      ]
     },
     "execution_count": 9,
     "metadata": {},
     "output_type": "execute_result"
    }
   ],
   "source": [
    "predf.keys()"
   ]
  },
  {
   "cell_type": "code",
   "execution_count": 10,
   "id": "black-quilt",
   "metadata": {},
   "outputs": [
    {
     "data": {
      "text/plain": [
       "(6667, 99681)"
      ]
     },
     "execution_count": 10,
     "metadata": {},
     "output_type": "execute_result"
    }
   ],
   "source": [
    "predf['pred_final'].shape"
   ]
  },
  {
   "cell_type": "code",
   "execution_count": 16,
   "id": "reverse-exhibit",
   "metadata": {},
   "outputs": [
    {
     "data": {
      "image/png": "[encoded data removed]",
      "text/plain": [
       "<Figure size 432x288 with 1 Axes>"
      ]
     },
     "metadata": {
      "needs_background": "light"
     },
     "output_type": "display_data"
    }
   ],
   "source": [
    "plt.scatter(predf['pred_final'][1,:], test_targets[1,:])\n",
    "plt.show()"
   ]
  },
  {
   "cell_type": "markdown",
   "id": "premier-hometown",
   "metadata": {},
   "source": [
    "## Examen du 1er point de contact"
   ]
  },
  {
   "cell_type": "code",
   "execution_count": 36,
   "id": "adaptive-portable",
   "metadata": {},
   "outputs": [
    {
     "data": {
      "text/plain": [
       "[-0.1072, -0.1072]"
      ]
     },
     "execution_count": 36,
     "metadata": {},
     "output_type": "execute_result"
    }
   ],
   "source": [
    "# Le décalage est de 16\n",
    "[test_targets[1,16],test_targets[0,13372]]"
   ]
  },
  {
   "cell_type": "code",
   "execution_count": 38,
   "id": "gothic-arbor",
   "metadata": {},
   "outputs": [
    {
     "data": {
      "text/plain": [
       "7362"
      ]
     },
     "execution_count": 38,
     "metadata": {},
     "output_type": "execute_result"
    }
   ],
   "source": [
    "tmp = list(abs(test_targets[0,]-test_targets[1,0])<0.0001)\n",
    "tmp.index(True)"
   ]
  },
  {
   "cell_type": "code",
   "execution_count": 39,
   "id": "integral-charles",
   "metadata": {},
   "outputs": [
    {
     "data": {
      "text/plain": [
       "[0.3306, 0.3306]"
      ]
     },
     "execution_count": 39,
     "metadata": {},
     "output_type": "execute_result"
    }
   ],
   "source": [
    "[test_targets[1,0],test_targets[0,7362]]"
   ]
  },
  {
   "cell_type": "code",
   "execution_count": null,
   "id": "phantom-patent",
   "metadata": {},
   "outputs": [],
   "source": []
  }
 ],
 "metadata": {
  "kernelspec": {
   "display_name": "Python 3",
   "language": "python",
   "name": "python3"
  },
  "language_info": {
   "codemirror_mode": {
    "name": "ipython",
    "version": 3
   },
   "file_extension": ".py",
   "mimetype": "text/x-python",
   "name": "python",
   "nbconvert_exporter": "python",
   "pygments_lexer": "ipython3",
   "version": "3.8.2"
  }
 },
 "nbformat": 4,
 "nbformat_minor": 5
}
