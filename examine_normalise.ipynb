{
 "cells": [
  {
   "cell_type": "markdown",
   "metadata": {},
   "source": [
    "# Examiner données normalisées"
   ]
  },
  {
   "cell_type": "code",
   "execution_count": 1,
   "metadata": {},
   "outputs": [],
   "source": [
    "# Import the packages we will use\n",
    "import os.path as op\n",
    "import matplotlib.pyplot as plt\n",
    "import numpy as np\n",
    "import pandas\n",
    "import h5py\n",
    "\n",
    "import cooler"
   ]
  },
  {
   "cell_type": "code",
   "execution_count": 13,
   "metadata": {},
   "outputs": [],
   "source": [
    "# The following directive activates inline plotting\n",
    "%matplotlib inline"
   ]
  },
  {
   "cell_type": "code",
   "execution_count": 2,
   "metadata": {},
   "outputs": [],
   "source": [
    "filepath = \"/home/bureau/projects/def-bureau/bureau/distiller/iPSC/data/1m/seqs_cov/0.h5\""
   ]
  },
  {
   "cell_type": "code",
   "execution_count": 3,
   "metadata": {},
   "outputs": [
    {
     "data": {
      "text/plain": [
       "<HDF5 file \"0.h5\" (mode r)>"
      ]
     },
     "execution_count": 3,
     "metadata": {},
     "output_type": "execute_result"
    }
   ],
   "source": [
    "h5 = h5py.File(filepath, 'r')\n",
    "h5"
   ]
  },
  {
   "cell_type": "code",
   "execution_count": 4,
   "metadata": {},
   "outputs": [
    {
     "data": {
      "text/plain": [
       "<KeysViewHDF5 ['targets']>"
      ]
     },
     "execution_count": 4,
     "metadata": {},
     "output_type": "execute_result"
    }
   ],
   "source": [
    "h5.keys()"
   ]
  },
  {
   "cell_type": "code",
   "execution_count": 6,
   "metadata": {},
   "outputs": [
    {
     "data": {
      "text/plain": [
       "(20960, 99681)"
      ]
     },
     "execution_count": 6,
     "metadata": {},
     "output_type": "execute_result"
    }
   ],
   "source": [
    "h5['targets'].shape"
   ]
  },
  {
   "cell_type": "code",
   "execution_count": 7,
   "metadata": {},
   "outputs": [
    {
     "data": {
      "text/plain": [
       "array([[ 0.03952 ,  0.1498  ,  0.507   ,  0.6104  , -0.2498  , -0.1611  ,\n",
       "         0.3335  ,  0.4167  ,  0.0576  ,  0.1526  ],\n",
       "       [-0.1489  , -0.02504 ,  0.259   ,  0.3674  ,  0.3853  ,  0.4736  ,\n",
       "         0.06744 ,  0.1578  ,  0.391   ,  0.473   ],\n",
       "       [ 0.12036 ,  0.2329  ,  0.2118  ,  0.3257  ,  0.4546  ,  0.5405  ,\n",
       "        -0.2932  , -0.2076  , -0.1087  , -0.0046  ],\n",
       "       [-0.3435  , -0.2236  ,  0.128   ,  0.2573  ,  0.3975  ,  0.48    ,\n",
       "        -0.2886  , -0.218   , -0.1451  , -0.06573 ],\n",
       "       [ 0.2496  ,  0.3547  ,  0.4565  ,  0.5703  ,  0.008484,  0.1008  ,\n",
       "         0.01157 , -0.07764 ,  0.00239 ,  0.0999  ],\n",
       "       [ 0.08136 ,  0.2074  ,  0.012665,  0.1309  ,  0.1891  ,  0.284   ,\n",
       "        -0.6885  , -0.6157  , -0.5425  , -0.4531  ],\n",
       "       [-0.0202  ,  0.09717 , -0.1873  , -0.06415 ,  0.5967  ,  0.6924  ,\n",
       "         0.1698  ,  0.2563  ,  0.2048  ,  0.282   ],\n",
       "       [-0.3413  , -0.2401  ,  0.4866  ,  0.608   , -0.569   , -0.474   ,\n",
       "        -0.1578  , -0.08606 , -0.008934,  0.0706  ],\n",
       "       [ 0.2207  ,  0.3438  ,  0.5845  ,  0.7207  ,  0.0665  ,  0.1328  ,\n",
       "        -0.4055  , -0.3152  , -0.137   , -0.05936 ],\n",
       "       [ 0.03766 ,  0.1758  ,  0.3162  ,  0.417   ,  0.10944 ,  0.1946  ,\n",
       "        -0.3357  , -0.2551  , -0.1677  , -0.083   ]], dtype=float16)"
      ]
     },
     "execution_count": 7,
     "metadata": {},
     "output_type": "execute_result"
    }
   ],
   "source": [
    "h5['targets'][:10,:10]"
   ]
  },
  {
   "cell_type": "code",
   "execution_count": 16,
   "metadata": {},
   "outputs": [
    {
     "data": {
      "image/png": "[encoded data removed]",
      "text/plain": [
       "<Figure size 432x288 with 1 Axes>"
      ]
     },
     "metadata": {
      "needs_background": "light"
     },
     "output_type": "display_data"
    }
   ],
   "source": [
    "#for i in range(10) :\n",
    "#    plt.hist(h5['targets'][i], alpha=0.7)\n",
    "plt.hist(np.reshape(h5['targets'],[20960*99681,1]))\n",
    "plt.title(\"Smoothed normalized 3D contact counts of Hi-C on neuron iPSC\")\n",
    "plt.show()"
   ]
  },
  {
   "cell_type": "code",
   "execution_count": null,
   "metadata": {},
   "outputs": [],
   "source": []
  }
 ],
 "metadata": {
  "kernelspec": {
   "display_name": "Python 3",
   "language": "python",
   "name": "python3"
  },
  "language_info": {
   "codemirror_mode": {
    "name": "ipython",
    "version": 3
   },
   "file_extension": ".py",
   "mimetype": "text/x-python",
   "name": "python",
   "nbconvert_exporter": "python",
   "pygments_lexer": "ipython3",
   "version": "3.8.2"
  }
 },
 "nbformat": 4,
 "nbformat_minor": 4
}
