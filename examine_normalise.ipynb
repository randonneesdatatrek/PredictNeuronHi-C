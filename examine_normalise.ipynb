{
 "cells": [
  {
   "cell_type": "markdown",
   "metadata": {},
   "source": [
    "# Examiner données normalisées"
   ]
  },
  {
   "cell_type": "code",
   "execution_count": 1,
   "metadata": {},
   "outputs": [],
   "source": [
    "# Import the packages we will use\n",
    "import os.path as op\n",
    "import matplotlib.pyplot as plt\n",
    "import numpy as np\n",
    "import pandas\n",
    "import h5py\n",
    "\n",
    "import cooler"
   ]
  },
  {
   "cell_type": "code",
   "execution_count": 2,
   "metadata": {},
   "outputs": [],
   "source": [
    "# The following directive activates inline plotting\n",
    "%matplotlib inline"
   ]
  },
  {
   "cell_type": "code",
   "execution_count": 3,
   "metadata": {},
   "outputs": [],
   "source": [
    "filepath = \"/home/bureau/projects/def-bureau/bureau/distiller/iPSC/data/1s/seqs_cov/0.h5\""
   ]
  },
  {
   "cell_type": "code",
   "execution_count": 4,
   "metadata": {},
   "outputs": [
    {
     "data": {
      "text/plain": [
       "<HDF5 file \"0.h5\" (mode r)>"
      ]
     },
     "execution_count": 4,
     "metadata": {},
     "output_type": "execute_result"
    }
   ],
   "source": [
    "h5 = h5py.File(filepath, 'r')\n",
    "h5"
   ]
  },
  {
   "cell_type": "code",
   "execution_count": 5,
   "metadata": {},
   "outputs": [
    {
     "data": {
      "text/plain": [
       "<KeysViewHDF5 ['targets']>"
      ]
     },
     "execution_count": 5,
     "metadata": {},
     "output_type": "execute_result"
    }
   ],
   "source": [
    "h5.keys()"
   ]
  },
  {
   "cell_type": "code",
   "execution_count": 6,
   "metadata": {},
   "outputs": [
    {
     "data": {
      "text/plain": [
       "(20966, 99681)"
      ]
     },
     "execution_count": 6,
     "metadata": {},
     "output_type": "execute_result"
    }
   ],
   "source": [
    "h5['targets'].shape"
   ]
  },
  {
   "cell_type": "code",
   "execution_count": 7,
   "metadata": {},
   "outputs": [
    {
     "data": {
      "text/plain": [
       "array([[-0.1632  , -0.2284  , -0.2979  , -0.299   , -0.2335  , -0.1167  ,\n",
       "         0.02267 ,  0.1011  ,  0.0926  ,  0.04813 ],\n",
       "       [ 0.1327  ,  0.08514 , -0.096   , -0.1642  , -0.109   , -0.09595 ,\n",
       "        -0.1467  , -0.1465  , -0.0983  , -0.10236 ],\n",
       "       [ 0.04318 ,  0.05997 ,  0.06305 ,  0.1387  ,  0.26    ,  0.2642  ,\n",
       "         0.1526  ,  0.1188  ,  0.1748  ,  0.2054  ],\n",
       "       [-0.1643  , -0.0816  ,  0.05743 ,  0.1473  ,  0.1271  , -0.0834  ,\n",
       "        -0.4365  , -0.612   , -0.595   , -0.572   ],\n",
       "       [-0.10596 , -0.0618  ,  0.003267,  0.02306 , -0.01987 , -0.06012 ,\n",
       "        -0.0785  , -0.04712 ,  0.0154  ,  0.04718 ],\n",
       "       [ 0.0922  ,  0.0793  ,  0.02426 ,  0.01438 ,  0.0218  , -0.1001  ,\n",
       "        -0.3333  , -0.4092  , -0.3022  , -0.155   ],\n",
       "       [ 0.0988  ,  0.1114  ,  0.06885 ,  0.0498  ,  0.02055 , -0.1693  ,\n",
       "        -0.4988  , -0.6567  , -0.597   , -0.419   ],\n",
       "       [ 0.00945 , -0.02602 , -0.03958 ,  0.01453 ,  0.0845  ,  0.0675  ,\n",
       "        -0.05548 , -0.2135  , -0.3667  , -0.3909  ],\n",
       "       [ 0.2021  ,  0.2356  ,  0.1613  ,  0.05615 ,  0.01735 ,  0.04968 ,\n",
       "         0.10034 ,  0.1194  ,  0.1001  ,  0.0742  ],\n",
       "       [ 0.1289  ,  0.1577  ,  0.1389  ,  0.1349  ,  0.1242  ,  0.05524 ,\n",
       "        -0.05447 , -0.0767  , -0.00962 ,  0.0653  ]], dtype=float16)"
      ]
     },
     "execution_count": 7,
     "metadata": {},
     "output_type": "execute_result"
    }
   ],
   "source": [
    "h5['targets'][:10,:10]"
   ]
  },
  {
   "cell_type": "code",
   "execution_count": 9,
   "metadata": {},
   "outputs": [
    {
     "data": {
      "image/png": "[encoded data removed]",
      "text/plain": [
       "<Figure size 432x288 with 1 Axes>"
      ]
     },
     "metadata": {
      "needs_background": "light"
     },
     "output_type": "display_data"
    }
   ],
   "source": [
    "#for i in range(10) :\n",
    "#    plt.hist(h5['targets'][i], alpha=0.7)\n",
    "plt.hist(np.reshape(h5['targets'],[20966*99681,1]))\n",
    "plt.title(\"Smoothed normalized 3D contact counts of Hi-C on neuron iPSC\")\n",
    "plt.show()"
   ]
  },
  {
   "cell_type": "code",
   "execution_count": null,
   "metadata": {},
   "outputs": [],
   "source": []
  }
 ],
 "metadata": {
  "kernelspec": {
   "display_name": "Python 3",
   "language": "python",
   "name": "python3"
  },
  "language_info": {
   "codemirror_mode": {
    "name": "ipython",
    "version": 3
   },
   "file_extension": ".py",
   "mimetype": "text/x-python",
   "name": "python",
   "nbconvert_exporter": "python",
   "pygments_lexer": "ipython3",
   "version": "3.8.2"
  }
 },
 "nbformat": 4,
 "nbformat_minor": 4
}
