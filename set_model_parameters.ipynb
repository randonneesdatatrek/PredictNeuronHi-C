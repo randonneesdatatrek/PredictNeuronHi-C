{
 "cells": [
  {
   "cell_type": "code",
   "execution_count": 1,
   "id": "severe-sight",
   "metadata": {},
   "outputs": [],
   "source": [
    "import json"
   ]
  },
  {
   "cell_type": "code",
   "execution_count": 9,
   "id": "arranged-reporter",
   "metadata": {},
   "outputs": [],
   "source": [
    "params_file = \"/home/bureau/projects/def-bureau/basenji/manuscripts/akita/params.json\""
   ]
  },
  {
   "cell_type": "code",
   "execution_count": 10,
   "id": "active-transition",
   "metadata": {},
   "outputs": [
    {
     "data": {
      "text/plain": [
       "[{'name': 'one_to_two', 'operation': 'mean'},\n",
       " {'name': 'concat_dist_2d'},\n",
       " {'name': 'conv_block_2d', 'filters': 48, 'kernel_size': 3},\n",
       " {'name': 'symmetrize_2d'},\n",
       " {'name': 'dilated_residual_2d',\n",
       "  'filters': 24,\n",
       "  'kernel_size': 3,\n",
       "  'rate_mult': 1.75,\n",
       "  'repeat': 6,\n",
       "  'dropout': 0.1},\n",
       " {'name': 'cropping_2d', 'cropping': 32},\n",
       " {'name': 'upper_tri', 'diagonal_offset': 2}]"
      ]
     },
     "execution_count": 10,
     "metadata": {},
     "output_type": "execute_result"
    }
   ],
   "source": [
    "with open(params_file) as params_file:\n",
    "    params = json.load(params_file)   \n",
    "params_head = params['model']['head_hic']\n",
    "params_sans_final = params_head[:-1]\n",
    "params_sans_final"
   ]
  },
  {
   "cell_type": "code",
   "execution_count": 11,
   "id": "intelligent-hungarian",
   "metadata": {},
   "outputs": [
    {
     "data": {
      "text/plain": [
       "{'train': {'batch_size': 2,\n",
       "  'optimizer': 'sgd',\n",
       "  'learning_rate': 0.0065,\n",
       "  'momentum': 0.99575,\n",
       "  'loss': 'mse',\n",
       "  'patience': 12,\n",
       "  'clip_norm': 10.0},\n",
       " 'model': {'seq_length': 1048576,\n",
       "  'target_length': 512,\n",
       "  'target_crop': 32,\n",
       "  'diagonal_offset': 2,\n",
       "  'augment_rc': True,\n",
       "  'augment_shift': 11,\n",
       "  'activation': 'relu',\n",
       "  'batch_norm': True,\n",
       "  'bn_momentum': 0.9265,\n",
       "  'trunk': [{'name': 'conv_block',\n",
       "    'filters': 96,\n",
       "    'kernel_size': 11,\n",
       "    'pool_size': 2},\n",
       "   {'name': 'conv_tower',\n",
       "    'filters_init': 96,\n",
       "    'filters_mult': 1.0,\n",
       "    'kernel_size': 5,\n",
       "    'pool_size': 2,\n",
       "    'repeat': 10},\n",
       "   {'name': 'dilated_residual',\n",
       "    'filters': 48,\n",
       "    'rate_mult': 1.75,\n",
       "    'repeat': 8,\n",
       "    'dropout': 0.4},\n",
       "   {'name': 'conv_block', 'filters': 64, 'kernel_size': 5}],\n",
       "  'head_hic': [{'name': 'one_to_two', 'operation': 'mean'},\n",
       "   {'name': 'concat_dist_2d'},\n",
       "   {'name': 'conv_block_2d', 'filters': 48, 'kernel_size': 3},\n",
       "   {'name': 'symmetrize_2d'},\n",
       "   {'name': 'dilated_residual_2d',\n",
       "    'filters': 24,\n",
       "    'kernel_size': 3,\n",
       "    'rate_mult': 1.75,\n",
       "    'repeat': 6,\n",
       "    'dropout': 0.1},\n",
       "   {'name': 'cropping_2d', 'cropping': 32},\n",
       "   {'name': 'upper_tri', 'diagonal_offset': 2}]}}"
      ]
     },
     "execution_count": 11,
     "metadata": {},
     "output_type": "execute_result"
    }
   ],
   "source": [
    "params['model']['head_hic'] = params_sans_final\n",
    "params"
   ]
  },
  {
   "cell_type": "code",
   "execution_count": 12,
   "id": "spare-january",
   "metadata": {},
   "outputs": [],
   "source": [
    "with open('/home/bureau/projects/def-bureau/bureau/distiller/iPSC/data/1m/params_sans_final.json','w') as params_sans_final_file:\n",
    "    json.dump(params,params_sans_final_file) "
   ]
  },
  {
   "cell_type": "code",
   "execution_count": null,
   "id": "assumed-accommodation",
   "metadata": {},
   "outputs": [],
   "source": []
  }
 ],
 "metadata": {
  "kernelspec": {
   "display_name": "Python 3",
   "language": "python",
   "name": "python3"
  },
  "language_info": {
   "codemirror_mode": {
    "name": "ipython",
    "version": 3
   },
   "file_extension": ".py",
   "mimetype": "text/x-python",
   "name": "python",
   "nbconvert_exporter": "python",
   "pygments_lexer": "ipython3",
   "version": "3.8.2"
  }
 },
 "nbformat": 4,
 "nbformat_minor": 5
}
